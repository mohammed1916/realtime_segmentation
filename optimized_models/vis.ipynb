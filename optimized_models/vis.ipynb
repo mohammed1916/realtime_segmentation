{
 "cells": [
  {
   "cell_type": "markdown",
   "id": "dfba99db",
   "metadata": {},
   "source": [
    "# Visualize optimized models comparison results\n",
    "\n",
    "This notebook scans the `optimized_models` directory for `comparison_*.json` files, aggregates the reported metrics (fps, avg_inference_time_ms, model_size_mb, etc.), and renders interactive Plotly charts to compare variants (original, fp16, int8, batch) across models. Run the code cell below to produce the charts."
   ]
  },
  {
   "cell_type": "code",
   "execution_count": 14,
   "id": "a3397ef4",
   "metadata": {},
   "outputs": [
    {
     "name": "stdout",
     "output_type": "stream",
     "text": [
      "⚠️ Skipping seg_b0_ade\\20250910_211137_000015\\seg_b0_ade\\comparison_seg_b0_ade.json - invalid metrics format for variant checkpoint_filename\n",
      "⚠️ Skipping seg_b0_city\\20250910_211142_000016\\seg_b0_city\\comparison_seg_b0_city.json - invalid metrics format for variant checkpoint_filename\n",
      "⚠️ Skipping seg_b1_ade\\20250910_211148_000017\\seg_b1_ade\\comparison_seg_b1_ade.json - invalid metrics format for variant checkpoint_filename\n",
      "⚠️ Skipping seg_b1_city\\20250910_211154_000018\\seg_b1_city\\comparison_seg_b1_city.json - invalid metrics format for variant checkpoint_filename\n",
      "⚠️ Skipping seg_b2_ade\\20250910_211202_000019\\seg_b2_ade\\comparison_seg_b2_ade.json - invalid metrics format for variant checkpoint_filename\n",
      "⚠️ Skipping seg_b2_city\\20250910_211211_000020\\seg_b2_city\\comparison_seg_b2_city.json - invalid metrics format for variant checkpoint_filename\n",
      "⚠️ Skipping seg_b3_ade\\20250910_211222_000021\\seg_b3_ade\\comparison_seg_b3_ade.json - invalid metrics format for variant checkpoint_filename\n",
      "⚠️ Skipping seg_b3_city\\20250910_211237_000022\\seg_b3_city\\comparison_seg_b3_city.json - invalid metrics format for variant checkpoint_filename\n",
      "⚠️ Skipping seg_b4_ade\\20250910_211254_000023\\seg_b4_ade\\comparison_seg_b4_ade.json - invalid metrics format for variant checkpoint_filename\n",
      "⚠️ Skipping seg_b4_city\\20250910_211318_000024\\seg_b4_city\\comparison_seg_b4_city.json - invalid metrics format for variant checkpoint_filename\n",
      "⚠️ Skipping seg_b5_ade\\20250910_211346_000025\\seg_b5_ade\\comparison_seg_b5_ade.json - invalid metrics format for variant checkpoint_filename\n",
      "⚠️ Skipping seg_b5_city\\20250910_211419_000026\\seg_b5_city\\comparison_seg_b5_city.json - invalid metrics format for variant checkpoint_filename\n"
     ]
    },
    {
     "data": {
      "text/html": [
       "<div>\n",
       "<style scoped>\n",
       "    .dataframe tbody tr th:only-of-type {\n",
       "        vertical-align: middle;\n",
       "    }\n",
       "\n",
       "    .dataframe tbody tr th {\n",
       "        vertical-align: top;\n",
       "    }\n",
       "\n",
       "    .dataframe thead th {\n",
       "        text-align: right;\n",
       "    }\n",
       "</style>\n",
       "<table border=\"1\" class=\"dataframe\">\n",
       "  <thead>\n",
       "    <tr style=\"text-align: right;\">\n",
       "      <th></th>\n",
       "      <th>model</th>\n",
       "      <th>variant</th>\n",
       "      <th>filepath</th>\n",
       "      <th>session</th>\n",
       "      <th>avg_inference_time_ms</th>\n",
       "      <th>fps</th>\n",
       "      <th>model_size_mb</th>\n",
       "      <th>batch_size</th>\n",
       "    </tr>\n",
       "  </thead>\n",
       "  <tbody>\n",
       "    <tr>\n",
       "      <th>0</th>\n",
       "      <td>seg_b0_ade</td>\n",
       "      <td>original</td>\n",
       "      <td>seg_b0_ade\\20250910_211137_000015\\seg_b0_ade\\c...</td>\n",
       "      <td>seg_b0_ade\\20250910_211137_000015</td>\n",
       "      <td>83.865786</td>\n",
       "      <td>11.923814</td>\n",
       "      <td>14.329124</td>\n",
       "      <td>1</td>\n",
       "    </tr>\n",
       "    <tr>\n",
       "      <th>1</th>\n",
       "      <td>seg_b0_ade</td>\n",
       "      <td>fp16</td>\n",
       "      <td>seg_b0_ade\\20250910_211137_000015\\seg_b0_ade\\c...</td>\n",
       "      <td>seg_b0_ade\\20250910_211137_000015</td>\n",
       "      <td>45.358562</td>\n",
       "      <td>22.046554</td>\n",
       "      <td>7.164581</td>\n",
       "      <td>1</td>\n",
       "    </tr>\n",
       "    <tr>\n",
       "      <th>2</th>\n",
       "      <td>seg_b0_ade</td>\n",
       "      <td>int8</td>\n",
       "      <td>seg_b0_ade\\20250910_211137_000015\\seg_b0_ade\\c...</td>\n",
       "      <td>seg_b0_ade\\20250910_211137_000015</td>\n",
       "      <td>76.924610</td>\n",
       "      <td>12.999741</td>\n",
       "      <td>14.329124</td>\n",
       "      <td>1</td>\n",
       "    </tr>\n",
       "    <tr>\n",
       "      <th>3</th>\n",
       "      <td>seg_b0_ade</td>\n",
       "      <td>batch</td>\n",
       "      <td>seg_b0_ade\\20250910_211137_000015\\seg_b0_ade\\c...</td>\n",
       "      <td>seg_b0_ade\\20250910_211137_000015</td>\n",
       "      <td>73.013687</td>\n",
       "      <td>13.696062</td>\n",
       "      <td>14.329124</td>\n",
       "      <td>4</td>\n",
       "    </tr>\n",
       "    <tr>\n",
       "      <th>4</th>\n",
       "      <td>seg_b0_city</td>\n",
       "      <td>original</td>\n",
       "      <td>seg_b0_city\\20250910_211142_000016\\seg_b0_city...</td>\n",
       "      <td>seg_b0_city\\20250910_211142_000016</td>\n",
       "      <td>84.230804</td>\n",
       "      <td>11.872141</td>\n",
       "      <td>14.200695</td>\n",
       "      <td>1</td>\n",
       "    </tr>\n",
       "    <tr>\n",
       "      <th>5</th>\n",
       "      <td>seg_b0_city</td>\n",
       "      <td>fp16</td>\n",
       "      <td>seg_b0_city\\20250910_211142_000016\\seg_b0_city...</td>\n",
       "      <td>seg_b0_city\\20250910_211142_000016</td>\n",
       "      <td>44.147778</td>\n",
       "      <td>22.651197</td>\n",
       "      <td>7.100367</td>\n",
       "      <td>1</td>\n",
       "    </tr>\n",
       "    <tr>\n",
       "      <th>6</th>\n",
       "      <td>seg_b0_city</td>\n",
       "      <td>int8</td>\n",
       "      <td>seg_b0_city\\20250910_211142_000016\\seg_b0_city...</td>\n",
       "      <td>seg_b0_city\\20250910_211142_000016</td>\n",
       "      <td>74.379635</td>\n",
       "      <td>13.444540</td>\n",
       "      <td>14.200695</td>\n",
       "      <td>1</td>\n",
       "    </tr>\n",
       "    <tr>\n",
       "      <th>7</th>\n",
       "      <td>seg_b0_city</td>\n",
       "      <td>batch</td>\n",
       "      <td>seg_b0_city\\20250910_211142_000016\\seg_b0_city...</td>\n",
       "      <td>seg_b0_city\\20250910_211142_000016</td>\n",
       "      <td>69.979668</td>\n",
       "      <td>14.289865</td>\n",
       "      <td>14.200695</td>\n",
       "      <td>4</td>\n",
       "    </tr>\n",
       "    <tr>\n",
       "      <th>8</th>\n",
       "      <td>seg_b1_ade</td>\n",
       "      <td>original</td>\n",
       "      <td>seg_b1_ade\\20250910_211148_000017\\seg_b1_ade\\c...</td>\n",
       "      <td>seg_b1_ade\\20250910_211148_000017</td>\n",
       "      <td>115.400648</td>\n",
       "      <td>8.665463</td>\n",
       "      <td>52.335350</td>\n",
       "      <td>1</td>\n",
       "    </tr>\n",
       "    <tr>\n",
       "      <th>9</th>\n",
       "      <td>seg_b1_ade</td>\n",
       "      <td>fp16</td>\n",
       "      <td>seg_b1_ade\\20250910_211148_000017\\seg_b1_ade\\c...</td>\n",
       "      <td>seg_b1_ade\\20250910_211148_000017</td>\n",
       "      <td>55.618334</td>\n",
       "      <td>17.979683</td>\n",
       "      <td>26.167694</td>\n",
       "      <td>1</td>\n",
       "    </tr>\n",
       "    <tr>\n",
       "      <th>10</th>\n",
       "      <td>seg_b1_ade</td>\n",
       "      <td>int8</td>\n",
       "      <td>seg_b1_ade\\20250910_211148_000017\\seg_b1_ade\\c...</td>\n",
       "      <td>seg_b1_ade\\20250910_211148_000017</td>\n",
       "      <td>96.322012</td>\n",
       "      <td>10.381843</td>\n",
       "      <td>52.335350</td>\n",
       "      <td>1</td>\n",
       "    </tr>\n",
       "    <tr>\n",
       "      <th>11</th>\n",
       "      <td>seg_b1_ade</td>\n",
       "      <td>batch</td>\n",
       "      <td>seg_b1_ade\\20250910_211148_000017\\seg_b1_ade\\c...</td>\n",
       "      <td>seg_b1_ade\\20250910_211148_000017</td>\n",
       "      <td>90.242004</td>\n",
       "      <td>11.081314</td>\n",
       "      <td>52.335350</td>\n",
       "      <td>4</td>\n",
       "    </tr>\n",
       "    <tr>\n",
       "      <th>12</th>\n",
       "      <td>seg_b1_city</td>\n",
       "      <td>original</td>\n",
       "      <td>seg_b1_city\\20250910_211154_000018\\seg_b1_city...</td>\n",
       "      <td>seg_b1_city\\20250910_211154_000018</td>\n",
       "      <td>113.501120</td>\n",
       "      <td>8.810486</td>\n",
       "      <td>52.206921</td>\n",
       "      <td>1</td>\n",
       "    </tr>\n",
       "    <tr>\n",
       "      <th>13</th>\n",
       "      <td>seg_b1_city</td>\n",
       "      <td>fp16</td>\n",
       "      <td>seg_b1_city\\20250910_211154_000018\\seg_b1_city...</td>\n",
       "      <td>seg_b1_city\\20250910_211154_000018</td>\n",
       "      <td>53.704071</td>\n",
       "      <td>18.620562</td>\n",
       "      <td>26.103479</td>\n",
       "      <td>1</td>\n",
       "    </tr>\n",
       "    <tr>\n",
       "      <th>14</th>\n",
       "      <td>seg_b1_city</td>\n",
       "      <td>int8</td>\n",
       "      <td>seg_b1_city\\20250910_211154_000018\\seg_b1_city...</td>\n",
       "      <td>seg_b1_city\\20250910_211154_000018</td>\n",
       "      <td>95.007229</td>\n",
       "      <td>10.525515</td>\n",
       "      <td>52.206921</td>\n",
       "      <td>1</td>\n",
       "    </tr>\n",
       "    <tr>\n",
       "      <th>15</th>\n",
       "      <td>seg_b1_city</td>\n",
       "      <td>batch</td>\n",
       "      <td>seg_b1_city\\20250910_211154_000018\\seg_b1_city...</td>\n",
       "      <td>seg_b1_city\\20250910_211154_000018</td>\n",
       "      <td>87.326145</td>\n",
       "      <td>11.451324</td>\n",
       "      <td>52.206921</td>\n",
       "      <td>4</td>\n",
       "    </tr>\n",
       "    <tr>\n",
       "      <th>16</th>\n",
       "      <td>seg_b2_ade</td>\n",
       "      <td>original</td>\n",
       "      <td>seg_b2_ade\\20250910_211202_000019\\seg_b2_ade\\c...</td>\n",
       "      <td>seg_b2_ade\\20250910_211202_000019</td>\n",
       "      <td>176.397657</td>\n",
       "      <td>5.669010</td>\n",
       "      <td>94.468163</td>\n",
       "      <td>1</td>\n",
       "    </tr>\n",
       "    <tr>\n",
       "      <th>17</th>\n",
       "      <td>seg_b2_ade</td>\n",
       "      <td>fp16</td>\n",
       "      <td>seg_b2_ade\\20250910_211202_000019\\seg_b2_ade\\c...</td>\n",
       "      <td>seg_b2_ade\\20250910_211202_000019</td>\n",
       "      <td>77.516413</td>\n",
       "      <td>12.900494</td>\n",
       "      <td>47.234100</td>\n",
       "      <td>1</td>\n",
       "    </tr>\n",
       "    <tr>\n",
       "      <th>18</th>\n",
       "      <td>seg_b2_ade</td>\n",
       "      <td>int8</td>\n",
       "      <td>seg_b2_ade\\20250910_211202_000019\\seg_b2_ade\\c...</td>\n",
       "      <td>seg_b2_ade\\20250910_211202_000019</td>\n",
       "      <td>136.063910</td>\n",
       "      <td>7.349487</td>\n",
       "      <td>94.468163</td>\n",
       "      <td>1</td>\n",
       "    </tr>\n",
       "    <tr>\n",
       "      <th>19</th>\n",
       "      <td>seg_b2_ade</td>\n",
       "      <td>batch</td>\n",
       "      <td>seg_b2_ade\\20250910_211202_000019\\seg_b2_ade\\c...</td>\n",
       "      <td>seg_b2_ade\\20250910_211202_000019</td>\n",
       "      <td>122.536659</td>\n",
       "      <td>8.160823</td>\n",
       "      <td>94.468163</td>\n",
       "      <td>4</td>\n",
       "    </tr>\n",
       "    <tr>\n",
       "      <th>20</th>\n",
       "      <td>seg_b2_city</td>\n",
       "      <td>original</td>\n",
       "      <td>seg_b2_city\\20250910_211211_000020\\seg_b2_city...</td>\n",
       "      <td>seg_b2_city\\20250910_211211_000020</td>\n",
       "      <td>178.977537</td>\n",
       "      <td>5.587293</td>\n",
       "      <td>94.339733</td>\n",
       "      <td>1</td>\n",
       "    </tr>\n",
       "    <tr>\n",
       "      <th>21</th>\n",
       "      <td>seg_b2_city</td>\n",
       "      <td>fp16</td>\n",
       "      <td>seg_b2_city\\20250910_211211_000020\\seg_b2_city...</td>\n",
       "      <td>seg_b2_city\\20250910_211211_000020</td>\n",
       "      <td>77.774286</td>\n",
       "      <td>12.857720</td>\n",
       "      <td>47.169886</td>\n",
       "      <td>1</td>\n",
       "    </tr>\n",
       "    <tr>\n",
       "      <th>22</th>\n",
       "      <td>seg_b2_city</td>\n",
       "      <td>int8</td>\n",
       "      <td>seg_b2_city\\20250910_211211_000020\\seg_b2_city...</td>\n",
       "      <td>seg_b2_city\\20250910_211211_000020</td>\n",
       "      <td>136.526728</td>\n",
       "      <td>7.324573</td>\n",
       "      <td>94.339733</td>\n",
       "      <td>1</td>\n",
       "    </tr>\n",
       "    <tr>\n",
       "      <th>23</th>\n",
       "      <td>seg_b2_city</td>\n",
       "      <td>batch</td>\n",
       "      <td>seg_b2_city\\20250910_211211_000020\\seg_b2_city...</td>\n",
       "      <td>seg_b2_city\\20250910_211211_000020</td>\n",
       "      <td>120.247459</td>\n",
       "      <td>8.316184</td>\n",
       "      <td>94.339733</td>\n",
       "      <td>4</td>\n",
       "    </tr>\n",
       "    <tr>\n",
       "      <th>24</th>\n",
       "      <td>seg_b3_ade</td>\n",
       "      <td>original</td>\n",
       "      <td>seg_b3_ade\\20250910_211222_000021\\seg_b3_ade\\c...</td>\n",
       "      <td>seg_b3_ade\\20250910_211222_000021</td>\n",
       "      <td>249.582100</td>\n",
       "      <td>4.006698</td>\n",
       "      <td>170.288475</td>\n",
       "      <td>1</td>\n",
       "    </tr>\n",
       "    <tr>\n",
       "      <th>25</th>\n",
       "      <td>seg_b3_ade</td>\n",
       "      <td>fp16</td>\n",
       "      <td>seg_b3_ade\\20250910_211222_000021\\seg_b3_ade\\c...</td>\n",
       "      <td>seg_b3_ade\\20250910_211222_000021</td>\n",
       "      <td>101.510334</td>\n",
       "      <td>9.851214</td>\n",
       "      <td>85.144257</td>\n",
       "      <td>1</td>\n",
       "    </tr>\n",
       "    <tr>\n",
       "      <th>26</th>\n",
       "      <td>seg_b3_ade</td>\n",
       "      <td>int8</td>\n",
       "      <td>seg_b3_ade\\20250910_211222_000021\\seg_b3_ade\\c...</td>\n",
       "      <td>seg_b3_ade\\20250910_211222_000021</td>\n",
       "      <td>177.040863</td>\n",
       "      <td>5.648413</td>\n",
       "      <td>170.288475</td>\n",
       "      <td>1</td>\n",
       "    </tr>\n",
       "    <tr>\n",
       "      <th>27</th>\n",
       "      <td>seg_b3_ade</td>\n",
       "      <td>batch</td>\n",
       "      <td>seg_b3_ade\\20250910_211222_000021\\seg_b3_ade\\c...</td>\n",
       "      <td>seg_b3_ade\\20250910_211222_000021</td>\n",
       "      <td>155.823278</td>\n",
       "      <td>6.417526</td>\n",
       "      <td>170.288475</td>\n",
       "      <td>4</td>\n",
       "    </tr>\n",
       "    <tr>\n",
       "      <th>28</th>\n",
       "      <td>seg_b3_city</td>\n",
       "      <td>original</td>\n",
       "      <td>seg_b3_city\\20250910_211237_000022\\seg_b3_city...</td>\n",
       "      <td>seg_b3_city\\20250910_211237_000022</td>\n",
       "      <td>250.088501</td>\n",
       "      <td>3.998584</td>\n",
       "      <td>170.160046</td>\n",
       "      <td>1</td>\n",
       "    </tr>\n",
       "    <tr>\n",
       "      <th>29</th>\n",
       "      <td>seg_b3_city</td>\n",
       "      <td>fp16</td>\n",
       "      <td>seg_b3_city\\20250910_211237_000022\\seg_b3_city...</td>\n",
       "      <td>seg_b3_city\\20250910_211237_000022</td>\n",
       "      <td>102.746439</td>\n",
       "      <td>9.732697</td>\n",
       "      <td>85.080042</td>\n",
       "      <td>1</td>\n",
       "    </tr>\n",
       "    <tr>\n",
       "      <th>30</th>\n",
       "      <td>seg_b3_city</td>\n",
       "      <td>int8</td>\n",
       "      <td>seg_b3_city\\20250910_211237_000022\\seg_b3_city...</td>\n",
       "      <td>seg_b3_city\\20250910_211237_000022</td>\n",
       "      <td>182.484293</td>\n",
       "      <td>5.479924</td>\n",
       "      <td>170.160046</td>\n",
       "      <td>1</td>\n",
       "    </tr>\n",
       "    <tr>\n",
       "      <th>31</th>\n",
       "      <td>seg_b3_city</td>\n",
       "      <td>batch</td>\n",
       "      <td>seg_b3_city\\20250910_211237_000022\\seg_b3_city...</td>\n",
       "      <td>seg_b3_city\\20250910_211237_000022</td>\n",
       "      <td>159.500694</td>\n",
       "      <td>6.269565</td>\n",
       "      <td>170.160046</td>\n",
       "      <td>4</td>\n",
       "    </tr>\n",
       "    <tr>\n",
       "      <th>32</th>\n",
       "      <td>seg_b4_ade</td>\n",
       "      <td>original</td>\n",
       "      <td>seg_b4_ade\\20250910_211254_000023\\seg_b4_ade\\c...</td>\n",
       "      <td>seg_b4_ade\\20250910_211254_000023</td>\n",
       "      <td>309.820986</td>\n",
       "      <td>3.227670</td>\n",
       "      <td>234.263084</td>\n",
       "      <td>1</td>\n",
       "    </tr>\n",
       "    <tr>\n",
       "      <th>33</th>\n",
       "      <td>seg_b4_ade</td>\n",
       "      <td>fp16</td>\n",
       "      <td>seg_b4_ade\\20250910_211254_000023\\seg_b4_ade\\c...</td>\n",
       "      <td>seg_b4_ade\\20250910_211254_000023</td>\n",
       "      <td>124.849367</td>\n",
       "      <td>8.009652</td>\n",
       "      <td>117.131561</td>\n",
       "      <td>1</td>\n",
       "    </tr>\n",
       "    <tr>\n",
       "      <th>34</th>\n",
       "      <td>seg_b4_ade</td>\n",
       "      <td>int8</td>\n",
       "      <td>seg_b4_ade\\20250910_211254_000023\\seg_b4_ade\\c...</td>\n",
       "      <td>seg_b4_ade\\20250910_211254_000023</td>\n",
       "      <td>221.792221</td>\n",
       "      <td>4.508724</td>\n",
       "      <td>234.263084</td>\n",
       "      <td>1</td>\n",
       "    </tr>\n",
       "    <tr>\n",
       "      <th>35</th>\n",
       "      <td>seg_b4_ade</td>\n",
       "      <td>batch</td>\n",
       "      <td>seg_b4_ade\\20250910_211254_000023\\seg_b4_ade\\c...</td>\n",
       "      <td>seg_b4_ade\\20250910_211254_000023</td>\n",
       "      <td>215.703535</td>\n",
       "      <td>4.635993</td>\n",
       "      <td>234.263084</td>\n",
       "      <td>4</td>\n",
       "    </tr>\n",
       "    <tr>\n",
       "      <th>36</th>\n",
       "      <td>seg_b4_city</td>\n",
       "      <td>original</td>\n",
       "      <td>seg_b4_city\\20250910_211318_000024\\seg_b4_city...</td>\n",
       "      <td>seg_b4_city\\20250910_211318_000024</td>\n",
       "      <td>314.164639</td>\n",
       "      <td>3.183044</td>\n",
       "      <td>234.134655</td>\n",
       "      <td>1</td>\n",
       "    </tr>\n",
       "    <tr>\n",
       "      <th>37</th>\n",
       "      <td>seg_b4_city</td>\n",
       "      <td>fp16</td>\n",
       "      <td>seg_b4_city\\20250910_211318_000024\\seg_b4_city...</td>\n",
       "      <td>seg_b4_city\\20250910_211318_000024</td>\n",
       "      <td>128.604650</td>\n",
       "      <td>7.775769</td>\n",
       "      <td>117.067347</td>\n",
       "      <td>1</td>\n",
       "    </tr>\n",
       "    <tr>\n",
       "      <th>38</th>\n",
       "      <td>seg_b4_city</td>\n",
       "      <td>int8</td>\n",
       "      <td>seg_b4_city\\20250910_211318_000024\\seg_b4_city...</td>\n",
       "      <td>seg_b4_city\\20250910_211318_000024</td>\n",
       "      <td>224.776173</td>\n",
       "      <td>4.448870</td>\n",
       "      <td>234.134655</td>\n",
       "      <td>1</td>\n",
       "    </tr>\n",
       "    <tr>\n",
       "      <th>39</th>\n",
       "      <td>seg_b4_city</td>\n",
       "      <td>batch</td>\n",
       "      <td>seg_b4_city\\20250910_211318_000024\\seg_b4_city...</td>\n",
       "      <td>seg_b4_city\\20250910_211318_000024</td>\n",
       "      <td>214.521980</td>\n",
       "      <td>4.661527</td>\n",
       "      <td>234.134655</td>\n",
       "      <td>4</td>\n",
       "    </tr>\n",
       "    <tr>\n",
       "      <th>40</th>\n",
       "      <td>seg_b5_ade</td>\n",
       "      <td>original</td>\n",
       "      <td>seg_b5_ade\\20250910_211346_000025\\seg_b5_ade\\c...</td>\n",
       "      <td>seg_b5_ade\\20250910_211346_000025</td>\n",
       "      <td>356.624460</td>\n",
       "      <td>2.804070</td>\n",
       "      <td>312.847069</td>\n",
       "      <td>1</td>\n",
       "    </tr>\n",
       "    <tr>\n",
       "      <th>41</th>\n",
       "      <td>seg_b5_ade</td>\n",
       "      <td>fp16</td>\n",
       "      <td>seg_b5_ade\\20250910_211346_000025\\seg_b5_ade\\c...</td>\n",
       "      <td>seg_b5_ade\\20250910_211346_000025</td>\n",
       "      <td>142.294025</td>\n",
       "      <td>7.027702</td>\n",
       "      <td>156.423553</td>\n",
       "      <td>1</td>\n",
       "    </tr>\n",
       "    <tr>\n",
       "      <th>42</th>\n",
       "      <td>seg_b5_ade</td>\n",
       "      <td>int8</td>\n",
       "      <td>seg_b5_ade\\20250910_211346_000025\\seg_b5_ade\\c...</td>\n",
       "      <td>seg_b5_ade\\20250910_211346_000025</td>\n",
       "      <td>257.611132</td>\n",
       "      <td>3.881820</td>\n",
       "      <td>312.847069</td>\n",
       "      <td>1</td>\n",
       "    </tr>\n",
       "    <tr>\n",
       "      <th>43</th>\n",
       "      <td>seg_b5_ade</td>\n",
       "      <td>batch</td>\n",
       "      <td>seg_b5_ade\\20250910_211346_000025\\seg_b5_ade\\c...</td>\n",
       "      <td>seg_b5_ade\\20250910_211346_000025</td>\n",
       "      <td>256.997347</td>\n",
       "      <td>3.891091</td>\n",
       "      <td>312.847069</td>\n",
       "      <td>4</td>\n",
       "    </tr>\n",
       "    <tr>\n",
       "      <th>44</th>\n",
       "      <td>seg_b5_city</td>\n",
       "      <td>original</td>\n",
       "      <td>seg_b5_city\\20250910_211419_000026\\seg_b5_city...</td>\n",
       "      <td>seg_b5_city\\20250910_211419_000026</td>\n",
       "      <td>356.730223</td>\n",
       "      <td>2.803239</td>\n",
       "      <td>312.718639</td>\n",
       "      <td>1</td>\n",
       "    </tr>\n",
       "    <tr>\n",
       "      <th>45</th>\n",
       "      <td>seg_b5_city</td>\n",
       "      <td>fp16</td>\n",
       "      <td>seg_b5_city\\20250910_211419_000026\\seg_b5_city...</td>\n",
       "      <td>seg_b5_city\\20250910_211419_000026</td>\n",
       "      <td>141.958570</td>\n",
       "      <td>7.044309</td>\n",
       "      <td>156.359339</td>\n",
       "      <td>1</td>\n",
       "    </tr>\n",
       "    <tr>\n",
       "      <th>46</th>\n",
       "      <td>seg_b5_city</td>\n",
       "      <td>int8</td>\n",
       "      <td>seg_b5_city\\20250910_211419_000026\\seg_b5_city...</td>\n",
       "      <td>seg_b5_city\\20250910_211419_000026</td>\n",
       "      <td>258.673620</td>\n",
       "      <td>3.865875</td>\n",
       "      <td>312.718639</td>\n",
       "      <td>1</td>\n",
       "    </tr>\n",
       "    <tr>\n",
       "      <th>47</th>\n",
       "      <td>seg_b5_city</td>\n",
       "      <td>batch</td>\n",
       "      <td>seg_b5_city\\20250910_211419_000026\\seg_b5_city...</td>\n",
       "      <td>seg_b5_city\\20250910_211419_000026</td>\n",
       "      <td>257.189894</td>\n",
       "      <td>3.888178</td>\n",
       "      <td>312.718639</td>\n",
       "      <td>4</td>\n",
       "    </tr>\n",
       "  </tbody>\n",
       "</table>\n",
       "</div>"
      ],
      "text/plain": [
       "          model   variant                                           filepath  \\\n",
       "0    seg_b0_ade  original  seg_b0_ade\\20250910_211137_000015\\seg_b0_ade\\c...   \n",
       "1    seg_b0_ade      fp16  seg_b0_ade\\20250910_211137_000015\\seg_b0_ade\\c...   \n",
       "2    seg_b0_ade      int8  seg_b0_ade\\20250910_211137_000015\\seg_b0_ade\\c...   \n",
       "3    seg_b0_ade     batch  seg_b0_ade\\20250910_211137_000015\\seg_b0_ade\\c...   \n",
       "4   seg_b0_city  original  seg_b0_city\\20250910_211142_000016\\seg_b0_city...   \n",
       "5   seg_b0_city      fp16  seg_b0_city\\20250910_211142_000016\\seg_b0_city...   \n",
       "6   seg_b0_city      int8  seg_b0_city\\20250910_211142_000016\\seg_b0_city...   \n",
       "7   seg_b0_city     batch  seg_b0_city\\20250910_211142_000016\\seg_b0_city...   \n",
       "8    seg_b1_ade  original  seg_b1_ade\\20250910_211148_000017\\seg_b1_ade\\c...   \n",
       "9    seg_b1_ade      fp16  seg_b1_ade\\20250910_211148_000017\\seg_b1_ade\\c...   \n",
       "10   seg_b1_ade      int8  seg_b1_ade\\20250910_211148_000017\\seg_b1_ade\\c...   \n",
       "11   seg_b1_ade     batch  seg_b1_ade\\20250910_211148_000017\\seg_b1_ade\\c...   \n",
       "12  seg_b1_city  original  seg_b1_city\\20250910_211154_000018\\seg_b1_city...   \n",
       "13  seg_b1_city      fp16  seg_b1_city\\20250910_211154_000018\\seg_b1_city...   \n",
       "14  seg_b1_city      int8  seg_b1_city\\20250910_211154_000018\\seg_b1_city...   \n",
       "15  seg_b1_city     batch  seg_b1_city\\20250910_211154_000018\\seg_b1_city...   \n",
       "16   seg_b2_ade  original  seg_b2_ade\\20250910_211202_000019\\seg_b2_ade\\c...   \n",
       "17   seg_b2_ade      fp16  seg_b2_ade\\20250910_211202_000019\\seg_b2_ade\\c...   \n",
       "18   seg_b2_ade      int8  seg_b2_ade\\20250910_211202_000019\\seg_b2_ade\\c...   \n",
       "19   seg_b2_ade     batch  seg_b2_ade\\20250910_211202_000019\\seg_b2_ade\\c...   \n",
       "20  seg_b2_city  original  seg_b2_city\\20250910_211211_000020\\seg_b2_city...   \n",
       "21  seg_b2_city      fp16  seg_b2_city\\20250910_211211_000020\\seg_b2_city...   \n",
       "22  seg_b2_city      int8  seg_b2_city\\20250910_211211_000020\\seg_b2_city...   \n",
       "23  seg_b2_city     batch  seg_b2_city\\20250910_211211_000020\\seg_b2_city...   \n",
       "24   seg_b3_ade  original  seg_b3_ade\\20250910_211222_000021\\seg_b3_ade\\c...   \n",
       "25   seg_b3_ade      fp16  seg_b3_ade\\20250910_211222_000021\\seg_b3_ade\\c...   \n",
       "26   seg_b3_ade      int8  seg_b3_ade\\20250910_211222_000021\\seg_b3_ade\\c...   \n",
       "27   seg_b3_ade     batch  seg_b3_ade\\20250910_211222_000021\\seg_b3_ade\\c...   \n",
       "28  seg_b3_city  original  seg_b3_city\\20250910_211237_000022\\seg_b3_city...   \n",
       "29  seg_b3_city      fp16  seg_b3_city\\20250910_211237_000022\\seg_b3_city...   \n",
       "30  seg_b3_city      int8  seg_b3_city\\20250910_211237_000022\\seg_b3_city...   \n",
       "31  seg_b3_city     batch  seg_b3_city\\20250910_211237_000022\\seg_b3_city...   \n",
       "32   seg_b4_ade  original  seg_b4_ade\\20250910_211254_000023\\seg_b4_ade\\c...   \n",
       "33   seg_b4_ade      fp16  seg_b4_ade\\20250910_211254_000023\\seg_b4_ade\\c...   \n",
       "34   seg_b4_ade      int8  seg_b4_ade\\20250910_211254_000023\\seg_b4_ade\\c...   \n",
       "35   seg_b4_ade     batch  seg_b4_ade\\20250910_211254_000023\\seg_b4_ade\\c...   \n",
       "36  seg_b4_city  original  seg_b4_city\\20250910_211318_000024\\seg_b4_city...   \n",
       "37  seg_b4_city      fp16  seg_b4_city\\20250910_211318_000024\\seg_b4_city...   \n",
       "38  seg_b4_city      int8  seg_b4_city\\20250910_211318_000024\\seg_b4_city...   \n",
       "39  seg_b4_city     batch  seg_b4_city\\20250910_211318_000024\\seg_b4_city...   \n",
       "40   seg_b5_ade  original  seg_b5_ade\\20250910_211346_000025\\seg_b5_ade\\c...   \n",
       "41   seg_b5_ade      fp16  seg_b5_ade\\20250910_211346_000025\\seg_b5_ade\\c...   \n",
       "42   seg_b5_ade      int8  seg_b5_ade\\20250910_211346_000025\\seg_b5_ade\\c...   \n",
       "43   seg_b5_ade     batch  seg_b5_ade\\20250910_211346_000025\\seg_b5_ade\\c...   \n",
       "44  seg_b5_city  original  seg_b5_city\\20250910_211419_000026\\seg_b5_city...   \n",
       "45  seg_b5_city      fp16  seg_b5_city\\20250910_211419_000026\\seg_b5_city...   \n",
       "46  seg_b5_city      int8  seg_b5_city\\20250910_211419_000026\\seg_b5_city...   \n",
       "47  seg_b5_city     batch  seg_b5_city\\20250910_211419_000026\\seg_b5_city...   \n",
       "\n",
       "                               session  avg_inference_time_ms        fps  \\\n",
       "0    seg_b0_ade\\20250910_211137_000015              83.865786  11.923814   \n",
       "1    seg_b0_ade\\20250910_211137_000015              45.358562  22.046554   \n",
       "2    seg_b0_ade\\20250910_211137_000015              76.924610  12.999741   \n",
       "3    seg_b0_ade\\20250910_211137_000015              73.013687  13.696062   \n",
       "4   seg_b0_city\\20250910_211142_000016              84.230804  11.872141   \n",
       "5   seg_b0_city\\20250910_211142_000016              44.147778  22.651197   \n",
       "6   seg_b0_city\\20250910_211142_000016              74.379635  13.444540   \n",
       "7   seg_b0_city\\20250910_211142_000016              69.979668  14.289865   \n",
       "8    seg_b1_ade\\20250910_211148_000017             115.400648   8.665463   \n",
       "9    seg_b1_ade\\20250910_211148_000017              55.618334  17.979683   \n",
       "10   seg_b1_ade\\20250910_211148_000017              96.322012  10.381843   \n",
       "11   seg_b1_ade\\20250910_211148_000017              90.242004  11.081314   \n",
       "12  seg_b1_city\\20250910_211154_000018             113.501120   8.810486   \n",
       "13  seg_b1_city\\20250910_211154_000018              53.704071  18.620562   \n",
       "14  seg_b1_city\\20250910_211154_000018              95.007229  10.525515   \n",
       "15  seg_b1_city\\20250910_211154_000018              87.326145  11.451324   \n",
       "16   seg_b2_ade\\20250910_211202_000019             176.397657   5.669010   \n",
       "17   seg_b2_ade\\20250910_211202_000019              77.516413  12.900494   \n",
       "18   seg_b2_ade\\20250910_211202_000019             136.063910   7.349487   \n",
       "19   seg_b2_ade\\20250910_211202_000019             122.536659   8.160823   \n",
       "20  seg_b2_city\\20250910_211211_000020             178.977537   5.587293   \n",
       "21  seg_b2_city\\20250910_211211_000020              77.774286  12.857720   \n",
       "22  seg_b2_city\\20250910_211211_000020             136.526728   7.324573   \n",
       "23  seg_b2_city\\20250910_211211_000020             120.247459   8.316184   \n",
       "24   seg_b3_ade\\20250910_211222_000021             249.582100   4.006698   \n",
       "25   seg_b3_ade\\20250910_211222_000021             101.510334   9.851214   \n",
       "26   seg_b3_ade\\20250910_211222_000021             177.040863   5.648413   \n",
       "27   seg_b3_ade\\20250910_211222_000021             155.823278   6.417526   \n",
       "28  seg_b3_city\\20250910_211237_000022             250.088501   3.998584   \n",
       "29  seg_b3_city\\20250910_211237_000022             102.746439   9.732697   \n",
       "30  seg_b3_city\\20250910_211237_000022             182.484293   5.479924   \n",
       "31  seg_b3_city\\20250910_211237_000022             159.500694   6.269565   \n",
       "32   seg_b4_ade\\20250910_211254_000023             309.820986   3.227670   \n",
       "33   seg_b4_ade\\20250910_211254_000023             124.849367   8.009652   \n",
       "34   seg_b4_ade\\20250910_211254_000023             221.792221   4.508724   \n",
       "35   seg_b4_ade\\20250910_211254_000023             215.703535   4.635993   \n",
       "36  seg_b4_city\\20250910_211318_000024             314.164639   3.183044   \n",
       "37  seg_b4_city\\20250910_211318_000024             128.604650   7.775769   \n",
       "38  seg_b4_city\\20250910_211318_000024             224.776173   4.448870   \n",
       "39  seg_b4_city\\20250910_211318_000024             214.521980   4.661527   \n",
       "40   seg_b5_ade\\20250910_211346_000025             356.624460   2.804070   \n",
       "41   seg_b5_ade\\20250910_211346_000025             142.294025   7.027702   \n",
       "42   seg_b5_ade\\20250910_211346_000025             257.611132   3.881820   \n",
       "43   seg_b5_ade\\20250910_211346_000025             256.997347   3.891091   \n",
       "44  seg_b5_city\\20250910_211419_000026             356.730223   2.803239   \n",
       "45  seg_b5_city\\20250910_211419_000026             141.958570   7.044309   \n",
       "46  seg_b5_city\\20250910_211419_000026             258.673620   3.865875   \n",
       "47  seg_b5_city\\20250910_211419_000026             257.189894   3.888178   \n",
       "\n",
       "    model_size_mb  batch_size  \n",
       "0       14.329124           1  \n",
       "1        7.164581           1  \n",
       "2       14.329124           1  \n",
       "3       14.329124           4  \n",
       "4       14.200695           1  \n",
       "5        7.100367           1  \n",
       "6       14.200695           1  \n",
       "7       14.200695           4  \n",
       "8       52.335350           1  \n",
       "9       26.167694           1  \n",
       "10      52.335350           1  \n",
       "11      52.335350           4  \n",
       "12      52.206921           1  \n",
       "13      26.103479           1  \n",
       "14      52.206921           1  \n",
       "15      52.206921           4  \n",
       "16      94.468163           1  \n",
       "17      47.234100           1  \n",
       "18      94.468163           1  \n",
       "19      94.468163           4  \n",
       "20      94.339733           1  \n",
       "21      47.169886           1  \n",
       "22      94.339733           1  \n",
       "23      94.339733           4  \n",
       "24     170.288475           1  \n",
       "25      85.144257           1  \n",
       "26     170.288475           1  \n",
       "27     170.288475           4  \n",
       "28     170.160046           1  \n",
       "29      85.080042           1  \n",
       "30     170.160046           1  \n",
       "31     170.160046           4  \n",
       "32     234.263084           1  \n",
       "33     117.131561           1  \n",
       "34     234.263084           1  \n",
       "35     234.263084           4  \n",
       "36     234.134655           1  \n",
       "37     117.067347           1  \n",
       "38     234.134655           1  \n",
       "39     234.134655           4  \n",
       "40     312.847069           1  \n",
       "41     156.423553           1  \n",
       "42     312.847069           1  \n",
       "43     312.847069           4  \n",
       "44     312.718639           1  \n",
       "45     156.359339           1  \n",
       "46     312.718639           1  \n",
       "47     312.718639           4  "
      ]
     },
     "metadata": {},
     "output_type": "display_data"
    },
    {
     "data": {
      "application/vnd.plotly.v1+json": {
       "config": {
        "plotlyServerURL": "https://plot.ly"
       },
       "data": [
        {
         "alignmentgroup": "True",
         "hovertemplate": "variant=original<br>model=%{x}<br>fps=%{y}<extra></extra>",
         "legendgroup": "original",
         "marker": {
          "color": "#636efa",
          "pattern": {
           "shape": ""
          }
         },
         "name": "original",
         "offsetgroup": "original",
         "orientation": "v",
         "showlegend": true,
         "textposition": "auto",
         "type": "bar",
         "x": [
          "seg_b0_ade",
          "seg_b0_city",
          "seg_b1_ade",
          "seg_b1_city",
          "seg_b2_ade",
          "seg_b2_city",
          "seg_b3_ade",
          "seg_b3_city",
          "seg_b4_ade",
          "seg_b4_city",
          "seg_b5_ade",
          "seg_b5_city"
         ],
         "xaxis": "x",
         "y": {
          "bdata": "ldypGv7YJ0BmdhlJib4nQD0De4O3VCFAU+/h/feeIUDckz7VEK0WQCSeX2xjWRZAj44hvNsGEEBWL9vcGf0PQJtc7dBE0glAtKdY/t92CUDch05TvG4GQOIfP3YIbQZA",
          "dtype": "f8"
         },
         "yaxis": "y"
        },
        {
         "alignmentgroup": "True",
         "hovertemplate": "variant=fp16<br>model=%{x}<br>fps=%{y}<extra></extra>",
         "legendgroup": "fp16",
         "marker": {
          "color": "#EF553B",
          "pattern": {
           "shape": ""
          }
         },
         "name": "fp16",
         "offsetgroup": "fp16",
         "orientation": "v",
         "showlegend": true,
         "textposition": "auto",
         "type": "bar",
         "x": [
          "seg_b0_ade",
          "seg_b0_city",
          "seg_b1_ade",
          "seg_b1_city",
          "seg_b2_ade",
          "seg_b2_city",
          "seg_b3_ade",
          "seg_b3_city",
          "seg_b4_ade",
          "seg_b4_city",
          "seg_b5_ade",
          "seg_b5_city"
         ],
         "xaxis": "x",
         "y": {
          "bdata": "Qyqu9+oLNkDjpDvWtKY2QOFH+33M+jFAGjOLK92eMkC1gymFDc0pQNVDHRUntylAx2R7StKzI0BVyD0dJHcjQMzP4h/xBCBAV//TE2MaH0CGIm7mXRwcQPzdy0VfLRxA",
          "dtype": "f8"
         },
         "yaxis": "y"
        },
        {
         "alignmentgroup": "True",
         "hovertemplate": "variant=int8<br>model=%{x}<br>fps=%{y}<extra></extra>",
         "legendgroup": "int8",
         "marker": {
          "color": "#00cc96",
          "pattern": {
           "shape": ""
          }
         },
         "name": "int8",
         "offsetgroup": "int8",
         "orientation": "v",
         "showlegend": true,
         "textposition": "auto",
         "type": "bar",
         "x": [
          "seg_b0_ade",
          "seg_b0_city",
          "seg_b1_ade",
          "seg_b1_city",
          "seg_b2_ade",
          "seg_b2_city",
          "seg_b3_ade",
          "seg_b3_city",
          "seg_b4_ade",
          "seg_b4_city",
          "seg_b5_ade",
          "seg_b5_city"
         ],
         "xaxis": "x",
         "y": {
          "bdata": "b/bFCd7/KUDtmwTKmuMqQH9QEeuAwyRAsYb1SBANJUCiePkL4GUdQGv8g+VcTB1AeI0StfmXFkCZ75MdcesVQPSV6gzvCBJAEZtknKTLEUC50W6O9w0PQLW3rBxQ7Q5A",
          "dtype": "f8"
         },
         "yaxis": "y"
        },
        {
         "alignmentgroup": "True",
         "hovertemplate": "variant=batch<br>model=%{x}<br>fps=%{y}<extra></extra>",
         "legendgroup": "batch",
         "marker": {
          "color": "#ab63fa",
          "pattern": {
           "shape": ""
          }
         },
         "name": "batch",
         "offsetgroup": "batch",
         "orientation": "v",
         "showlegend": true,
         "textposition": "auto",
         "type": "bar",
         "x": [
          "seg_b0_ade",
          "seg_b0_city",
          "seg_b1_ade",
          "seg_b1_city",
          "seg_b2_ade",
          "seg_b2_city",
          "seg_b3_ade",
          "seg_b3_city",
          "seg_b4_ade",
          "seg_b4_city",
          "seg_b5_ade",
          "seg_b5_city"
         ],
         "xaxis": "x",
         "y": {
          "bdata": "2bOOQ2JkK0A6k60taZQsQF/SCAKiKSZA18Be9xPnJkBG9PRnV1IgQDvwFd/ioSBAoKEVCYyrGUDiZ2vlCBQZQNlYQadBixJAc9B5VGelEkDJiFEw9CAPQN1+B+T8Gg9A",
          "dtype": "f8"
         },
         "yaxis": "y"
        }
       ],
       "layout": {
        "barmode": "group",
        "legend": {
         "title": {
          "text": "variant"
         },
         "tracegroupgap": 0
        },
        "template": {
         "data": {
          "bar": [
           {
            "error_x": {
             "color": "#2a3f5f"
            },
            "error_y": {
             "color": "#2a3f5f"
            },
            "marker": {
             "line": {
              "color": "#E5ECF6",
              "width": 0.5
             },
             "pattern": {
              "fillmode": "overlay",
              "size": 10,
              "solidity": 0.2
             }
            },
            "type": "bar"
           }
          ],
          "barpolar": [
           {
            "marker": {
             "line": {
              "color": "#E5ECF6",
              "width": 0.5
             },
             "pattern": {
              "fillmode": "overlay",
              "size": 10,
              "solidity": 0.2
             }
            },
            "type": "barpolar"
           }
          ],
          "carpet": [
           {
            "aaxis": {
             "endlinecolor": "#2a3f5f",
             "gridcolor": "white",
             "linecolor": "white",
             "minorgridcolor": "white",
             "startlinecolor": "#2a3f5f"
            },
            "baxis": {
             "endlinecolor": "#2a3f5f",
             "gridcolor": "white",
             "linecolor": "white",
             "minorgridcolor": "white",
             "startlinecolor": "#2a3f5f"
            },
            "type": "carpet"
           }
          ],
          "choropleth": [
           {
            "colorbar": {
             "outlinewidth": 0,
             "ticks": ""
            },
            "type": "choropleth"
           }
          ],
          "contour": [
           {
            "colorbar": {
             "outlinewidth": 0,
             "ticks": ""
            },
            "colorscale": [
             [
              0,
              "#0d0887"
             ],
             [
              0.1111111111111111,
              "#46039f"
             ],
             [
              0.2222222222222222,
              "#7201a8"
             ],
             [
              0.3333333333333333,
              "#9c179e"
             ],
             [
              0.4444444444444444,
              "#bd3786"
             ],
             [
              0.5555555555555556,
              "#d8576b"
             ],
             [
              0.6666666666666666,
              "#ed7953"
             ],
             [
              0.7777777777777778,
              "#fb9f3a"
             ],
             [
              0.8888888888888888,
              "#fdca26"
             ],
             [
              1,
              "#f0f921"
             ]
            ],
            "type": "contour"
           }
          ],
          "contourcarpet": [
           {
            "colorbar": {
             "outlinewidth": 0,
             "ticks": ""
            },
            "type": "contourcarpet"
           }
          ],
          "heatmap": [
           {
            "colorbar": {
             "outlinewidth": 0,
             "ticks": ""
            },
            "colorscale": [
             [
              0,
              "#0d0887"
             ],
             [
              0.1111111111111111,
              "#46039f"
             ],
             [
              0.2222222222222222,
              "#7201a8"
             ],
             [
              0.3333333333333333,
              "#9c179e"
             ],
             [
              0.4444444444444444,
              "#bd3786"
             ],
             [
              0.5555555555555556,
              "#d8576b"
             ],
             [
              0.6666666666666666,
              "#ed7953"
             ],
             [
              0.7777777777777778,
              "#fb9f3a"
             ],
             [
              0.8888888888888888,
              "#fdca26"
             ],
             [
              1,
              "#f0f921"
             ]
            ],
            "type": "heatmap"
           }
          ],
          "histogram": [
           {
            "marker": {
             "pattern": {
              "fillmode": "overlay",
              "size": 10,
              "solidity": 0.2
             }
            },
            "type": "histogram"
           }
          ],
          "histogram2d": [
           {
            "colorbar": {
             "outlinewidth": 0,
             "ticks": ""
            },
            "colorscale": [
             [
              0,
              "#0d0887"
             ],
             [
              0.1111111111111111,
              "#46039f"
             ],
             [
              0.2222222222222222,
              "#7201a8"
             ],
             [
              0.3333333333333333,
              "#9c179e"
             ],
             [
              0.4444444444444444,
              "#bd3786"
             ],
             [
              0.5555555555555556,
              "#d8576b"
             ],
             [
              0.6666666666666666,
              "#ed7953"
             ],
             [
              0.7777777777777778,
              "#fb9f3a"
             ],
             [
              0.8888888888888888,
              "#fdca26"
             ],
             [
              1,
              "#f0f921"
             ]
            ],
            "type": "histogram2d"
           }
          ],
          "histogram2dcontour": [
           {
            "colorbar": {
             "outlinewidth": 0,
             "ticks": ""
            },
            "colorscale": [
             [
              0,
              "#0d0887"
             ],
             [
              0.1111111111111111,
              "#46039f"
             ],
             [
              0.2222222222222222,
              "#7201a8"
             ],
             [
              0.3333333333333333,
              "#9c179e"
             ],
             [
              0.4444444444444444,
              "#bd3786"
             ],
             [
              0.5555555555555556,
              "#d8576b"
             ],
             [
              0.6666666666666666,
              "#ed7953"
             ],
             [
              0.7777777777777778,
              "#fb9f3a"
             ],
             [
              0.8888888888888888,
              "#fdca26"
             ],
             [
              1,
              "#f0f921"
             ]
            ],
            "type": "histogram2dcontour"
           }
          ],
          "mesh3d": [
           {
            "colorbar": {
             "outlinewidth": 0,
             "ticks": ""
            },
            "type": "mesh3d"
           }
          ],
          "parcoords": [
           {
            "line": {
             "colorbar": {
              "outlinewidth": 0,
              "ticks": ""
             }
            },
            "type": "parcoords"
           }
          ],
          "pie": [
           {
            "automargin": true,
            "type": "pie"
           }
          ],
          "scatter": [
           {
            "fillpattern": {
             "fillmode": "overlay",
             "size": 10,
             "solidity": 0.2
            },
            "type": "scatter"
           }
          ],
          "scatter3d": [
           {
            "line": {
             "colorbar": {
              "outlinewidth": 0,
              "ticks": ""
             }
            },
            "marker": {
             "colorbar": {
              "outlinewidth": 0,
              "ticks": ""
             }
            },
            "type": "scatter3d"
           }
          ],
          "scattercarpet": [
           {
            "marker": {
             "colorbar": {
              "outlinewidth": 0,
              "ticks": ""
             }
            },
            "type": "scattercarpet"
           }
          ],
          "scattergeo": [
           {
            "marker": {
             "colorbar": {
              "outlinewidth": 0,
              "ticks": ""
             }
            },
            "type": "scattergeo"
           }
          ],
          "scattergl": [
           {
            "marker": {
             "colorbar": {
              "outlinewidth": 0,
              "ticks": ""
             }
            },
            "type": "scattergl"
           }
          ],
          "scattermap": [
           {
            "marker": {
             "colorbar": {
              "outlinewidth": 0,
              "ticks": ""
             }
            },
            "type": "scattermap"
           }
          ],
          "scattermapbox": [
           {
            "marker": {
             "colorbar": {
              "outlinewidth": 0,
              "ticks": ""
             }
            },
            "type": "scattermapbox"
           }
          ],
          "scatterpolar": [
           {
            "marker": {
             "colorbar": {
              "outlinewidth": 0,
              "ticks": ""
             }
            },
            "type": "scatterpolar"
           }
          ],
          "scatterpolargl": [
           {
            "marker": {
             "colorbar": {
              "outlinewidth": 0,
              "ticks": ""
             }
            },
            "type": "scatterpolargl"
           }
          ],
          "scatterternary": [
           {
            "marker": {
             "colorbar": {
              "outlinewidth": 0,
              "ticks": ""
             }
            },
            "type": "scatterternary"
           }
          ],
          "surface": [
           {
            "colorbar": {
             "outlinewidth": 0,
             "ticks": ""
            },
            "colorscale": [
             [
              0,
              "#0d0887"
             ],
             [
              0.1111111111111111,
              "#46039f"
             ],
             [
              0.2222222222222222,
              "#7201a8"
             ],
             [
              0.3333333333333333,
              "#9c179e"
             ],
             [
              0.4444444444444444,
              "#bd3786"
             ],
             [
              0.5555555555555556,
              "#d8576b"
             ],
             [
              0.6666666666666666,
              "#ed7953"
             ],
             [
              0.7777777777777778,
              "#fb9f3a"
             ],
             [
              0.8888888888888888,
              "#fdca26"
             ],
             [
              1,
              "#f0f921"
             ]
            ],
            "type": "surface"
           }
          ],
          "table": [
           {
            "cells": {
             "fill": {
              "color": "#EBF0F8"
             },
             "line": {
              "color": "white"
             }
            },
            "header": {
             "fill": {
              "color": "#C8D4E3"
             },
             "line": {
              "color": "white"
             }
            },
            "type": "table"
           }
          ]
         },
         "layout": {
          "annotationdefaults": {
           "arrowcolor": "#2a3f5f",
           "arrowhead": 0,
           "arrowwidth": 1
          },
          "autotypenumbers": "strict",
          "coloraxis": {
           "colorbar": {
            "outlinewidth": 0,
            "ticks": ""
           }
          },
          "colorscale": {
           "diverging": [
            [
             0,
             "#8e0152"
            ],
            [
             0.1,
             "#c51b7d"
            ],
            [
             0.2,
             "#de77ae"
            ],
            [
             0.3,
             "#f1b6da"
            ],
            [
             0.4,
             "#fde0ef"
            ],
            [
             0.5,
             "#f7f7f7"
            ],
            [
             0.6,
             "#e6f5d0"
            ],
            [
             0.7,
             "#b8e186"
            ],
            [
             0.8,
             "#7fbc41"
            ],
            [
             0.9,
             "#4d9221"
            ],
            [
             1,
             "#276419"
            ]
           ],
           "sequential": [
            [
             0,
             "#0d0887"
            ],
            [
             0.1111111111111111,
             "#46039f"
            ],
            [
             0.2222222222222222,
             "#7201a8"
            ],
            [
             0.3333333333333333,
             "#9c179e"
            ],
            [
             0.4444444444444444,
             "#bd3786"
            ],
            [
             0.5555555555555556,
             "#d8576b"
            ],
            [
             0.6666666666666666,
             "#ed7953"
            ],
            [
             0.7777777777777778,
             "#fb9f3a"
            ],
            [
             0.8888888888888888,
             "#fdca26"
            ],
            [
             1,
             "#f0f921"
            ]
           ],
           "sequentialminus": [
            [
             0,
             "#0d0887"
            ],
            [
             0.1111111111111111,
             "#46039f"
            ],
            [
             0.2222222222222222,
             "#7201a8"
            ],
            [
             0.3333333333333333,
             "#9c179e"
            ],
            [
             0.4444444444444444,
             "#bd3786"
            ],
            [
             0.5555555555555556,
             "#d8576b"
            ],
            [
             0.6666666666666666,
             "#ed7953"
            ],
            [
             0.7777777777777778,
             "#fb9f3a"
            ],
            [
             0.8888888888888888,
             "#fdca26"
            ],
            [
             1,
             "#f0f921"
            ]
           ]
          },
          "colorway": [
           "#636efa",
           "#EF553B",
           "#00cc96",
           "#ab63fa",
           "#FFA15A",
           "#19d3f3",
           "#FF6692",
           "#B6E880",
           "#FF97FF",
           "#FECB52"
          ],
          "font": {
           "color": "#2a3f5f"
          },
          "geo": {
           "bgcolor": "white",
           "lakecolor": "white",
           "landcolor": "#E5ECF6",
           "showlakes": true,
           "showland": true,
           "subunitcolor": "white"
          },
          "hoverlabel": {
           "align": "left"
          },
          "hovermode": "closest",
          "mapbox": {
           "style": "light"
          },
          "paper_bgcolor": "white",
          "plot_bgcolor": "#E5ECF6",
          "polar": {
           "angularaxis": {
            "gridcolor": "white",
            "linecolor": "white",
            "ticks": ""
           },
           "bgcolor": "#E5ECF6",
           "radialaxis": {
            "gridcolor": "white",
            "linecolor": "white",
            "ticks": ""
           }
          },
          "scene": {
           "xaxis": {
            "backgroundcolor": "#E5ECF6",
            "gridcolor": "white",
            "gridwidth": 2,
            "linecolor": "white",
            "showbackground": true,
            "ticks": "",
            "zerolinecolor": "white"
           },
           "yaxis": {
            "backgroundcolor": "#E5ECF6",
            "gridcolor": "white",
            "gridwidth": 2,
            "linecolor": "white",
            "showbackground": true,
            "ticks": "",
            "zerolinecolor": "white"
           },
           "zaxis": {
            "backgroundcolor": "#E5ECF6",
            "gridcolor": "white",
            "gridwidth": 2,
            "linecolor": "white",
            "showbackground": true,
            "ticks": "",
            "zerolinecolor": "white"
           }
          },
          "shapedefaults": {
           "line": {
            "color": "#2a3f5f"
           }
          },
          "ternary": {
           "aaxis": {
            "gridcolor": "white",
            "linecolor": "white",
            "ticks": ""
           },
           "baxis": {
            "gridcolor": "white",
            "linecolor": "white",
            "ticks": ""
           },
           "bgcolor": "#E5ECF6",
           "caxis": {
            "gridcolor": "white",
            "linecolor": "white",
            "ticks": ""
           }
          },
          "title": {
           "x": 0.05
          },
          "xaxis": {
           "automargin": true,
           "gridcolor": "white",
           "linecolor": "white",
           "ticks": "",
           "title": {
            "standoff": 15
           },
           "zerolinecolor": "white",
           "zerolinewidth": 2
          },
          "yaxis": {
           "automargin": true,
           "gridcolor": "white",
           "linecolor": "white",
           "ticks": "",
           "title": {
            "standoff": 15
           },
           "zerolinecolor": "white",
           "zerolinewidth": 2
          }
         }
        },
        "title": {
         "text": "FPS by model and variant"
        },
        "xaxis": {
         "anchor": "y",
         "domain": [
          0,
          1
         ],
         "title": {
          "text": "model"
         }
        },
        "yaxis": {
         "anchor": "x",
         "domain": [
          0,
          1
         ],
         "title": {
          "text": "fps"
         }
        }
       }
      }
     },
     "metadata": {},
     "output_type": "display_data"
    },
    {
     "data": {
      "application/vnd.plotly.v1+json": {
       "config": {
        "plotlyServerURL": "https://plot.ly"
       },
       "data": [
        {
         "alignmentgroup": "True",
         "hovertemplate": "variant=original<br>model=%{x}<br>avg_inference_time_ms=%{y}<extra></extra>",
         "legendgroup": "original",
         "marker": {
          "color": "#636efa",
          "pattern": {
           "shape": ""
          }
         },
         "name": "original",
         "offsetgroup": "original",
         "orientation": "v",
         "showlegend": true,
         "textposition": "auto",
         "type": "bar",
         "x": [
          "seg_b0_ade",
          "seg_b0_city",
          "seg_b1_ade",
          "seg_b1_city",
          "seg_b2_ade",
          "seg_b2_city",
          "seg_b3_ade",
          "seg_b3_city",
          "seg_b4_ade",
          "seg_b4_city",
          "seg_b5_ade",
          "seg_b5_city"
         ],
         "xaxis": "x",
         "y": {
          "bdata": "AAAACGn3VEAAAACAxQ5VQAAAADik2VxAAAAAWBJgXEAAAACcuQxmQAAAAPxHX2ZAAAAAkKAyb0AAAAAA1UJvQAAAAMIiXXNAAAAAXKKic0AAAADK/Ul2QAAAAP6uS3ZA",
          "dtype": "f8"
         },
         "yaxis": "y"
        },
        {
         "alignmentgroup": "True",
         "hovertemplate": "variant=fp16<br>model=%{x}<br>avg_inference_time_ms=%{y}<extra></extra>",
         "legendgroup": "fp16",
         "marker": {
          "color": "#EF553B",
          "pattern": {
           "shape": ""
          }
         },
         "name": "fp16",
         "offsetgroup": "fp16",
         "orientation": "v",
         "showlegend": true,
         "textposition": "auto",
         "type": "bar",
         "x": [
          "seg_b0_ade",
          "seg_b0_city",
          "seg_b1_ade",
          "seg_b1_city",
          "seg_b2_ade",
          "seg_b2_city",
          "seg_b3_ade",
          "seg_b3_city",
          "seg_b4_ade",
          "seg_b4_city",
          "seg_b5_ade",
          "seg_b5_city"
         ],
         "xaxis": "x",
         "y": {
          "bdata": "AAAAYOWtRkAAAABg6hJGQAAAAJAlz0tAAAAAAB/aSkAAAADoDGFTQAAAAOiNcVNAAAAAUKlgWUAAAACoxa9ZQAAAAAhcNl9AAAAATFkTYEAAAACoaMlhQAAAAJysvmFA",
          "dtype": "f8"
         },
         "yaxis": "y"
        },
        {
         "alignmentgroup": "True",
         "hovertemplate": "variant=int8<br>model=%{x}<br>avg_inference_time_ms=%{y}<extra></extra>",
         "legendgroup": "int8",
         "marker": {
          "color": "#00cc96",
          "pattern": {
           "shape": ""
          }
         },
         "name": "int8",
         "offsetgroup": "int8",
         "orientation": "v",
         "showlegend": true,
         "textposition": "auto",
         "type": "bar",
         "x": [
          "seg_b0_ade",
          "seg_b0_city",
          "seg_b1_ade",
          "seg_b1_city",
          "seg_b2_ade",
          "seg_b2_city",
          "seg_b3_ade",
          "seg_b3_city",
          "seg_b4_ade",
          "seg_b4_city",
          "seg_b5_ade",
          "seg_b5_city"
         ],
         "xaxis": "x",
         "y": {
          "bdata": "AAAA0Cw7U0AAAADwS5hSQAAAANibFFhAAAAAcHbAV0AAAACMCwJhQAAAAPTaEGFAAAAAwE4hZkAAAABUf89mQAAAAOBZuWtAAAAAaNYYbEAAAAAyxxlwQAAAACbHKnBA",
          "dtype": "f8"
         },
         "yaxis": "y"
        },
        {
         "alignmentgroup": "True",
         "hovertemplate": "variant=batch<br>model=%{x}<br>avg_inference_time_ms=%{y}<extra></extra>",
         "legendgroup": "batch",
         "marker": {
          "color": "#ab63fa",
          "pattern": {
           "shape": ""
          }
         },
         "name": "batch",
         "offsetgroup": "batch",
         "orientation": "v",
         "showlegend": true,
         "textposition": "auto",
         "type": "bar",
         "x": [
          "seg_b0_ade",
          "seg_b0_city",
          "seg_b1_ade",
          "seg_b1_city",
          "seg_b2_ade",
          "seg_b2_city",
          "seg_b3_ade",
          "seg_b3_city",
          "seg_b4_ade",
          "seg_b4_city",
          "seg_b5_ade",
          "seg_b5_city"
         ],
         "xaxis": "x",
         "y": {
          "bdata": "AAAAQOBAUkAAAADgsn5RQAAAAAB9j1ZAAAAAkN/UVUAAAACgWKJeQAAAAGDWD15AAAAATFh6Y0AAAACwBfBjQAAAAFyD9mpAAAAAELTQakAAAAAi9Q9wQAAAAM4JE3BA",
          "dtype": "f8"
         },
         "yaxis": "y"
        }
       ],
       "layout": {
        "barmode": "group",
        "legend": {
         "title": {
          "text": "variant"
         },
         "tracegroupgap": 0
        },
        "template": {
         "data": {
          "bar": [
           {
            "error_x": {
             "color": "#2a3f5f"
            },
            "error_y": {
             "color": "#2a3f5f"
            },
            "marker": {
             "line": {
              "color": "#E5ECF6",
              "width": 0.5
             },
             "pattern": {
              "fillmode": "overlay",
              "size": 10,
              "solidity": 0.2
             }
            },
            "type": "bar"
           }
          ],
          "barpolar": [
           {
            "marker": {
             "line": {
              "color": "#E5ECF6",
              "width": 0.5
             },
             "pattern": {
              "fillmode": "overlay",
              "size": 10,
              "solidity": 0.2
             }
            },
            "type": "barpolar"
           }
          ],
          "carpet": [
           {
            "aaxis": {
             "endlinecolor": "#2a3f5f",
             "gridcolor": "white",
             "linecolor": "white",
             "minorgridcolor": "white",
             "startlinecolor": "#2a3f5f"
            },
            "baxis": {
             "endlinecolor": "#2a3f5f",
             "gridcolor": "white",
             "linecolor": "white",
             "minorgridcolor": "white",
             "startlinecolor": "#2a3f5f"
            },
            "type": "carpet"
           }
          ],
          "choropleth": [
           {
            "colorbar": {
             "outlinewidth": 0,
             "ticks": ""
            },
            "type": "choropleth"
           }
          ],
          "contour": [
           {
            "colorbar": {
             "outlinewidth": 0,
             "ticks": ""
            },
            "colorscale": [
             [
              0,
              "#0d0887"
             ],
             [
              0.1111111111111111,
              "#46039f"
             ],
             [
              0.2222222222222222,
              "#7201a8"
             ],
             [
              0.3333333333333333,
              "#9c179e"
             ],
             [
              0.4444444444444444,
              "#bd3786"
             ],
             [
              0.5555555555555556,
              "#d8576b"
             ],
             [
              0.6666666666666666,
              "#ed7953"
             ],
             [
              0.7777777777777778,
              "#fb9f3a"
             ],
             [
              0.8888888888888888,
              "#fdca26"
             ],
             [
              1,
              "#f0f921"
             ]
            ],
            "type": "contour"
           }
          ],
          "contourcarpet": [
           {
            "colorbar": {
             "outlinewidth": 0,
             "ticks": ""
            },
            "type": "contourcarpet"
           }
          ],
          "heatmap": [
           {
            "colorbar": {
             "outlinewidth": 0,
             "ticks": ""
            },
            "colorscale": [
             [
              0,
              "#0d0887"
             ],
             [
              0.1111111111111111,
              "#46039f"
             ],
             [
              0.2222222222222222,
              "#7201a8"
             ],
             [
              0.3333333333333333,
              "#9c179e"
             ],
             [
              0.4444444444444444,
              "#bd3786"
             ],
             [
              0.5555555555555556,
              "#d8576b"
             ],
             [
              0.6666666666666666,
              "#ed7953"
             ],
             [
              0.7777777777777778,
              "#fb9f3a"
             ],
             [
              0.8888888888888888,
              "#fdca26"
             ],
             [
              1,
              "#f0f921"
             ]
            ],
            "type": "heatmap"
           }
          ],
          "histogram": [
           {
            "marker": {
             "pattern": {
              "fillmode": "overlay",
              "size": 10,
              "solidity": 0.2
             }
            },
            "type": "histogram"
           }
          ],
          "histogram2d": [
           {
            "colorbar": {
             "outlinewidth": 0,
             "ticks": ""
            },
            "colorscale": [
             [
              0,
              "#0d0887"
             ],
             [
              0.1111111111111111,
              "#46039f"
             ],
             [
              0.2222222222222222,
              "#7201a8"
             ],
             [
              0.3333333333333333,
              "#9c179e"
             ],
             [
              0.4444444444444444,
              "#bd3786"
             ],
             [
              0.5555555555555556,
              "#d8576b"
             ],
             [
              0.6666666666666666,
              "#ed7953"
             ],
             [
              0.7777777777777778,
              "#fb9f3a"
             ],
             [
              0.8888888888888888,
              "#fdca26"
             ],
             [
              1,
              "#f0f921"
             ]
            ],
            "type": "histogram2d"
           }
          ],
          "histogram2dcontour": [
           {
            "colorbar": {
             "outlinewidth": 0,
             "ticks": ""
            },
            "colorscale": [
             [
              0,
              "#0d0887"
             ],
             [
              0.1111111111111111,
              "#46039f"
             ],
             [
              0.2222222222222222,
              "#7201a8"
             ],
             [
              0.3333333333333333,
              "#9c179e"
             ],
             [
              0.4444444444444444,
              "#bd3786"
             ],
             [
              0.5555555555555556,
              "#d8576b"
             ],
             [
              0.6666666666666666,
              "#ed7953"
             ],
             [
              0.7777777777777778,
              "#fb9f3a"
             ],
             [
              0.8888888888888888,
              "#fdca26"
             ],
             [
              1,
              "#f0f921"
             ]
            ],
            "type": "histogram2dcontour"
           }
          ],
          "mesh3d": [
           {
            "colorbar": {
             "outlinewidth": 0,
             "ticks": ""
            },
            "type": "mesh3d"
           }
          ],
          "parcoords": [
           {
            "line": {
             "colorbar": {
              "outlinewidth": 0,
              "ticks": ""
             }
            },
            "type": "parcoords"
           }
          ],
          "pie": [
           {
            "automargin": true,
            "type": "pie"
           }
          ],
          "scatter": [
           {
            "fillpattern": {
             "fillmode": "overlay",
             "size": 10,
             "solidity": 0.2
            },
            "type": "scatter"
           }
          ],
          "scatter3d": [
           {
            "line": {
             "colorbar": {
              "outlinewidth": 0,
              "ticks": ""
             }
            },
            "marker": {
             "colorbar": {
              "outlinewidth": 0,
              "ticks": ""
             }
            },
            "type": "scatter3d"
           }
          ],
          "scattercarpet": [
           {
            "marker": {
             "colorbar": {
              "outlinewidth": 0,
              "ticks": ""
             }
            },
            "type": "scattercarpet"
           }
          ],
          "scattergeo": [
           {
            "marker": {
             "colorbar": {
              "outlinewidth": 0,
              "ticks": ""
             }
            },
            "type": "scattergeo"
           }
          ],
          "scattergl": [
           {
            "marker": {
             "colorbar": {
              "outlinewidth": 0,
              "ticks": ""
             }
            },
            "type": "scattergl"
           }
          ],
          "scattermap": [
           {
            "marker": {
             "colorbar": {
              "outlinewidth": 0,
              "ticks": ""
             }
            },
            "type": "scattermap"
           }
          ],
          "scattermapbox": [
           {
            "marker": {
             "colorbar": {
              "outlinewidth": 0,
              "ticks": ""
             }
            },
            "type": "scattermapbox"
           }
          ],
          "scatterpolar": [
           {
            "marker": {
             "colorbar": {
              "outlinewidth": 0,
              "ticks": ""
             }
            },
            "type": "scatterpolar"
           }
          ],
          "scatterpolargl": [
           {
            "marker": {
             "colorbar": {
              "outlinewidth": 0,
              "ticks": ""
             }
            },
            "type": "scatterpolargl"
           }
          ],
          "scatterternary": [
           {
            "marker": {
             "colorbar": {
              "outlinewidth": 0,
              "ticks": ""
             }
            },
            "type": "scatterternary"
           }
          ],
          "surface": [
           {
            "colorbar": {
             "outlinewidth": 0,
             "ticks": ""
            },
            "colorscale": [
             [
              0,
              "#0d0887"
             ],
             [
              0.1111111111111111,
              "#46039f"
             ],
             [
              0.2222222222222222,
              "#7201a8"
             ],
             [
              0.3333333333333333,
              "#9c179e"
             ],
             [
              0.4444444444444444,
              "#bd3786"
             ],
             [
              0.5555555555555556,
              "#d8576b"
             ],
             [
              0.6666666666666666,
              "#ed7953"
             ],
             [
              0.7777777777777778,
              "#fb9f3a"
             ],
             [
              0.8888888888888888,
              "#fdca26"
             ],
             [
              1,
              "#f0f921"
             ]
            ],
            "type": "surface"
           }
          ],
          "table": [
           {
            "cells": {
             "fill": {
              "color": "#EBF0F8"
             },
             "line": {
              "color": "white"
             }
            },
            "header": {
             "fill": {
              "color": "#C8D4E3"
             },
             "line": {
              "color": "white"
             }
            },
            "type": "table"
           }
          ]
         },
         "layout": {
          "annotationdefaults": {
           "arrowcolor": "#2a3f5f",
           "arrowhead": 0,
           "arrowwidth": 1
          },
          "autotypenumbers": "strict",
          "coloraxis": {
           "colorbar": {
            "outlinewidth": 0,
            "ticks": ""
           }
          },
          "colorscale": {
           "diverging": [
            [
             0,
             "#8e0152"
            ],
            [
             0.1,
             "#c51b7d"
            ],
            [
             0.2,
             "#de77ae"
            ],
            [
             0.3,
             "#f1b6da"
            ],
            [
             0.4,
             "#fde0ef"
            ],
            [
             0.5,
             "#f7f7f7"
            ],
            [
             0.6,
             "#e6f5d0"
            ],
            [
             0.7,
             "#b8e186"
            ],
            [
             0.8,
             "#7fbc41"
            ],
            [
             0.9,
             "#4d9221"
            ],
            [
             1,
             "#276419"
            ]
           ],
           "sequential": [
            [
             0,
             "#0d0887"
            ],
            [
             0.1111111111111111,
             "#46039f"
            ],
            [
             0.2222222222222222,
             "#7201a8"
            ],
            [
             0.3333333333333333,
             "#9c179e"
            ],
            [
             0.4444444444444444,
             "#bd3786"
            ],
            [
             0.5555555555555556,
             "#d8576b"
            ],
            [
             0.6666666666666666,
             "#ed7953"
            ],
            [
             0.7777777777777778,
             "#fb9f3a"
            ],
            [
             0.8888888888888888,
             "#fdca26"
            ],
            [
             1,
             "#f0f921"
            ]
           ],
           "sequentialminus": [
            [
             0,
             "#0d0887"
            ],
            [
             0.1111111111111111,
             "#46039f"
            ],
            [
             0.2222222222222222,
             "#7201a8"
            ],
            [
             0.3333333333333333,
             "#9c179e"
            ],
            [
             0.4444444444444444,
             "#bd3786"
            ],
            [
             0.5555555555555556,
             "#d8576b"
            ],
            [
             0.6666666666666666,
             "#ed7953"
            ],
            [
             0.7777777777777778,
             "#fb9f3a"
            ],
            [
             0.8888888888888888,
             "#fdca26"
            ],
            [
             1,
             "#f0f921"
            ]
           ]
          },
          "colorway": [
           "#636efa",
           "#EF553B",
           "#00cc96",
           "#ab63fa",
           "#FFA15A",
           "#19d3f3",
           "#FF6692",
           "#B6E880",
           "#FF97FF",
           "#FECB52"
          ],
          "font": {
           "color": "#2a3f5f"
          },
          "geo": {
           "bgcolor": "white",
           "lakecolor": "white",
           "landcolor": "#E5ECF6",
           "showlakes": true,
           "showland": true,
           "subunitcolor": "white"
          },
          "hoverlabel": {
           "align": "left"
          },
          "hovermode": "closest",
          "mapbox": {
           "style": "light"
          },
          "paper_bgcolor": "white",
          "plot_bgcolor": "#E5ECF6",
          "polar": {
           "angularaxis": {
            "gridcolor": "white",
            "linecolor": "white",
            "ticks": ""
           },
           "bgcolor": "#E5ECF6",
           "radialaxis": {
            "gridcolor": "white",
            "linecolor": "white",
            "ticks": ""
           }
          },
          "scene": {
           "xaxis": {
            "backgroundcolor": "#E5ECF6",
            "gridcolor": "white",
            "gridwidth": 2,
            "linecolor": "white",
            "showbackground": true,
            "ticks": "",
            "zerolinecolor": "white"
           },
           "yaxis": {
            "backgroundcolor": "#E5ECF6",
            "gridcolor": "white",
            "gridwidth": 2,
            "linecolor": "white",
            "showbackground": true,
            "ticks": "",
            "zerolinecolor": "white"
           },
           "zaxis": {
            "backgroundcolor": "#E5ECF6",
            "gridcolor": "white",
            "gridwidth": 2,
            "linecolor": "white",
            "showbackground": true,
            "ticks": "",
            "zerolinecolor": "white"
           }
          },
          "shapedefaults": {
           "line": {
            "color": "#2a3f5f"
           }
          },
          "ternary": {
           "aaxis": {
            "gridcolor": "white",
            "linecolor": "white",
            "ticks": ""
           },
           "baxis": {
            "gridcolor": "white",
            "linecolor": "white",
            "ticks": ""
           },
           "bgcolor": "#E5ECF6",
           "caxis": {
            "gridcolor": "white",
            "linecolor": "white",
            "ticks": ""
           }
          },
          "title": {
           "x": 0.05
          },
          "xaxis": {
           "automargin": true,
           "gridcolor": "white",
           "linecolor": "white",
           "ticks": "",
           "title": {
            "standoff": 15
           },
           "zerolinecolor": "white",
           "zerolinewidth": 2
          },
          "yaxis": {
           "automargin": true,
           "gridcolor": "white",
           "linecolor": "white",
           "ticks": "",
           "title": {
            "standoff": 15
           },
           "zerolinecolor": "white",
           "zerolinewidth": 2
          }
         }
        },
        "title": {
         "text": "Avg inference time (ms) by model and variant"
        },
        "xaxis": {
         "anchor": "y",
         "domain": [
          0,
          1
         ],
         "title": {
          "text": "model"
         }
        },
        "yaxis": {
         "anchor": "x",
         "domain": [
          0,
          1
         ],
         "title": {
          "text": "avg_inference_time_ms"
         },
         "type": "log"
        }
       }
      }
     },
     "metadata": {},
     "output_type": "display_data"
    },
    {
     "data": {
      "application/vnd.plotly.v1+json": {
       "config": {
        "plotlyServerURL": "https://plot.ly"
       },
       "data": [
        {
         "customdata": [
          [
           "seg_b0_ade",
           "seg_b0_ade\\20250910_211137_000015\\seg_b0_ade\\comparison_seg_b0_ade.json",
           "seg_b0_ade\\20250910_211137_000015"
          ],
          [
           "seg_b0_city",
           "seg_b0_city\\20250910_211142_000016\\seg_b0_city\\comparison_seg_b0_city.json",
           "seg_b0_city\\20250910_211142_000016"
          ],
          [
           "seg_b1_ade",
           "seg_b1_ade\\20250910_211148_000017\\seg_b1_ade\\comparison_seg_b1_ade.json",
           "seg_b1_ade\\20250910_211148_000017"
          ],
          [
           "seg_b1_city",
           "seg_b1_city\\20250910_211154_000018\\seg_b1_city\\comparison_seg_b1_city.json",
           "seg_b1_city\\20250910_211154_000018"
          ],
          [
           "seg_b2_ade",
           "seg_b2_ade\\20250910_211202_000019\\seg_b2_ade\\comparison_seg_b2_ade.json",
           "seg_b2_ade\\20250910_211202_000019"
          ],
          [
           "seg_b2_city",
           "seg_b2_city\\20250910_211211_000020\\seg_b2_city\\comparison_seg_b2_city.json",
           "seg_b2_city\\20250910_211211_000020"
          ],
          [
           "seg_b3_ade",
           "seg_b3_ade\\20250910_211222_000021\\seg_b3_ade\\comparison_seg_b3_ade.json",
           "seg_b3_ade\\20250910_211222_000021"
          ],
          [
           "seg_b3_city",
           "seg_b3_city\\20250910_211237_000022\\seg_b3_city\\comparison_seg_b3_city.json",
           "seg_b3_city\\20250910_211237_000022"
          ],
          [
           "seg_b4_ade",
           "seg_b4_ade\\20250910_211254_000023\\seg_b4_ade\\comparison_seg_b4_ade.json",
           "seg_b4_ade\\20250910_211254_000023"
          ],
          [
           "seg_b4_city",
           "seg_b4_city\\20250910_211318_000024\\seg_b4_city\\comparison_seg_b4_city.json",
           "seg_b4_city\\20250910_211318_000024"
          ],
          [
           "seg_b5_ade",
           "seg_b5_ade\\20250910_211346_000025\\seg_b5_ade\\comparison_seg_b5_ade.json",
           "seg_b5_ade\\20250910_211346_000025"
          ],
          [
           "seg_b5_city",
           "seg_b5_city\\20250910_211419_000026\\seg_b5_city\\comparison_seg_b5_city.json",
           "seg_b5_city\\20250910_211419_000026"
          ]
         ],
         "hovertemplate": "variant=original<br>model_size_mb=%{x}<br>fps=%{marker.size}<br>model=%{customdata[0]}<br>filepath=%{customdata[1]}<br>session=%{customdata[2]}<extra></extra>",
         "legendgroup": "original",
         "marker": {
          "color": "#636efa",
          "size": {
           "bdata": "ldypGv7YJ0BmdhlJib4nQD0De4O3VCFAU+/h/feeIUDckz7VEK0WQCSeX2xjWRZAj44hvNsGEEBWL9vcGf0PQJtc7dBE0glAtKdY/t92CUDch05TvG4GQOIfP3YIbQZA",
           "dtype": "f8"
          },
          "sizemode": "area",
          "sizeref": 0.056627992128280506,
          "symbol": "circle"
         },
         "mode": "markers",
         "name": "original",
         "orientation": "v",
         "showlegend": true,
         "type": "scatter",
         "x": {
          "bdata": "AAAAAIOoLEAAAACAwWYsQAAAAMDsKkpAAAAAYHwaSkAAAABg9p1XQAAAADC+lVdAAAAAMDtJZUAAAAAYH0VlQAAAADBrSG1AAAAAGE9EbUAAAACYjY1zQAAAAIx/i3NA",
          "dtype": "f8"
         },
         "xaxis": "x",
         "y": {
          "bdata": "ldypGv7YJ0BmdhlJib4nQD0De4O3VCFAU+/h/feeIUDckz7VEK0WQCSeX2xjWRZAj44hvNsGEEBWL9vcGf0PQJtc7dBE0glAtKdY/t92CUDch05TvG4GQOIfP3YIbQZA",
          "dtype": "f8"
         },
         "yaxis": "y"
        },
        {
         "customdata": [
          [
           "seg_b0_ade",
           "seg_b0_ade\\20250910_211137_000015\\seg_b0_ade\\comparison_seg_b0_ade.json",
           "seg_b0_ade\\20250910_211137_000015"
          ],
          [
           "seg_b0_city",
           "seg_b0_city\\20250910_211142_000016\\seg_b0_city\\comparison_seg_b0_city.json",
           "seg_b0_city\\20250910_211142_000016"
          ],
          [
           "seg_b1_ade",
           "seg_b1_ade\\20250910_211148_000017\\seg_b1_ade\\comparison_seg_b1_ade.json",
           "seg_b1_ade\\20250910_211148_000017"
          ],
          [
           "seg_b1_city",
           "seg_b1_city\\20250910_211154_000018\\seg_b1_city\\comparison_seg_b1_city.json",
           "seg_b1_city\\20250910_211154_000018"
          ],
          [
           "seg_b2_ade",
           "seg_b2_ade\\20250910_211202_000019\\seg_b2_ade\\comparison_seg_b2_ade.json",
           "seg_b2_ade\\20250910_211202_000019"
          ],
          [
           "seg_b2_city",
           "seg_b2_city\\20250910_211211_000020\\seg_b2_city\\comparison_seg_b2_city.json",
           "seg_b2_city\\20250910_211211_000020"
          ],
          [
           "seg_b3_ade",
           "seg_b3_ade\\20250910_211222_000021\\seg_b3_ade\\comparison_seg_b3_ade.json",
           "seg_b3_ade\\20250910_211222_000021"
          ],
          [
           "seg_b3_city",
           "seg_b3_city\\20250910_211237_000022\\seg_b3_city\\comparison_seg_b3_city.json",
           "seg_b3_city\\20250910_211237_000022"
          ],
          [
           "seg_b4_ade",
           "seg_b4_ade\\20250910_211254_000023\\seg_b4_ade\\comparison_seg_b4_ade.json",
           "seg_b4_ade\\20250910_211254_000023"
          ],
          [
           "seg_b4_city",
           "seg_b4_city\\20250910_211318_000024\\seg_b4_city\\comparison_seg_b4_city.json",
           "seg_b4_city\\20250910_211318_000024"
          ],
          [
           "seg_b5_ade",
           "seg_b5_ade\\20250910_211346_000025\\seg_b5_ade\\comparison_seg_b5_ade.json",
           "seg_b5_ade\\20250910_211346_000025"
          ],
          [
           "seg_b5_city",
           "seg_b5_city\\20250910_211419_000026\\seg_b5_city\\comparison_seg_b5_city.json",
           "seg_b5_city\\20250910_211419_000026"
          ]
         ],
         "hovertemplate": "variant=fp16<br>model_size_mb=%{x}<br>fps=%{marker.size}<br>model=%{customdata[0]}<br>filepath=%{customdata[1]}<br>session=%{customdata[2]}<extra></extra>",
         "legendgroup": "fp16",
         "marker": {
          "color": "#EF553B",
          "size": {
           "bdata": "Qyqu9+oLNkDjpDvWtKY2QOFH+33M+jFAGjOLK92eMkC1gymFDc0pQNVDHRUntylAx2R7StKzI0BVyD0dJHcjQMzP4h/xBCBAV//TE2MaH0CGIm7mXRwcQPzdy0VfLRxA",
           "dtype": "f8"
          },
          "sizemode": "area",
          "sizeref": 0.056627992128280506,
          "symbol": "circle"
         },
         "mode": "markers",
         "name": "fp16",
         "orientation": "v",
         "showlegend": true,
         "type": "scatter",
         "x": {
          "bdata": "AAAAAIioHEAAAACAxmYcQAAAAADuKjpAAAAAoH0aOkAAAAAA951HQAAAANC+lUdAAAAAgDtJVUAAAABoH0VVQAAAAIBrSF1AAAAAaE9EXUAAAADAjY1jQAAAALR/i2NA",
          "dtype": "f8"
         },
         "xaxis": "x",
         "y": {
          "bdata": "Qyqu9+oLNkDjpDvWtKY2QOFH+33M+jFAGjOLK92eMkC1gymFDc0pQNVDHRUntylAx2R7StKzI0BVyD0dJHcjQMzP4h/xBCBAV//TE2MaH0CGIm7mXRwcQPzdy0VfLRxA",
          "dtype": "f8"
         },
         "yaxis": "y"
        },
        {
         "customdata": [
          [
           "seg_b0_ade",
           "seg_b0_ade\\20250910_211137_000015\\seg_b0_ade\\comparison_seg_b0_ade.json",
           "seg_b0_ade\\20250910_211137_000015"
          ],
          [
           "seg_b0_city",
           "seg_b0_city\\20250910_211142_000016\\seg_b0_city\\comparison_seg_b0_city.json",
           "seg_b0_city\\20250910_211142_000016"
          ],
          [
           "seg_b1_ade",
           "seg_b1_ade\\20250910_211148_000017\\seg_b1_ade\\comparison_seg_b1_ade.json",
           "seg_b1_ade\\20250910_211148_000017"
          ],
          [
           "seg_b1_city",
           "seg_b1_city\\20250910_211154_000018\\seg_b1_city\\comparison_seg_b1_city.json",
           "seg_b1_city\\20250910_211154_000018"
          ],
          [
           "seg_b2_ade",
           "seg_b2_ade\\20250910_211202_000019\\seg_b2_ade\\comparison_seg_b2_ade.json",
           "seg_b2_ade\\20250910_211202_000019"
          ],
          [
           "seg_b2_city",
           "seg_b2_city\\20250910_211211_000020\\seg_b2_city\\comparison_seg_b2_city.json",
           "seg_b2_city\\20250910_211211_000020"
          ],
          [
           "seg_b3_ade",
           "seg_b3_ade\\20250910_211222_000021\\seg_b3_ade\\comparison_seg_b3_ade.json",
           "seg_b3_ade\\20250910_211222_000021"
          ],
          [
           "seg_b3_city",
           "seg_b3_city\\20250910_211237_000022\\seg_b3_city\\comparison_seg_b3_city.json",
           "seg_b3_city\\20250910_211237_000022"
          ],
          [
           "seg_b4_ade",
           "seg_b4_ade\\20250910_211254_000023\\seg_b4_ade\\comparison_seg_b4_ade.json",
           "seg_b4_ade\\20250910_211254_000023"
          ],
          [
           "seg_b4_city",
           "seg_b4_city\\20250910_211318_000024\\seg_b4_city\\comparison_seg_b4_city.json",
           "seg_b4_city\\20250910_211318_000024"
          ],
          [
           "seg_b5_ade",
           "seg_b5_ade\\20250910_211346_000025\\seg_b5_ade\\comparison_seg_b5_ade.json",
           "seg_b5_ade\\20250910_211346_000025"
          ],
          [
           "seg_b5_city",
           "seg_b5_city\\20250910_211419_000026\\seg_b5_city\\comparison_seg_b5_city.json",
           "seg_b5_city\\20250910_211419_000026"
          ]
         ],
         "hovertemplate": "variant=int8<br>model_size_mb=%{x}<br>fps=%{marker.size}<br>model=%{customdata[0]}<br>filepath=%{customdata[1]}<br>session=%{customdata[2]}<extra></extra>",
         "legendgroup": "int8",
         "marker": {
          "color": "#00cc96",
          "size": {
           "bdata": "b/bFCd7/KUDtmwTKmuMqQH9QEeuAwyRAsYb1SBANJUCiePkL4GUdQGv8g+VcTB1AeI0StfmXFkCZ75MdcesVQPSV6gzvCBJAEZtknKTLEUC50W6O9w0PQLW3rBxQ7Q5A",
           "dtype": "f8"
          },
          "sizemode": "area",
          "sizeref": 0.056627992128280506,
          "symbol": "circle"
         },
         "mode": "markers",
         "name": "int8",
         "orientation": "v",
         "showlegend": true,
         "type": "scatter",
         "x": {
          "bdata": "AAAAAIOoLEAAAACAwWYsQAAAAMDsKkpAAAAAYHwaSkAAAABg9p1XQAAAADC+lVdAAAAAMDtJZUAAAAAYH0VlQAAAADBrSG1AAAAAGE9EbUAAAACYjY1zQAAAAIx/i3NA",
          "dtype": "f8"
         },
         "xaxis": "x",
         "y": {
          "bdata": "b/bFCd7/KUDtmwTKmuMqQH9QEeuAwyRAsYb1SBANJUCiePkL4GUdQGv8g+VcTB1AeI0StfmXFkCZ75MdcesVQPSV6gzvCBJAEZtknKTLEUC50W6O9w0PQLW3rBxQ7Q5A",
          "dtype": "f8"
         },
         "yaxis": "y"
        },
        {
         "customdata": [
          [
           "seg_b0_ade",
           "seg_b0_ade\\20250910_211137_000015\\seg_b0_ade\\comparison_seg_b0_ade.json",
           "seg_b0_ade\\20250910_211137_000015"
          ],
          [
           "seg_b0_city",
           "seg_b0_city\\20250910_211142_000016\\seg_b0_city\\comparison_seg_b0_city.json",
           "seg_b0_city\\20250910_211142_000016"
          ],
          [
           "seg_b1_ade",
           "seg_b1_ade\\20250910_211148_000017\\seg_b1_ade\\comparison_seg_b1_ade.json",
           "seg_b1_ade\\20250910_211148_000017"
          ],
          [
           "seg_b1_city",
           "seg_b1_city\\20250910_211154_000018\\seg_b1_city\\comparison_seg_b1_city.json",
           "seg_b1_city\\20250910_211154_000018"
          ],
          [
           "seg_b2_ade",
           "seg_b2_ade\\20250910_211202_000019\\seg_b2_ade\\comparison_seg_b2_ade.json",
           "seg_b2_ade\\20250910_211202_000019"
          ],
          [
           "seg_b2_city",
           "seg_b2_city\\20250910_211211_000020\\seg_b2_city\\comparison_seg_b2_city.json",
           "seg_b2_city\\20250910_211211_000020"
          ],
          [
           "seg_b3_ade",
           "seg_b3_ade\\20250910_211222_000021\\seg_b3_ade\\comparison_seg_b3_ade.json",
           "seg_b3_ade\\20250910_211222_000021"
          ],
          [
           "seg_b3_city",
           "seg_b3_city\\20250910_211237_000022\\seg_b3_city\\comparison_seg_b3_city.json",
           "seg_b3_city\\20250910_211237_000022"
          ],
          [
           "seg_b4_ade",
           "seg_b4_ade\\20250910_211254_000023\\seg_b4_ade\\comparison_seg_b4_ade.json",
           "seg_b4_ade\\20250910_211254_000023"
          ],
          [
           "seg_b4_city",
           "seg_b4_city\\20250910_211318_000024\\seg_b4_city\\comparison_seg_b4_city.json",
           "seg_b4_city\\20250910_211318_000024"
          ],
          [
           "seg_b5_ade",
           "seg_b5_ade\\20250910_211346_000025\\seg_b5_ade\\comparison_seg_b5_ade.json",
           "seg_b5_ade\\20250910_211346_000025"
          ],
          [
           "seg_b5_city",
           "seg_b5_city\\20250910_211419_000026\\seg_b5_city\\comparison_seg_b5_city.json",
           "seg_b5_city\\20250910_211419_000026"
          ]
         ],
         "hovertemplate": "variant=batch<br>model_size_mb=%{x}<br>fps=%{marker.size}<br>model=%{customdata[0]}<br>filepath=%{customdata[1]}<br>session=%{customdata[2]}<extra></extra>",
         "legendgroup": "batch",
         "marker": {
          "color": "#ab63fa",
          "size": {
           "bdata": "2bOOQ2JkK0A6k60taZQsQF/SCAKiKSZA18Be9xPnJkBG9PRnV1IgQDvwFd/ioSBAoKEVCYyrGUDiZ2vlCBQZQNlYQadBixJAc9B5VGelEkDJiFEw9CAPQN1+B+T8Gg9A",
           "dtype": "f8"
          },
          "sizemode": "area",
          "sizeref": 0.056627992128280506,
          "symbol": "circle"
         },
         "mode": "markers",
         "name": "batch",
         "orientation": "v",
         "showlegend": true,
         "type": "scatter",
         "x": {
          "bdata": "AAAAAIOoLEAAAACAwWYsQAAAAMDsKkpAAAAAYHwaSkAAAABg9p1XQAAAADC+lVdAAAAAMDtJZUAAAAAYH0VlQAAAADBrSG1AAAAAGE9EbUAAAACYjY1zQAAAAIx/i3NA",
          "dtype": "f8"
         },
         "xaxis": "x",
         "y": {
          "bdata": "2bOOQ2JkK0A6k60taZQsQF/SCAKiKSZA18Be9xPnJkBG9PRnV1IgQDvwFd/ioSBAoKEVCYyrGUDiZ2vlCBQZQNlYQadBixJAc9B5VGelEkDJiFEw9CAPQN1+B+T8Gg9A",
          "dtype": "f8"
         },
         "yaxis": "y"
        }
       ],
       "layout": {
        "legend": {
         "itemsizing": "constant",
         "title": {
          "text": "variant"
         },
         "tracegroupgap": 0
        },
        "template": {
         "data": {
          "bar": [
           {
            "error_x": {
             "color": "#2a3f5f"
            },
            "error_y": {
             "color": "#2a3f5f"
            },
            "marker": {
             "line": {
              "color": "#E5ECF6",
              "width": 0.5
             },
             "pattern": {
              "fillmode": "overlay",
              "size": 10,
              "solidity": 0.2
             }
            },
            "type": "bar"
           }
          ],
          "barpolar": [
           {
            "marker": {
             "line": {
              "color": "#E5ECF6",
              "width": 0.5
             },
             "pattern": {
              "fillmode": "overlay",
              "size": 10,
              "solidity": 0.2
             }
            },
            "type": "barpolar"
           }
          ],
          "carpet": [
           {
            "aaxis": {
             "endlinecolor": "#2a3f5f",
             "gridcolor": "white",
             "linecolor": "white",
             "minorgridcolor": "white",
             "startlinecolor": "#2a3f5f"
            },
            "baxis": {
             "endlinecolor": "#2a3f5f",
             "gridcolor": "white",
             "linecolor": "white",
             "minorgridcolor": "white",
             "startlinecolor": "#2a3f5f"
            },
            "type": "carpet"
           }
          ],
          "choropleth": [
           {
            "colorbar": {
             "outlinewidth": 0,
             "ticks": ""
            },
            "type": "choropleth"
           }
          ],
          "contour": [
           {
            "colorbar": {
             "outlinewidth": 0,
             "ticks": ""
            },
            "colorscale": [
             [
              0,
              "#0d0887"
             ],
             [
              0.1111111111111111,
              "#46039f"
             ],
             [
              0.2222222222222222,
              "#7201a8"
             ],
             [
              0.3333333333333333,
              "#9c179e"
             ],
             [
              0.4444444444444444,
              "#bd3786"
             ],
             [
              0.5555555555555556,
              "#d8576b"
             ],
             [
              0.6666666666666666,
              "#ed7953"
             ],
             [
              0.7777777777777778,
              "#fb9f3a"
             ],
             [
              0.8888888888888888,
              "#fdca26"
             ],
             [
              1,
              "#f0f921"
             ]
            ],
            "type": "contour"
           }
          ],
          "contourcarpet": [
           {
            "colorbar": {
             "outlinewidth": 0,
             "ticks": ""
            },
            "type": "contourcarpet"
           }
          ],
          "heatmap": [
           {
            "colorbar": {
             "outlinewidth": 0,
             "ticks": ""
            },
            "colorscale": [
             [
              0,
              "#0d0887"
             ],
             [
              0.1111111111111111,
              "#46039f"
             ],
             [
              0.2222222222222222,
              "#7201a8"
             ],
             [
              0.3333333333333333,
              "#9c179e"
             ],
             [
              0.4444444444444444,
              "#bd3786"
             ],
             [
              0.5555555555555556,
              "#d8576b"
             ],
             [
              0.6666666666666666,
              "#ed7953"
             ],
             [
              0.7777777777777778,
              "#fb9f3a"
             ],
             [
              0.8888888888888888,
              "#fdca26"
             ],
             [
              1,
              "#f0f921"
             ]
            ],
            "type": "heatmap"
           }
          ],
          "histogram": [
           {
            "marker": {
             "pattern": {
              "fillmode": "overlay",
              "size": 10,
              "solidity": 0.2
             }
            },
            "type": "histogram"
           }
          ],
          "histogram2d": [
           {
            "colorbar": {
             "outlinewidth": 0,
             "ticks": ""
            },
            "colorscale": [
             [
              0,
              "#0d0887"
             ],
             [
              0.1111111111111111,
              "#46039f"
             ],
             [
              0.2222222222222222,
              "#7201a8"
             ],
             [
              0.3333333333333333,
              "#9c179e"
             ],
             [
              0.4444444444444444,
              "#bd3786"
             ],
             [
              0.5555555555555556,
              "#d8576b"
             ],
             [
              0.6666666666666666,
              "#ed7953"
             ],
             [
              0.7777777777777778,
              "#fb9f3a"
             ],
             [
              0.8888888888888888,
              "#fdca26"
             ],
             [
              1,
              "#f0f921"
             ]
            ],
            "type": "histogram2d"
           }
          ],
          "histogram2dcontour": [
           {
            "colorbar": {
             "outlinewidth": 0,
             "ticks": ""
            },
            "colorscale": [
             [
              0,
              "#0d0887"
             ],
             [
              0.1111111111111111,
              "#46039f"
             ],
             [
              0.2222222222222222,
              "#7201a8"
             ],
             [
              0.3333333333333333,
              "#9c179e"
             ],
             [
              0.4444444444444444,
              "#bd3786"
             ],
             [
              0.5555555555555556,
              "#d8576b"
             ],
             [
              0.6666666666666666,
              "#ed7953"
             ],
             [
              0.7777777777777778,
              "#fb9f3a"
             ],
             [
              0.8888888888888888,
              "#fdca26"
             ],
             [
              1,
              "#f0f921"
             ]
            ],
            "type": "histogram2dcontour"
           }
          ],
          "mesh3d": [
           {
            "colorbar": {
             "outlinewidth": 0,
             "ticks": ""
            },
            "type": "mesh3d"
           }
          ],
          "parcoords": [
           {
            "line": {
             "colorbar": {
              "outlinewidth": 0,
              "ticks": ""
             }
            },
            "type": "parcoords"
           }
          ],
          "pie": [
           {
            "automargin": true,
            "type": "pie"
           }
          ],
          "scatter": [
           {
            "fillpattern": {
             "fillmode": "overlay",
             "size": 10,
             "solidity": 0.2
            },
            "type": "scatter"
           }
          ],
          "scatter3d": [
           {
            "line": {
             "colorbar": {
              "outlinewidth": 0,
              "ticks": ""
             }
            },
            "marker": {
             "colorbar": {
              "outlinewidth": 0,
              "ticks": ""
             }
            },
            "type": "scatter3d"
           }
          ],
          "scattercarpet": [
           {
            "marker": {
             "colorbar": {
              "outlinewidth": 0,
              "ticks": ""
             }
            },
            "type": "scattercarpet"
           }
          ],
          "scattergeo": [
           {
            "marker": {
             "colorbar": {
              "outlinewidth": 0,
              "ticks": ""
             }
            },
            "type": "scattergeo"
           }
          ],
          "scattergl": [
           {
            "marker": {
             "colorbar": {
              "outlinewidth": 0,
              "ticks": ""
             }
            },
            "type": "scattergl"
           }
          ],
          "scattermap": [
           {
            "marker": {
             "colorbar": {
              "outlinewidth": 0,
              "ticks": ""
             }
            },
            "type": "scattermap"
           }
          ],
          "scattermapbox": [
           {
            "marker": {
             "colorbar": {
              "outlinewidth": 0,
              "ticks": ""
             }
            },
            "type": "scattermapbox"
           }
          ],
          "scatterpolar": [
           {
            "marker": {
             "colorbar": {
              "outlinewidth": 0,
              "ticks": ""
             }
            },
            "type": "scatterpolar"
           }
          ],
          "scatterpolargl": [
           {
            "marker": {
             "colorbar": {
              "outlinewidth": 0,
              "ticks": ""
             }
            },
            "type": "scatterpolargl"
           }
          ],
          "scatterternary": [
           {
            "marker": {
             "colorbar": {
              "outlinewidth": 0,
              "ticks": ""
             }
            },
            "type": "scatterternary"
           }
          ],
          "surface": [
           {
            "colorbar": {
             "outlinewidth": 0,
             "ticks": ""
            },
            "colorscale": [
             [
              0,
              "#0d0887"
             ],
             [
              0.1111111111111111,
              "#46039f"
             ],
             [
              0.2222222222222222,
              "#7201a8"
             ],
             [
              0.3333333333333333,
              "#9c179e"
             ],
             [
              0.4444444444444444,
              "#bd3786"
             ],
             [
              0.5555555555555556,
              "#d8576b"
             ],
             [
              0.6666666666666666,
              "#ed7953"
             ],
             [
              0.7777777777777778,
              "#fb9f3a"
             ],
             [
              0.8888888888888888,
              "#fdca26"
             ],
             [
              1,
              "#f0f921"
             ]
            ],
            "type": "surface"
           }
          ],
          "table": [
           {
            "cells": {
             "fill": {
              "color": "#EBF0F8"
             },
             "line": {
              "color": "white"
             }
            },
            "header": {
             "fill": {
              "color": "#C8D4E3"
             },
             "line": {
              "color": "white"
             }
            },
            "type": "table"
           }
          ]
         },
         "layout": {
          "annotationdefaults": {
           "arrowcolor": "#2a3f5f",
           "arrowhead": 0,
           "arrowwidth": 1
          },
          "autotypenumbers": "strict",
          "coloraxis": {
           "colorbar": {
            "outlinewidth": 0,
            "ticks": ""
           }
          },
          "colorscale": {
           "diverging": [
            [
             0,
             "#8e0152"
            ],
            [
             0.1,
             "#c51b7d"
            ],
            [
             0.2,
             "#de77ae"
            ],
            [
             0.3,
             "#f1b6da"
            ],
            [
             0.4,
             "#fde0ef"
            ],
            [
             0.5,
             "#f7f7f7"
            ],
            [
             0.6,
             "#e6f5d0"
            ],
            [
             0.7,
             "#b8e186"
            ],
            [
             0.8,
             "#7fbc41"
            ],
            [
             0.9,
             "#4d9221"
            ],
            [
             1,
             "#276419"
            ]
           ],
           "sequential": [
            [
             0,
             "#0d0887"
            ],
            [
             0.1111111111111111,
             "#46039f"
            ],
            [
             0.2222222222222222,
             "#7201a8"
            ],
            [
             0.3333333333333333,
             "#9c179e"
            ],
            [
             0.4444444444444444,
             "#bd3786"
            ],
            [
             0.5555555555555556,
             "#d8576b"
            ],
            [
             0.6666666666666666,
             "#ed7953"
            ],
            [
             0.7777777777777778,
             "#fb9f3a"
            ],
            [
             0.8888888888888888,
             "#fdca26"
            ],
            [
             1,
             "#f0f921"
            ]
           ],
           "sequentialminus": [
            [
             0,
             "#0d0887"
            ],
            [
             0.1111111111111111,
             "#46039f"
            ],
            [
             0.2222222222222222,
             "#7201a8"
            ],
            [
             0.3333333333333333,
             "#9c179e"
            ],
            [
             0.4444444444444444,
             "#bd3786"
            ],
            [
             0.5555555555555556,
             "#d8576b"
            ],
            [
             0.6666666666666666,
             "#ed7953"
            ],
            [
             0.7777777777777778,
             "#fb9f3a"
            ],
            [
             0.8888888888888888,
             "#fdca26"
            ],
            [
             1,
             "#f0f921"
            ]
           ]
          },
          "colorway": [
           "#636efa",
           "#EF553B",
           "#00cc96",
           "#ab63fa",
           "#FFA15A",
           "#19d3f3",
           "#FF6692",
           "#B6E880",
           "#FF97FF",
           "#FECB52"
          ],
          "font": {
           "color": "#2a3f5f"
          },
          "geo": {
           "bgcolor": "white",
           "lakecolor": "white",
           "landcolor": "#E5ECF6",
           "showlakes": true,
           "showland": true,
           "subunitcolor": "white"
          },
          "hoverlabel": {
           "align": "left"
          },
          "hovermode": "closest",
          "mapbox": {
           "style": "light"
          },
          "paper_bgcolor": "white",
          "plot_bgcolor": "#E5ECF6",
          "polar": {
           "angularaxis": {
            "gridcolor": "white",
            "linecolor": "white",
            "ticks": ""
           },
           "bgcolor": "#E5ECF6",
           "radialaxis": {
            "gridcolor": "white",
            "linecolor": "white",
            "ticks": ""
           }
          },
          "scene": {
           "xaxis": {
            "backgroundcolor": "#E5ECF6",
            "gridcolor": "white",
            "gridwidth": 2,
            "linecolor": "white",
            "showbackground": true,
            "ticks": "",
            "zerolinecolor": "white"
           },
           "yaxis": {
            "backgroundcolor": "#E5ECF6",
            "gridcolor": "white",
            "gridwidth": 2,
            "linecolor": "white",
            "showbackground": true,
            "ticks": "",
            "zerolinecolor": "white"
           },
           "zaxis": {
            "backgroundcolor": "#E5ECF6",
            "gridcolor": "white",
            "gridwidth": 2,
            "linecolor": "white",
            "showbackground": true,
            "ticks": "",
            "zerolinecolor": "white"
           }
          },
          "shapedefaults": {
           "line": {
            "color": "#2a3f5f"
           }
          },
          "ternary": {
           "aaxis": {
            "gridcolor": "white",
            "linecolor": "white",
            "ticks": ""
           },
           "baxis": {
            "gridcolor": "white",
            "linecolor": "white",
            "ticks": ""
           },
           "bgcolor": "#E5ECF6",
           "caxis": {
            "gridcolor": "white",
            "linecolor": "white",
            "ticks": ""
           }
          },
          "title": {
           "x": 0.05
          },
          "xaxis": {
           "automargin": true,
           "gridcolor": "white",
           "linecolor": "white",
           "ticks": "",
           "title": {
            "standoff": 15
           },
           "zerolinecolor": "white",
           "zerolinewidth": 2
          },
          "yaxis": {
           "automargin": true,
           "gridcolor": "white",
           "linecolor": "white",
           "ticks": "",
           "title": {
            "standoff": 15
           },
           "zerolinecolor": "white",
           "zerolinewidth": 2
          }
         }
        },
        "title": {
         "text": "Model size (MB) vs FPS"
        },
        "xaxis": {
         "anchor": "y",
         "domain": [
          0,
          1
         ],
         "title": {
          "text": "model_size_mb"
         }
        },
        "yaxis": {
         "anchor": "x",
         "domain": [
          0,
          1
         ],
         "title": {
          "text": "fps"
         }
        }
       }
      }
     },
     "metadata": {},
     "output_type": "display_data"
    },
    {
     "name": "stdout",
     "output_type": "stream",
     "text": [
      "Done.\n"
     ]
    }
   ],
   "source": [
    "# Scan optimized_models for comparison_*.json but only use the latest session per model — only direct folders named \"seg_*\" — aggregate and plot with Plotly\n",
    "import json\n",
    "from pathlib import Path\n",
    "import pandas as pd\n",
    "import plotly.express as px\n",
    "\n",
    "# root should be the optimized_models folder (not the repo root)\n",
    "root = Path(\"./\")\n",
    "\n",
    "rows = []\n",
    "# iterate immediate child model folders whose name starts with 'seg_'\n",
    "model_folders = sorted([p for p in root.iterdir() if p.is_dir() and p.name.startswith('seg_')])\n",
    "for model_dir in model_folders:\n",
    "    # find session subfolders inside the model_dir (e.g., 20250910_204734_000015)\n",
    "    session_dirs = [d for d in model_dir.iterdir() if d.is_dir()]\n",
    "    if not session_dirs:\n",
    "        # sometimes files may be directly inside; check for comparison files directly\n",
    "        candidates = list(model_dir.rglob('comparison_*.json'))\n",
    "        if not candidates:\n",
    "            continue\n",
    "        latest_session_root = model_dir\n",
    "    else:\n",
    "        # choose the latest session by folder name (YYYYMMDD... lexicographical order works)\n",
    "        # choose session by index: 1 = latest, 2 = second latest, etc. (lexicographical order)\n",
    "        session_dirs_sorted = sorted(session_dirs, key=lambda d: d.name)\n",
    "        session_index = 1  # 1 = latest, 2 = second latest, etc.\n",
    "        if len(session_dirs_sorted) < session_index:\n",
    "            continue  # skip if not enough sessions\n",
    "        latest_session = session_dirs_sorted[-session_index]\n",
    "        latest_session_root = latest_session\n",
    "\n",
    "    # search within the latest session root for comparison_*.json files\n",
    "    found = list(latest_session_root.rglob('comparison_*.json'))\n",
    "    if not found:\n",
    "        # if nothing found, try one level deeper (some layouts have an extra model-named folder)\n",
    "        deeper = []\n",
    "        for child in latest_session_root.iterdir():\n",
    "            if child.is_dir():\n",
    "                deeper.extend(child.rglob('comparison_*.json'))\n",
    "        found = deeper\n",
    "\n",
    "    if not found:\n",
    "        # nothing to process for this model\n",
    "        print(f\"No comparison_*.json for model folder {model_dir.name} (checked latest session {latest_session_root})\")\n",
    "        continue\n",
    "\n",
    "    # process all comparison files found in the chosen latest session\n",
    "    for p in found:\n",
    "        try:\n",
    "            data = json.loads(p.read_text(encoding='utf-8'))\n",
    "        except Exception as e:\n",
    "            print(f\"Skipping {p}: {e}\")\n",
    "            continue\n",
    "        model_label = model_dir.name\n",
    "        # flatten the metrics\n",
    "        for variant, metrics in data.items():\n",
    "            row = dict(model=model_label, variant=variant, filepath=str(p), session=str(latest_session_root))\n",
    "            if not isinstance(metrics, dict):\n",
    "                # safety: sometimes JSON may be a list/other\n",
    "                print(f\"⚠️ Skipping {p} - invalid metrics format for variant {variant}\")\n",
    "                continue\n",
    "            for k, v in metrics.items():\n",
    "                row[k] = v\n",
    "            rows.append(row)\n",
    "\n",
    "if not rows:\n",
    "    print('No comparison_*.json files found under', root, 'for latest sessions of seg_* folders')\n",
    "else:\n",
    "    df = pd.DataFrame(rows)\n",
    "    # tidy up model names\n",
    "    df['model'] = df['model'].astype(str)\n",
    "    df['batch_size'] = df['batch_size'].fillna(1).astype(int)\n",
    "    display(df)\n",
    "\n",
    "    # Plot: FPS by model and variant\n",
    "    if 'fps' in df.columns:\n",
    "        fig1 = px.bar(df, x='model', y='fps', color='variant', barmode='group', title='FPS by model and variant')\n",
    "        fig1.show()\n",
    "\n",
    "    # Plot: inference time ms by model and variant\n",
    "    if 'avg_inference_time_ms' in df.columns:\n",
    "        fig2 = px.bar(df, x='model', y='avg_inference_time_ms', color='variant', barmode='group', title='Avg inference time (ms) by model and variant')\n",
    "        fig2.update_yaxes(type='log')\n",
    "        fig2.show()\n",
    "\n",
    "    # Scatter: model size vs fps\n",
    "    if 'model_size_mb' in df.columns and 'fps' in df.columns:\n",
    "        fig3 = px.scatter(df, x='model_size_mb', y='fps', color='variant', hover_data=['model', 'filepath', 'session'], size='fps', title='Model size (MB) vs FPS')\n",
    "        fig3.show()\n",
    "\n",
    "    print('Done.')"
   ]
  }
 ],
 "metadata": {
  "kernelspec": {
   "display_name": "Python 3",
   "language": "python",
   "name": "python3"
  },
  "language_info": {
   "codemirror_mode": {
    "name": "ipython",
    "version": 3
   },
   "file_extension": ".py",
   "mimetype": "text/x-python",
   "name": "python",
   "nbconvert_exporter": "python",
   "pygments_lexer": "ipython3",
   "version": "3.11.9"
  }
 },
 "nbformat": 4,
 "nbformat_minor": 5
}
