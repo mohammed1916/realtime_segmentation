{
 "cells": [
  {
   "cell_type": "markdown",
   "id": "dfba99db",
   "metadata": {},
   "source": [
    "# Visualize optimized models comparison results\n",
    "\n",
    "This notebook scans the `optimized_models` directory for `comparison_*.json` files, aggregates the reported metrics (fps, avg_inference_time_ms, model_size_mb, etc.), and renders interactive Plotly charts to compare variants (original, fp16, int8, batch) across models. Run the code cell below to produce the charts."
   ]
  },
  {
   "cell_type": "code",
   "execution_count": 10,
   "id": "a3397ef4",
   "metadata": {},
   "outputs": [
    {
     "name": "stdout",
     "output_type": "stream",
     "text": [
      "⚠️ Skipping seg_b0_ade\\20250910_211137_000015\\seg_b0_ade\\comparison_seg_b0_ade.json - invalid metrics format for variant checkpoint_filename\n",
      "⚠️ Skipping seg_b0_city\\20250910_211142_000016\\seg_b0_city\\comparison_seg_b0_city.json - invalid metrics format for variant checkpoint_filename\n",
      "⚠️ Skipping seg_b1_ade\\20250910_211148_000017\\seg_b1_ade\\comparison_seg_b1_ade.json - invalid metrics format for variant checkpoint_filename\n",
      "⚠️ Skipping seg_b1_city\\20250910_211154_000018\\seg_b1_city\\comparison_seg_b1_city.json - invalid metrics format for variant checkpoint_filename\n",
      "⚠️ Skipping seg_b2_ade\\20250910_211202_000019\\seg_b2_ade\\comparison_seg_b2_ade.json - invalid metrics format for variant checkpoint_filename\n",
      "⚠️ Skipping seg_b2_city\\20250910_211211_000020\\seg_b2_city\\comparison_seg_b2_city.json - invalid metrics format for variant checkpoint_filename\n",
      "⚠️ Skipping seg_b3_ade\\20250910_211222_000021\\seg_b3_ade\\comparison_seg_b3_ade.json - invalid metrics format for variant checkpoint_filename\n",
      "⚠️ Skipping seg_b3_city\\20250910_211237_000022\\seg_b3_city\\comparison_seg_b3_city.json - invalid metrics format for variant checkpoint_filename\n",
      "⚠️ Skipping seg_b4_ade\\20250910_211254_000023\\seg_b4_ade\\comparison_seg_b4_ade.json - invalid metrics format for variant checkpoint_filename\n",
      "⚠️ Skipping seg_b4_city\\20250910_211318_000024\\seg_b4_city\\comparison_seg_b4_city.json - invalid metrics format for variant checkpoint_filename\n",
      "⚠️ Skipping seg_b5_ade\\20250910_211346_000025\\seg_b5_ade\\comparison_seg_b5_ade.json - invalid metrics format for variant checkpoint_filename\n",
      "⚠️ Skipping seg_b5_city\\20250910_211419_000026\\seg_b5_city\\comparison_seg_b5_city.json - invalid metrics format for variant checkpoint_filename\n"
     ]
    },
    {
     "data": {
      "text/html": [
       "<div>\n",
       "<style scoped>\n",
       "    .dataframe tbody tr th:only-of-type {\n",
       "        vertical-align: middle;\n",
       "    }\n",
       "\n",
       "    .dataframe tbody tr th {\n",
       "        vertical-align: top;\n",
       "    }\n",
       "\n",
       "    .dataframe thead th {\n",
       "        text-align: right;\n",
       "    }\n",
       "</style>\n",
       "<table border=\"1\" class=\"dataframe\">\n",
       "  <thead>\n",
       "    <tr style=\"text-align: right;\">\n",
       "      <th></th>\n",
       "      <th>model</th>\n",
       "      <th>variant</th>\n",
       "      <th>filepath</th>\n",
       "      <th>session</th>\n",
       "      <th>avg_inference_time_ms</th>\n",
       "      <th>fps</th>\n",
       "      <th>model_size_mb</th>\n",
       "      <th>batch_size</th>\n",
       "    </tr>\n",
       "  </thead>\n",
       "  <tbody>\n",
       "    <tr>\n",
       "      <th>0</th>\n",
       "      <td>seg_b0_ade</td>\n",
       "      <td>original</td>\n",
       "      <td>seg_b0_ade\\20250910_211137_000015\\seg_b0_ade\\c...</td>\n",
       "      <td>seg_b0_ade\\20250910_211137_000015</td>\n",
       "      <td>83.865786</td>\n",
       "      <td>11.923814</td>\n",
       "      <td>14.329124</td>\n",
       "      <td>NaN</td>\n",
       "    </tr>\n",
       "    <tr>\n",
       "      <th>1</th>\n",
       "      <td>seg_b0_ade</td>\n",
       "      <td>fp16</td>\n",
       "      <td>seg_b0_ade\\20250910_211137_000015\\seg_b0_ade\\c...</td>\n",
       "      <td>seg_b0_ade\\20250910_211137_000015</td>\n",
       "      <td>45.358562</td>\n",
       "      <td>22.046554</td>\n",
       "      <td>7.164581</td>\n",
       "      <td>NaN</td>\n",
       "    </tr>\n",
       "    <tr>\n",
       "      <th>2</th>\n",
       "      <td>seg_b0_ade</td>\n",
       "      <td>int8</td>\n",
       "      <td>seg_b0_ade\\20250910_211137_000015\\seg_b0_ade\\c...</td>\n",
       "      <td>seg_b0_ade\\20250910_211137_000015</td>\n",
       "      <td>76.924610</td>\n",
       "      <td>12.999741</td>\n",
       "      <td>14.329124</td>\n",
       "      <td>NaN</td>\n",
       "    </tr>\n",
       "    <tr>\n",
       "      <th>3</th>\n",
       "      <td>seg_b0_ade</td>\n",
       "      <td>batch</td>\n",
       "      <td>seg_b0_ade\\20250910_211137_000015\\seg_b0_ade\\c...</td>\n",
       "      <td>seg_b0_ade\\20250910_211137_000015</td>\n",
       "      <td>73.013687</td>\n",
       "      <td>13.696062</td>\n",
       "      <td>14.329124</td>\n",
       "      <td>4.0</td>\n",
       "    </tr>\n",
       "    <tr>\n",
       "      <th>4</th>\n",
       "      <td>seg_b0_city</td>\n",
       "      <td>original</td>\n",
       "      <td>seg_b0_city\\20250910_211142_000016\\seg_b0_city...</td>\n",
       "      <td>seg_b0_city\\20250910_211142_000016</td>\n",
       "      <td>84.230804</td>\n",
       "      <td>11.872141</td>\n",
       "      <td>14.200695</td>\n",
       "      <td>NaN</td>\n",
       "    </tr>\n",
       "  </tbody>\n",
       "</table>\n",
       "</div>"
      ],
      "text/plain": [
       "         model   variant                                           filepath  \\\n",
       "0   seg_b0_ade  original  seg_b0_ade\\20250910_211137_000015\\seg_b0_ade\\c...   \n",
       "1   seg_b0_ade      fp16  seg_b0_ade\\20250910_211137_000015\\seg_b0_ade\\c...   \n",
       "2   seg_b0_ade      int8  seg_b0_ade\\20250910_211137_000015\\seg_b0_ade\\c...   \n",
       "3   seg_b0_ade     batch  seg_b0_ade\\20250910_211137_000015\\seg_b0_ade\\c...   \n",
       "4  seg_b0_city  original  seg_b0_city\\20250910_211142_000016\\seg_b0_city...   \n",
       "\n",
       "                              session  avg_inference_time_ms        fps  \\\n",
       "0   seg_b0_ade\\20250910_211137_000015              83.865786  11.923814   \n",
       "1   seg_b0_ade\\20250910_211137_000015              45.358562  22.046554   \n",
       "2   seg_b0_ade\\20250910_211137_000015              76.924610  12.999741   \n",
       "3   seg_b0_ade\\20250910_211137_000015              73.013687  13.696062   \n",
       "4  seg_b0_city\\20250910_211142_000016              84.230804  11.872141   \n",
       "\n",
       "   model_size_mb  batch_size  \n",
       "0      14.329124         NaN  \n",
       "1       7.164581         NaN  \n",
       "2      14.329124         NaN  \n",
       "3      14.329124         4.0  \n",
       "4      14.200695         NaN  "
      ]
     },
     "metadata": {},
     "output_type": "display_data"
    },
    {
     "data": {
      "application/vnd.plotly.v1+json": {
       "config": {
        "plotlyServerURL": "https://plot.ly"
       },
       "data": [
        {
         "alignmentgroup": "True",
         "hovertemplate": "variant=original<br>model=%{x}<br>fps=%{y}<extra></extra>",
         "legendgroup": "original",
         "marker": {
          "color": "#636efa",
          "pattern": {
           "shape": ""
          }
         },
         "name": "original",
         "offsetgroup": "original",
         "orientation": "v",
         "showlegend": true,
         "textposition": "auto",
         "type": "bar",
         "x": [
          "seg_b0_ade",
          "seg_b0_city",
          "seg_b1_ade",
          "seg_b1_city",
          "seg_b2_ade",
          "seg_b2_city",
          "seg_b3_ade",
          "seg_b3_city",
          "seg_b4_ade",
          "seg_b4_city",
          "seg_b5_ade",
          "seg_b5_city"
         ],
         "xaxis": "x",
         "y": {
          "bdata": "ldypGv7YJ0BmdhlJib4nQD0De4O3VCFAU+/h/feeIUDckz7VEK0WQCSeX2xjWRZAj44hvNsGEEBWL9vcGf0PQJtc7dBE0glAtKdY/t92CUDch05TvG4GQOIfP3YIbQZA",
          "dtype": "f8"
         },
         "yaxis": "y"
        },
        {
         "alignmentgroup": "True",
         "hovertemplate": "variant=fp16<br>model=%{x}<br>fps=%{y}<extra></extra>",
         "legendgroup": "fp16",
         "marker": {
          "color": "#EF553B",
          "pattern": {
           "shape": ""
          }
         },
         "name": "fp16",
         "offsetgroup": "fp16",
         "orientation": "v",
         "showlegend": true,
         "textposition": "auto",
         "type": "bar",
         "x": [
          "seg_b0_ade",
          "seg_b0_city",
          "seg_b1_ade",
          "seg_b1_city",
          "seg_b2_ade",
          "seg_b2_city",
          "seg_b3_ade",
          "seg_b3_city",
          "seg_b4_ade",
          "seg_b4_city",
          "seg_b5_ade",
          "seg_b5_city"
         ],
         "xaxis": "x",
         "y": {
          "bdata": "Qyqu9+oLNkDjpDvWtKY2QOFH+33M+jFAGjOLK92eMkC1gymFDc0pQNVDHRUntylAx2R7StKzI0BVyD0dJHcjQMzP4h/xBCBAV//TE2MaH0CGIm7mXRwcQPzdy0VfLRxA",
          "dtype": "f8"
         },
         "yaxis": "y"
        },
        {
         "alignmentgroup": "True",
         "hovertemplate": "variant=int8<br>model=%{x}<br>fps=%{y}<extra></extra>",
         "legendgroup": "int8",
         "marker": {
          "color": "#00cc96",
          "pattern": {
           "shape": ""
          }
         },
         "name": "int8",
         "offsetgroup": "int8",
         "orientation": "v",
         "showlegend": true,
         "textposition": "auto",
         "type": "bar",
         "x": [
          "seg_b0_ade",
          "seg_b0_city",
          "seg_b1_ade",
          "seg_b1_city",
          "seg_b2_ade",
          "seg_b2_city",
          "seg_b3_ade",
          "seg_b3_city",
          "seg_b4_ade",
          "seg_b4_city",
          "seg_b5_ade",
          "seg_b5_city"
         ],
         "xaxis": "x",
         "y": {
          "bdata": "b/bFCd7/KUDtmwTKmuMqQH9QEeuAwyRAsYb1SBANJUCiePkL4GUdQGv8g+VcTB1AeI0StfmXFkCZ75MdcesVQPSV6gzvCBJAEZtknKTLEUC50W6O9w0PQLW3rBxQ7Q5A",
          "dtype": "f8"
         },
         "yaxis": "y"
        },
        {
         "alignmentgroup": "True",
         "hovertemplate": "variant=batch<br>model=%{x}<br>fps=%{y}<extra></extra>",
         "legendgroup": "batch",
         "marker": {
          "color": "#ab63fa",
          "pattern": {
           "shape": ""
          }
         },
         "name": "batch",
         "offsetgroup": "batch",
         "orientation": "v",
         "showlegend": true,
         "textposition": "auto",
         "type": "bar",
         "x": [
          "seg_b0_ade",
          "seg_b0_city",
          "seg_b1_ade",
          "seg_b1_city",
          "seg_b2_ade",
          "seg_b2_city",
          "seg_b3_ade",
          "seg_b3_city",
          "seg_b4_ade",
          "seg_b4_city",
          "seg_b5_ade",
          "seg_b5_city"
         ],
         "xaxis": "x",
         "y": {
          "bdata": "2bOOQ2JkK0A6k60taZQsQF/SCAKiKSZA18Be9xPnJkBG9PRnV1IgQDvwFd/ioSBAoKEVCYyrGUDiZ2vlCBQZQNlYQadBixJAc9B5VGelEkDJiFEw9CAPQN1+B+T8Gg9A",
          "dtype": "f8"
         },
         "yaxis": "y"
        }
       ],
       "layout": {
        "barmode": "group",
        "legend": {
         "title": {
          "text": "variant"
         },
         "tracegroupgap": 0
        },
        "template": {
         "data": {
          "bar": [
           {
            "error_x": {
             "color": "#2a3f5f"
            },
            "error_y": {
             "color": "#2a3f5f"
            },
            "marker": {
             "line": {
              "color": "#E5ECF6",
              "width": 0.5
             },
             "pattern": {
              "fillmode": "overlay",
              "size": 10,
              "solidity": 0.2
             }
            },
            "type": "bar"
           }
          ],
          "barpolar": [
           {
            "marker": {
             "line": {
              "color": "#E5ECF6",
              "width": 0.5
             },
             "pattern": {
              "fillmode": "overlay",
              "size": 10,
              "solidity": 0.2
             }
            },
            "type": "barpolar"
           }
          ],
          "carpet": [
           {
            "aaxis": {
             "endlinecolor": "#2a3f5f",
             "gridcolor": "white",
             "linecolor": "white",
             "minorgridcolor": "white",
             "startlinecolor": "#2a3f5f"
            },
            "baxis": {
             "endlinecolor": "#2a3f5f",
             "gridcolor": "white",
             "linecolor": "white",
             "minorgridcolor": "white",
             "startlinecolor": "#2a3f5f"
            },
            "type": "carpet"
           }
          ],
          "choropleth": [
           {
            "colorbar": {
             "outlinewidth": 0,
             "ticks": ""
            },
            "type": "choropleth"
           }
          ],
          "contour": [
           {
            "colorbar": {
             "outlinewidth": 0,
             "ticks": ""
            },
            "colorscale": [
             [
              0,
              "#0d0887"
             ],
             [
              0.1111111111111111,
              "#46039f"
             ],
             [
              0.2222222222222222,
              "#7201a8"
             ],
             [
              0.3333333333333333,
              "#9c179e"
             ],
             [
              0.4444444444444444,
              "#bd3786"
             ],
             [
              0.5555555555555556,
              "#d8576b"
             ],
             [
              0.6666666666666666,
              "#ed7953"
             ],
             [
              0.7777777777777778,
              "#fb9f3a"
             ],
             [
              0.8888888888888888,
              "#fdca26"
             ],
             [
              1,
              "#f0f921"
             ]
            ],
            "type": "contour"
           }
          ],
          "contourcarpet": [
           {
            "colorbar": {
             "outlinewidth": 0,
             "ticks": ""
            },
            "type": "contourcarpet"
           }
          ],
          "heatmap": [
           {
            "colorbar": {
             "outlinewidth": 0,
             "ticks": ""
            },
            "colorscale": [
             [
              0,
              "#0d0887"
             ],
             [
              0.1111111111111111,
              "#46039f"
             ],
             [
              0.2222222222222222,
              "#7201a8"
             ],
             [
              0.3333333333333333,
              "#9c179e"
             ],
             [
              0.4444444444444444,
              "#bd3786"
             ],
             [
              0.5555555555555556,
              "#d8576b"
             ],
             [
              0.6666666666666666,
              "#ed7953"
             ],
             [
              0.7777777777777778,
              "#fb9f3a"
             ],
             [
              0.8888888888888888,
              "#fdca26"
             ],
             [
              1,
              "#f0f921"
             ]
            ],
            "type": "heatmap"
           }
          ],
          "histogram": [
           {
            "marker": {
             "pattern": {
              "fillmode": "overlay",
              "size": 10,
              "solidity": 0.2
             }
            },
            "type": "histogram"
           }
          ],
          "histogram2d": [
           {
            "colorbar": {
             "outlinewidth": 0,
             "ticks": ""
            },
            "colorscale": [
             [
              0,
              "#0d0887"
             ],
             [
              0.1111111111111111,
              "#46039f"
             ],
             [
              0.2222222222222222,
              "#7201a8"
             ],
             [
              0.3333333333333333,
              "#9c179e"
             ],
             [
              0.4444444444444444,
              "#bd3786"
             ],
             [
              0.5555555555555556,
              "#d8576b"
             ],
             [
              0.6666666666666666,
              "#ed7953"
             ],
             [
              0.7777777777777778,
              "#fb9f3a"
             ],
             [
              0.8888888888888888,
              "#fdca26"
             ],
             [
              1,
              "#f0f921"
             ]
            ],
            "type": "histogram2d"
           }
          ],
          "histogram2dcontour": [
           {
            "colorbar": {
             "outlinewidth": 0,
             "ticks": ""
            },
            "colorscale": [
             [
              0,
              "#0d0887"
             ],
             [
              0.1111111111111111,
              "#46039f"
             ],
             [
              0.2222222222222222,
              "#7201a8"
             ],
             [
              0.3333333333333333,
              "#9c179e"
             ],
             [
              0.4444444444444444,
              "#bd3786"
             ],
             [
              0.5555555555555556,
              "#d8576b"
             ],
             [
              0.6666666666666666,
              "#ed7953"
             ],
             [
              0.7777777777777778,
              "#fb9f3a"
             ],
             [
              0.8888888888888888,
              "#fdca26"
             ],
             [
              1,
              "#f0f921"
             ]
            ],
            "type": "histogram2dcontour"
           }
          ],
          "mesh3d": [
           {
            "colorbar": {
             "outlinewidth": 0,
             "ticks": ""
            },
            "type": "mesh3d"
           }
          ],
          "parcoords": [
           {
            "line": {
             "colorbar": {
              "outlinewidth": 0,
              "ticks": ""
             }
            },
            "type": "parcoords"
           }
          ],
          "pie": [
           {
            "automargin": true,
            "type": "pie"
           }
          ],
          "scatter": [
           {
            "fillpattern": {
             "fillmode": "overlay",
             "size": 10,
             "solidity": 0.2
            },
            "type": "scatter"
           }
          ],
          "scatter3d": [
           {
            "line": {
             "colorbar": {
              "outlinewidth": 0,
              "ticks": ""
             }
            },
            "marker": {
             "colorbar": {
              "outlinewidth": 0,
              "ticks": ""
             }
            },
            "type": "scatter3d"
           }
          ],
          "scattercarpet": [
           {
            "marker": {
             "colorbar": {
              "outlinewidth": 0,
              "ticks": ""
             }
            },
            "type": "scattercarpet"
           }
          ],
          "scattergeo": [
           {
            "marker": {
             "colorbar": {
              "outlinewidth": 0,
              "ticks": ""
             }
            },
            "type": "scattergeo"
           }
          ],
          "scattergl": [
           {
            "marker": {
             "colorbar": {
              "outlinewidth": 0,
              "ticks": ""
             }
            },
            "type": "scattergl"
           }
          ],
          "scattermap": [
           {
            "marker": {
             "colorbar": {
              "outlinewidth": 0,
              "ticks": ""
             }
            },
            "type": "scattermap"
           }
          ],
          "scattermapbox": [
           {
            "marker": {
             "colorbar": {
              "outlinewidth": 0,
              "ticks": ""
             }
            },
            "type": "scattermapbox"
           }
          ],
          "scatterpolar": [
           {
            "marker": {
             "colorbar": {
              "outlinewidth": 0,
              "ticks": ""
             }
            },
            "type": "scatterpolar"
           }
          ],
          "scatterpolargl": [
           {
            "marker": {
             "colorbar": {
              "outlinewidth": 0,
              "ticks": ""
             }
            },
            "type": "scatterpolargl"
           }
          ],
          "scatterternary": [
           {
            "marker": {
             "colorbar": {
              "outlinewidth": 0,
              "ticks": ""
             }
            },
            "type": "scatterternary"
           }
          ],
          "surface": [
           {
            "colorbar": {
             "outlinewidth": 0,
             "ticks": ""
            },
            "colorscale": [
             [
              0,
              "#0d0887"
             ],
             [
              0.1111111111111111,
              "#46039f"
             ],
             [
              0.2222222222222222,
              "#7201a8"
             ],
             [
              0.3333333333333333,
              "#9c179e"
             ],
             [
              0.4444444444444444,
              "#bd3786"
             ],
             [
              0.5555555555555556,
              "#d8576b"
             ],
             [
              0.6666666666666666,
              "#ed7953"
             ],
             [
              0.7777777777777778,
              "#fb9f3a"
             ],
             [
              0.8888888888888888,
              "#fdca26"
             ],
             [
              1,
              "#f0f921"
             ]
            ],
            "type": "surface"
           }
          ],
          "table": [
           {
            "cells": {
             "fill": {
              "color": "#EBF0F8"
             },
             "line": {
              "color": "white"
             }
            },
            "header": {
             "fill": {
              "color": "#C8D4E3"
             },
             "line": {
              "color": "white"
             }
            },
            "type": "table"
           }
          ]
         },
         "layout": {
          "annotationdefaults": {
           "arrowcolor": "#2a3f5f",
           "arrowhead": 0,
           "arrowwidth": 1
          },
          "autotypenumbers": "strict",
          "coloraxis": {
           "colorbar": {
            "outlinewidth": 0,
            "ticks": ""
           }
          },
          "colorscale": {
           "diverging": [
            [
             0,
             "#8e0152"
            ],
            [
             0.1,
             "#c51b7d"
            ],
            [
             0.2,
             "#de77ae"
            ],
            [
             0.3,
             "#f1b6da"
            ],
            [
             0.4,
             "#fde0ef"
            ],
            [
             0.5,
             "#f7f7f7"
            ],
            [
             0.6,
             "#e6f5d0"
            ],
            [
             0.7,
             "#b8e186"
            ],
            [
             0.8,
             "#7fbc41"
            ],
            [
             0.9,
             "#4d9221"
            ],
            [
             1,
             "#276419"
            ]
           ],
           "sequential": [
            [
             0,
             "#0d0887"
            ],
            [
             0.1111111111111111,
             "#46039f"
            ],
            [
             0.2222222222222222,
             "#7201a8"
            ],
            [
             0.3333333333333333,
             "#9c179e"
            ],
            [
             0.4444444444444444,
             "#bd3786"
            ],
            [
             0.5555555555555556,
             "#d8576b"
            ],
            [
             0.6666666666666666,
             "#ed7953"
            ],
            [
             0.7777777777777778,
             "#fb9f3a"
            ],
            [
             0.8888888888888888,
             "#fdca26"
            ],
            [
             1,
             "#f0f921"
            ]
           ],
           "sequentialminus": [
            [
             0,
             "#0d0887"
            ],
            [
             0.1111111111111111,
             "#46039f"
            ],
            [
             0.2222222222222222,
             "#7201a8"
            ],
            [
             0.3333333333333333,
             "#9c179e"
            ],
            [
             0.4444444444444444,
             "#bd3786"
            ],
            [
             0.5555555555555556,
             "#d8576b"
            ],
            [
             0.6666666666666666,
             "#ed7953"
            ],
            [
             0.7777777777777778,
             "#fb9f3a"
            ],
            [
             0.8888888888888888,
             "#fdca26"
            ],
            [
             1,
             "#f0f921"
            ]
           ]
          },
          "colorway": [
           "#636efa",
           "#EF553B",
           "#00cc96",
           "#ab63fa",
           "#FFA15A",
           "#19d3f3",
           "#FF6692",
           "#B6E880",
           "#FF97FF",
           "#FECB52"
          ],
          "font": {
           "color": "#2a3f5f"
          },
          "geo": {
           "bgcolor": "white",
           "lakecolor": "white",
           "landcolor": "#E5ECF6",
           "showlakes": true,
           "showland": true,
           "subunitcolor": "white"
          },
          "hoverlabel": {
           "align": "left"
          },
          "hovermode": "closest",
          "mapbox": {
           "style": "light"
          },
          "paper_bgcolor": "white",
          "plot_bgcolor": "#E5ECF6",
          "polar": {
           "angularaxis": {
            "gridcolor": "white",
            "linecolor": "white",
            "ticks": ""
           },
           "bgcolor": "#E5ECF6",
           "radialaxis": {
            "gridcolor": "white",
            "linecolor": "white",
            "ticks": ""
           }
          },
          "scene": {
           "xaxis": {
            "backgroundcolor": "#E5ECF6",
            "gridcolor": "white",
            "gridwidth": 2,
            "linecolor": "white",
            "showbackground": true,
            "ticks": "",
            "zerolinecolor": "white"
           },
           "yaxis": {
            "backgroundcolor": "#E5ECF6",
            "gridcolor": "white",
            "gridwidth": 2,
            "linecolor": "white",
            "showbackground": true,
            "ticks": "",
            "zerolinecolor": "white"
           },
           "zaxis": {
            "backgroundcolor": "#E5ECF6",
            "gridcolor": "white",
            "gridwidth": 2,
            "linecolor": "white",
            "showbackground": true,
            "ticks": "",
            "zerolinecolor": "white"
           }
          },
          "shapedefaults": {
           "line": {
            "color": "#2a3f5f"
           }
          },
          "ternary": {
           "aaxis": {
            "gridcolor": "white",
            "linecolor": "white",
            "ticks": ""
           },
           "baxis": {
            "gridcolor": "white",
            "linecolor": "white",
            "ticks": ""
           },
           "bgcolor": "#E5ECF6",
           "caxis": {
            "gridcolor": "white",
            "linecolor": "white",
            "ticks": ""
           }
          },
          "title": {
           "x": 0.05
          },
          "xaxis": {
           "automargin": true,
           "gridcolor": "white",
           "linecolor": "white",
           "ticks": "",
           "title": {
            "standoff": 15
           },
           "zerolinecolor": "white",
           "zerolinewidth": 2
          },
          "yaxis": {
           "automargin": true,
           "gridcolor": "white",
           "linecolor": "white",
           "ticks": "",
           "title": {
            "standoff": 15
           },
           "zerolinecolor": "white",
           "zerolinewidth": 2
          }
         }
        },
        "title": {
         "text": "FPS by model and variant"
        },
        "xaxis": {
         "anchor": "y",
         "domain": [
          0,
          1
         ],
         "title": {
          "text": "model"
         }
        },
        "yaxis": {
         "anchor": "x",
         "domain": [
          0,
          1
         ],
         "title": {
          "text": "fps"
         }
        }
       }
      }
     },
     "metadata": {},
     "output_type": "display_data"
    },
    {
     "data": {
      "application/vnd.plotly.v1+json": {
       "config": {
        "plotlyServerURL": "https://plot.ly"
       },
       "data": [
        {
         "alignmentgroup": "True",
         "hovertemplate": "variant=original<br>model=%{x}<br>avg_inference_time_ms=%{y}<extra></extra>",
         "legendgroup": "original",
         "marker": {
          "color": "#636efa",
          "pattern": {
           "shape": ""
          }
         },
         "name": "original",
         "offsetgroup": "original",
         "orientation": "v",
         "showlegend": true,
         "textposition": "auto",
         "type": "bar",
         "x": [
          "seg_b0_ade",
          "seg_b0_city",
          "seg_b1_ade",
          "seg_b1_city",
          "seg_b2_ade",
          "seg_b2_city",
          "seg_b3_ade",
          "seg_b3_city",
          "seg_b4_ade",
          "seg_b4_city",
          "seg_b5_ade",
          "seg_b5_city"
         ],
         "xaxis": "x",
         "y": {
          "bdata": "AAAACGn3VEAAAACAxQ5VQAAAADik2VxAAAAAWBJgXEAAAACcuQxmQAAAAPxHX2ZAAAAAkKAyb0AAAAAA1UJvQAAAAMIiXXNAAAAAXKKic0AAAADK/Ul2QAAAAP6uS3ZA",
          "dtype": "f8"
         },
         "yaxis": "y"
        },
        {
         "alignmentgroup": "True",
         "hovertemplate": "variant=fp16<br>model=%{x}<br>avg_inference_time_ms=%{y}<extra></extra>",
         "legendgroup": "fp16",
         "marker": {
          "color": "#EF553B",
          "pattern": {
           "shape": ""
          }
         },
         "name": "fp16",
         "offsetgroup": "fp16",
         "orientation": "v",
         "showlegend": true,
         "textposition": "auto",
         "type": "bar",
         "x": [
          "seg_b0_ade",
          "seg_b0_city",
          "seg_b1_ade",
          "seg_b1_city",
          "seg_b2_ade",
          "seg_b2_city",
          "seg_b3_ade",
          "seg_b3_city",
          "seg_b4_ade",
          "seg_b4_city",
          "seg_b5_ade",
          "seg_b5_city"
         ],
         "xaxis": "x",
         "y": {
          "bdata": "AAAAYOWtRkAAAABg6hJGQAAAAJAlz0tAAAAAAB/aSkAAAADoDGFTQAAAAOiNcVNAAAAAUKlgWUAAAACoxa9ZQAAAAAhcNl9AAAAATFkTYEAAAACoaMlhQAAAAJysvmFA",
          "dtype": "f8"
         },
         "yaxis": "y"
        },
        {
         "alignmentgroup": "True",
         "hovertemplate": "variant=int8<br>model=%{x}<br>avg_inference_time_ms=%{y}<extra></extra>",
         "legendgroup": "int8",
         "marker": {
          "color": "#00cc96",
          "pattern": {
           "shape": ""
          }
         },
         "name": "int8",
         "offsetgroup": "int8",
         "orientation": "v",
         "showlegend": true,
         "textposition": "auto",
         "type": "bar",
         "x": [
          "seg_b0_ade",
          "seg_b0_city",
          "seg_b1_ade",
          "seg_b1_city",
          "seg_b2_ade",
          "seg_b2_city",
          "seg_b3_ade",
          "seg_b3_city",
          "seg_b4_ade",
          "seg_b4_city",
          "seg_b5_ade",
          "seg_b5_city"
         ],
         "xaxis": "x",
         "y": {
          "bdata": "AAAA0Cw7U0AAAADwS5hSQAAAANibFFhAAAAAcHbAV0AAAACMCwJhQAAAAPTaEGFAAAAAwE4hZkAAAABUf89mQAAAAOBZuWtAAAAAaNYYbEAAAAAyxxlwQAAAACbHKnBA",
          "dtype": "f8"
         },
         "yaxis": "y"
        },
        {
         "alignmentgroup": "True",
         "hovertemplate": "variant=batch<br>model=%{x}<br>avg_inference_time_ms=%{y}<extra></extra>",
         "legendgroup": "batch",
         "marker": {
          "color": "#ab63fa",
          "pattern": {
           "shape": ""
          }
         },
         "name": "batch",
         "offsetgroup": "batch",
         "orientation": "v",
         "showlegend": true,
         "textposition": "auto",
         "type": "bar",
         "x": [
          "seg_b0_ade",
          "seg_b0_city",
          "seg_b1_ade",
          "seg_b1_city",
          "seg_b2_ade",
          "seg_b2_city",
          "seg_b3_ade",
          "seg_b3_city",
          "seg_b4_ade",
          "seg_b4_city",
          "seg_b5_ade",
          "seg_b5_city"
         ],
         "xaxis": "x",
         "y": {
          "bdata": "AAAAQOBAUkAAAADgsn5RQAAAAAB9j1ZAAAAAkN/UVUAAAACgWKJeQAAAAGDWD15AAAAATFh6Y0AAAACwBfBjQAAAAFyD9mpAAAAAELTQakAAAAAi9Q9wQAAAAM4JE3BA",
          "dtype": "f8"
         },
         "yaxis": "y"
        }
       ],
       "layout": {
        "barmode": "group",
        "legend": {
         "title": {
          "text": "variant"
         },
         "tracegroupgap": 0
        },
        "template": {
         "data": {
          "bar": [
           {
            "error_x": {
             "color": "#2a3f5f"
            },
            "error_y": {
             "color": "#2a3f5f"
            },
            "marker": {
             "line": {
              "color": "#E5ECF6",
              "width": 0.5
             },
             "pattern": {
              "fillmode": "overlay",
              "size": 10,
              "solidity": 0.2
             }
            },
            "type": "bar"
           }
          ],
          "barpolar": [
           {
            "marker": {
             "line": {
              "color": "#E5ECF6",
              "width": 0.5
             },
             "pattern": {
              "fillmode": "overlay",
              "size": 10,
              "solidity": 0.2
             }
            },
            "type": "barpolar"
           }
          ],
          "carpet": [
           {
            "aaxis": {
             "endlinecolor": "#2a3f5f",
             "gridcolor": "white",
             "linecolor": "white",
             "minorgridcolor": "white",
             "startlinecolor": "#2a3f5f"
            },
            "baxis": {
             "endlinecolor": "#2a3f5f",
             "gridcolor": "white",
             "linecolor": "white",
             "minorgridcolor": "white",
             "startlinecolor": "#2a3f5f"
            },
            "type": "carpet"
           }
          ],
          "choropleth": [
           {
            "colorbar": {
             "outlinewidth": 0,
             "ticks": ""
            },
            "type": "choropleth"
           }
          ],
          "contour": [
           {
            "colorbar": {
             "outlinewidth": 0,
             "ticks": ""
            },
            "colorscale": [
             [
              0,
              "#0d0887"
             ],
             [
              0.1111111111111111,
              "#46039f"
             ],
             [
              0.2222222222222222,
              "#7201a8"
             ],
             [
              0.3333333333333333,
              "#9c179e"
             ],
             [
              0.4444444444444444,
              "#bd3786"
             ],
             [
              0.5555555555555556,
              "#d8576b"
             ],
             [
              0.6666666666666666,
              "#ed7953"
             ],
             [
              0.7777777777777778,
              "#fb9f3a"
             ],
             [
              0.8888888888888888,
              "#fdca26"
             ],
             [
              1,
              "#f0f921"
             ]
            ],
            "type": "contour"
           }
          ],
          "contourcarpet": [
           {
            "colorbar": {
             "outlinewidth": 0,
             "ticks": ""
            },
            "type": "contourcarpet"
           }
          ],
          "heatmap": [
           {
            "colorbar": {
             "outlinewidth": 0,
             "ticks": ""
            },
            "colorscale": [
             [
              0,
              "#0d0887"
             ],
             [
              0.1111111111111111,
              "#46039f"
             ],
             [
              0.2222222222222222,
              "#7201a8"
             ],
             [
              0.3333333333333333,
              "#9c179e"
             ],
             [
              0.4444444444444444,
              "#bd3786"
             ],
             [
              0.5555555555555556,
              "#d8576b"
             ],
             [
              0.6666666666666666,
              "#ed7953"
             ],
             [
              0.7777777777777778,
              "#fb9f3a"
             ],
             [
              0.8888888888888888,
              "#fdca26"
             ],
             [
              1,
              "#f0f921"
             ]
            ],
            "type": "heatmap"
           }
          ],
          "histogram": [
           {
            "marker": {
             "pattern": {
              "fillmode": "overlay",
              "size": 10,
              "solidity": 0.2
             }
            },
            "type": "histogram"
           }
          ],
          "histogram2d": [
           {
            "colorbar": {
             "outlinewidth": 0,
             "ticks": ""
            },
            "colorscale": [
             [
              0,
              "#0d0887"
             ],
             [
              0.1111111111111111,
              "#46039f"
             ],
             [
              0.2222222222222222,
              "#7201a8"
             ],
             [
              0.3333333333333333,
              "#9c179e"
             ],
             [
              0.4444444444444444,
              "#bd3786"
             ],
             [
              0.5555555555555556,
              "#d8576b"
             ],
             [
              0.6666666666666666,
              "#ed7953"
             ],
             [
              0.7777777777777778,
              "#fb9f3a"
             ],
             [
              0.8888888888888888,
              "#fdca26"
             ],
             [
              1,
              "#f0f921"
             ]
            ],
            "type": "histogram2d"
           }
          ],
          "histogram2dcontour": [
           {
            "colorbar": {
             "outlinewidth": 0,
             "ticks": ""
            },
            "colorscale": [
             [
              0,
              "#0d0887"
             ],
             [
              0.1111111111111111,
              "#46039f"
             ],
             [
              0.2222222222222222,
              "#7201a8"
             ],
             [
              0.3333333333333333,
              "#9c179e"
             ],
             [
              0.4444444444444444,
              "#bd3786"
             ],
             [
              0.5555555555555556,
              "#d8576b"
             ],
             [
              0.6666666666666666,
              "#ed7953"
             ],
             [
              0.7777777777777778,
              "#fb9f3a"
             ],
             [
              0.8888888888888888,
              "#fdca26"
             ],
             [
              1,
              "#f0f921"
             ]
            ],
            "type": "histogram2dcontour"
           }
          ],
          "mesh3d": [
           {
            "colorbar": {
             "outlinewidth": 0,
             "ticks": ""
            },
            "type": "mesh3d"
           }
          ],
          "parcoords": [
           {
            "line": {
             "colorbar": {
              "outlinewidth": 0,
              "ticks": ""
             }
            },
            "type": "parcoords"
           }
          ],
          "pie": [
           {
            "automargin": true,
            "type": "pie"
           }
          ],
          "scatter": [
           {
            "fillpattern": {
             "fillmode": "overlay",
             "size": 10,
             "solidity": 0.2
            },
            "type": "scatter"
           }
          ],
          "scatter3d": [
           {
            "line": {
             "colorbar": {
              "outlinewidth": 0,
              "ticks": ""
             }
            },
            "marker": {
             "colorbar": {
              "outlinewidth": 0,
              "ticks": ""
             }
            },
            "type": "scatter3d"
           }
          ],
          "scattercarpet": [
           {
            "marker": {
             "colorbar": {
              "outlinewidth": 0,
              "ticks": ""
             }
            },
            "type": "scattercarpet"
           }
          ],
          "scattergeo": [
           {
            "marker": {
             "colorbar": {
              "outlinewidth": 0,
              "ticks": ""
             }
            },
            "type": "scattergeo"
           }
          ],
          "scattergl": [
           {
            "marker": {
             "colorbar": {
              "outlinewidth": 0,
              "ticks": ""
             }
            },
            "type": "scattergl"
           }
          ],
          "scattermap": [
           {
            "marker": {
             "colorbar": {
              "outlinewidth": 0,
              "ticks": ""
             }
            },
            "type": "scattermap"
           }
          ],
          "scattermapbox": [
           {
            "marker": {
             "colorbar": {
              "outlinewidth": 0,
              "ticks": ""
             }
            },
            "type": "scattermapbox"
           }
          ],
          "scatterpolar": [
           {
            "marker": {
             "colorbar": {
              "outlinewidth": 0,
              "ticks": ""
             }
            },
            "type": "scatterpolar"
           }
          ],
          "scatterpolargl": [
           {
            "marker": {
             "colorbar": {
              "outlinewidth": 0,
              "ticks": ""
             }
            },
            "type": "scatterpolargl"
           }
          ],
          "scatterternary": [
           {
            "marker": {
             "colorbar": {
              "outlinewidth": 0,
              "ticks": ""
             }
            },
            "type": "scatterternary"
           }
          ],
          "surface": [
           {
            "colorbar": {
             "outlinewidth": 0,
             "ticks": ""
            },
            "colorscale": [
             [
              0,
              "#0d0887"
             ],
             [
              0.1111111111111111,
              "#46039f"
             ],
             [
              0.2222222222222222,
              "#7201a8"
             ],
             [
              0.3333333333333333,
              "#9c179e"
             ],
             [
              0.4444444444444444,
              "#bd3786"
             ],
             [
              0.5555555555555556,
              "#d8576b"
             ],
             [
              0.6666666666666666,
              "#ed7953"
             ],
             [
              0.7777777777777778,
              "#fb9f3a"
             ],
             [
              0.8888888888888888,
              "#fdca26"
             ],
             [
              1,
              "#f0f921"
             ]
            ],
            "type": "surface"
           }
          ],
          "table": [
           {
            "cells": {
             "fill": {
              "color": "#EBF0F8"
             },
             "line": {
              "color": "white"
             }
            },
            "header": {
             "fill": {
              "color": "#C8D4E3"
             },
             "line": {
              "color": "white"
             }
            },
            "type": "table"
           }
          ]
         },
         "layout": {
          "annotationdefaults": {
           "arrowcolor": "#2a3f5f",
           "arrowhead": 0,
           "arrowwidth": 1
          },
          "autotypenumbers": "strict",
          "coloraxis": {
           "colorbar": {
            "outlinewidth": 0,
            "ticks": ""
           }
          },
          "colorscale": {
           "diverging": [
            [
             0,
             "#8e0152"
            ],
            [
             0.1,
             "#c51b7d"
            ],
            [
             0.2,
             "#de77ae"
            ],
            [
             0.3,
             "#f1b6da"
            ],
            [
             0.4,
             "#fde0ef"
            ],
            [
             0.5,
             "#f7f7f7"
            ],
            [
             0.6,
             "#e6f5d0"
            ],
            [
             0.7,
             "#b8e186"
            ],
            [
             0.8,
             "#7fbc41"
            ],
            [
             0.9,
             "#4d9221"
            ],
            [
             1,
             "#276419"
            ]
           ],
           "sequential": [
            [
             0,
             "#0d0887"
            ],
            [
             0.1111111111111111,
             "#46039f"
            ],
            [
             0.2222222222222222,
             "#7201a8"
            ],
            [
             0.3333333333333333,
             "#9c179e"
            ],
            [
             0.4444444444444444,
             "#bd3786"
            ],
            [
             0.5555555555555556,
             "#d8576b"
            ],
            [
             0.6666666666666666,
             "#ed7953"
            ],
            [
             0.7777777777777778,
             "#fb9f3a"
            ],
            [
             0.8888888888888888,
             "#fdca26"
            ],
            [
             1,
             "#f0f921"
            ]
           ],
           "sequentialminus": [
            [
             0,
             "#0d0887"
            ],
            [
             0.1111111111111111,
             "#46039f"
            ],
            [
             0.2222222222222222,
             "#7201a8"
            ],
            [
             0.3333333333333333,
             "#9c179e"
            ],
            [
             0.4444444444444444,
             "#bd3786"
            ],
            [
             0.5555555555555556,
             "#d8576b"
            ],
            [
             0.6666666666666666,
             "#ed7953"
            ],
            [
             0.7777777777777778,
             "#fb9f3a"
            ],
            [
             0.8888888888888888,
             "#fdca26"
            ],
            [
             1,
             "#f0f921"
            ]
           ]
          },
          "colorway": [
           "#636efa",
           "#EF553B",
           "#00cc96",
           "#ab63fa",
           "#FFA15A",
           "#19d3f3",
           "#FF6692",
           "#B6E880",
           "#FF97FF",
           "#FECB52"
          ],
          "font": {
           "color": "#2a3f5f"
          },
          "geo": {
           "bgcolor": "white",
           "lakecolor": "white",
           "landcolor": "#E5ECF6",
           "showlakes": true,
           "showland": true,
           "subunitcolor": "white"
          },
          "hoverlabel": {
           "align": "left"
          },
          "hovermode": "closest",
          "mapbox": {
           "style": "light"
          },
          "paper_bgcolor": "white",
          "plot_bgcolor": "#E5ECF6",
          "polar": {
           "angularaxis": {
            "gridcolor": "white",
            "linecolor": "white",
            "ticks": ""
           },
           "bgcolor": "#E5ECF6",
           "radialaxis": {
            "gridcolor": "white",
            "linecolor": "white",
            "ticks": ""
           }
          },
          "scene": {
           "xaxis": {
            "backgroundcolor": "#E5ECF6",
            "gridcolor": "white",
            "gridwidth": 2,
            "linecolor": "white",
            "showbackground": true,
            "ticks": "",
            "zerolinecolor": "white"
           },
           "yaxis": {
            "backgroundcolor": "#E5ECF6",
            "gridcolor": "white",
            "gridwidth": 2,
            "linecolor": "white",
            "showbackground": true,
            "ticks": "",
            "zerolinecolor": "white"
           },
           "zaxis": {
            "backgroundcolor": "#E5ECF6",
            "gridcolor": "white",
            "gridwidth": 2,
            "linecolor": "white",
            "showbackground": true,
            "ticks": "",
            "zerolinecolor": "white"
           }
          },
          "shapedefaults": {
           "line": {
            "color": "#2a3f5f"
           }
          },
          "ternary": {
           "aaxis": {
            "gridcolor": "white",
            "linecolor": "white",
            "ticks": ""
           },
           "baxis": {
            "gridcolor": "white",
            "linecolor": "white",
            "ticks": ""
           },
           "bgcolor": "#E5ECF6",
           "caxis": {
            "gridcolor": "white",
            "linecolor": "white",
            "ticks": ""
           }
          },
          "title": {
           "x": 0.05
          },
          "xaxis": {
           "automargin": true,
           "gridcolor": "white",
           "linecolor": "white",
           "ticks": "",
           "title": {
            "standoff": 15
           },
           "zerolinecolor": "white",
           "zerolinewidth": 2
          },
          "yaxis": {
           "automargin": true,
           "gridcolor": "white",
           "linecolor": "white",
           "ticks": "",
           "title": {
            "standoff": 15
           },
           "zerolinecolor": "white",
           "zerolinewidth": 2
          }
         }
        },
        "title": {
         "text": "Avg inference time (ms) by model and variant"
        },
        "xaxis": {
         "anchor": "y",
         "domain": [
          0,
          1
         ],
         "title": {
          "text": "model"
         }
        },
        "yaxis": {
         "anchor": "x",
         "domain": [
          0,
          1
         ],
         "title": {
          "text": "avg_inference_time_ms"
         },
         "type": "log"
        }
       }
      }
     },
     "metadata": {},
     "output_type": "display_data"
    },
    {
     "data": {
      "application/vnd.plotly.v1+json": {
       "config": {
        "plotlyServerURL": "https://plot.ly"
       },
       "data": [
        {
         "customdata": [
          [
           "seg_b0_ade",
           "seg_b0_ade\\20250910_211137_000015\\seg_b0_ade\\comparison_seg_b0_ade.json",
           "seg_b0_ade\\20250910_211137_000015"
          ],
          [
           "seg_b0_city",
           "seg_b0_city\\20250910_211142_000016\\seg_b0_city\\comparison_seg_b0_city.json",
           "seg_b0_city\\20250910_211142_000016"
          ],
          [
           "seg_b1_ade",
           "seg_b1_ade\\20250910_211148_000017\\seg_b1_ade\\comparison_seg_b1_ade.json",
           "seg_b1_ade\\20250910_211148_000017"
          ],
          [
           "seg_b1_city",
           "seg_b1_city\\20250910_211154_000018\\seg_b1_city\\comparison_seg_b1_city.json",
           "seg_b1_city\\20250910_211154_000018"
          ],
          [
           "seg_b2_ade",
           "seg_b2_ade\\20250910_211202_000019\\seg_b2_ade\\comparison_seg_b2_ade.json",
           "seg_b2_ade\\20250910_211202_000019"
          ],
          [
           "seg_b2_city",
           "seg_b2_city\\20250910_211211_000020\\seg_b2_city\\comparison_seg_b2_city.json",
           "seg_b2_city\\20250910_211211_000020"
          ],
          [
           "seg_b3_ade",
           "seg_b3_ade\\20250910_211222_000021\\seg_b3_ade\\comparison_seg_b3_ade.json",
           "seg_b3_ade\\20250910_211222_000021"
          ],
          [
           "seg_b3_city",
           "seg_b3_city\\20250910_211237_000022\\seg_b3_city\\comparison_seg_b3_city.json",
           "seg_b3_city\\20250910_211237_000022"
          ],
          [
           "seg_b4_ade",
           "seg_b4_ade\\20250910_211254_000023\\seg_b4_ade\\comparison_seg_b4_ade.json",
           "seg_b4_ade\\20250910_211254_000023"
          ],
          [
           "seg_b4_city",
           "seg_b4_city\\20250910_211318_000024\\seg_b4_city\\comparison_seg_b4_city.json",
           "seg_b4_city\\20250910_211318_000024"
          ],
          [
           "seg_b5_ade",
           "seg_b5_ade\\20250910_211346_000025\\seg_b5_ade\\comparison_seg_b5_ade.json",
           "seg_b5_ade\\20250910_211346_000025"
          ],
          [
           "seg_b5_city",
           "seg_b5_city\\20250910_211419_000026\\seg_b5_city\\comparison_seg_b5_city.json",
           "seg_b5_city\\20250910_211419_000026"
          ]
         ],
         "hovertemplate": "variant=original<br>model_size_mb=%{x}<br>fps=%{marker.size}<br>model=%{customdata[0]}<br>filepath=%{customdata[1]}<br>session=%{customdata[2]}<extra></extra>",
         "legendgroup": "original",
         "marker": {
          "color": "#636efa",
          "size": {
           "bdata": "ldypGv7YJ0BmdhlJib4nQD0De4O3VCFAU+/h/feeIUDckz7VEK0WQCSeX2xjWRZAj44hvNsGEEBWL9vcGf0PQJtc7dBE0glAtKdY/t92CUDch05TvG4GQOIfP3YIbQZA",
           "dtype": "f8"
          },
          "sizemode": "area",
          "sizeref": 0.056627992128280506,
          "symbol": "circle"
         },
         "mode": "markers",
         "name": "original",
         "orientation": "v",
         "showlegend": true,
         "type": "scatter",
         "x": {
          "bdata": "AAAAAIOoLEAAAACAwWYsQAAAAMDsKkpAAAAAYHwaSkAAAABg9p1XQAAAADC+lVdAAAAAMDtJZUAAAAAYH0VlQAAAADBrSG1AAAAAGE9EbUAAAACYjY1zQAAAAIx/i3NA",
          "dtype": "f8"
         },
         "xaxis": "x",
         "y": {
          "bdata": "ldypGv7YJ0BmdhlJib4nQD0De4O3VCFAU+/h/feeIUDckz7VEK0WQCSeX2xjWRZAj44hvNsGEEBWL9vcGf0PQJtc7dBE0glAtKdY/t92CUDch05TvG4GQOIfP3YIbQZA",
          "dtype": "f8"
         },
         "yaxis": "y"
        },
        {
         "customdata": [
          [
           "seg_b0_ade",
           "seg_b0_ade\\20250910_211137_000015\\seg_b0_ade\\comparison_seg_b0_ade.json",
           "seg_b0_ade\\20250910_211137_000015"
          ],
          [
           "seg_b0_city",
           "seg_b0_city\\20250910_211142_000016\\seg_b0_city\\comparison_seg_b0_city.json",
           "seg_b0_city\\20250910_211142_000016"
          ],
          [
           "seg_b1_ade",
           "seg_b1_ade\\20250910_211148_000017\\seg_b1_ade\\comparison_seg_b1_ade.json",
           "seg_b1_ade\\20250910_211148_000017"
          ],
          [
           "seg_b1_city",
           "seg_b1_city\\20250910_211154_000018\\seg_b1_city\\comparison_seg_b1_city.json",
           "seg_b1_city\\20250910_211154_000018"
          ],
          [
           "seg_b2_ade",
           "seg_b2_ade\\20250910_211202_000019\\seg_b2_ade\\comparison_seg_b2_ade.json",
           "seg_b2_ade\\20250910_211202_000019"
          ],
          [
           "seg_b2_city",
           "seg_b2_city\\20250910_211211_000020\\seg_b2_city\\comparison_seg_b2_city.json",
           "seg_b2_city\\20250910_211211_000020"
          ],
          [
           "seg_b3_ade",
           "seg_b3_ade\\20250910_211222_000021\\seg_b3_ade\\comparison_seg_b3_ade.json",
           "seg_b3_ade\\20250910_211222_000021"
          ],
          [
           "seg_b3_city",
           "seg_b3_city\\20250910_211237_000022\\seg_b3_city\\comparison_seg_b3_city.json",
           "seg_b3_city\\20250910_211237_000022"
          ],
          [
           "seg_b4_ade",
           "seg_b4_ade\\20250910_211254_000023\\seg_b4_ade\\comparison_seg_b4_ade.json",
           "seg_b4_ade\\20250910_211254_000023"
          ],
          [
           "seg_b4_city",
           "seg_b4_city\\20250910_211318_000024\\seg_b4_city\\comparison_seg_b4_city.json",
           "seg_b4_city\\20250910_211318_000024"
          ],
          [
           "seg_b5_ade",
           "seg_b5_ade\\20250910_211346_000025\\seg_b5_ade\\comparison_seg_b5_ade.json",
           "seg_b5_ade\\20250910_211346_000025"
          ],
          [
           "seg_b5_city",
           "seg_b5_city\\20250910_211419_000026\\seg_b5_city\\comparison_seg_b5_city.json",
           "seg_b5_city\\20250910_211419_000026"
          ]
         ],
         "hovertemplate": "variant=fp16<br>model_size_mb=%{x}<br>fps=%{marker.size}<br>model=%{customdata[0]}<br>filepath=%{customdata[1]}<br>session=%{customdata[2]}<extra></extra>",
         "legendgroup": "fp16",
         "marker": {
          "color": "#EF553B",
          "size": {
           "bdata": "Qyqu9+oLNkDjpDvWtKY2QOFH+33M+jFAGjOLK92eMkC1gymFDc0pQNVDHRUntylAx2R7StKzI0BVyD0dJHcjQMzP4h/xBCBAV//TE2MaH0CGIm7mXRwcQPzdy0VfLRxA",
           "dtype": "f8"
          },
          "sizemode": "area",
          "sizeref": 0.056627992128280506,
          "symbol": "circle"
         },
         "mode": "markers",
         "name": "fp16",
         "orientation": "v",
         "showlegend": true,
         "type": "scatter",
         "x": {
          "bdata": "AAAAAIioHEAAAACAxmYcQAAAAADuKjpAAAAAoH0aOkAAAAAA951HQAAAANC+lUdAAAAAgDtJVUAAAABoH0VVQAAAAIBrSF1AAAAAaE9EXUAAAADAjY1jQAAAALR/i2NA",
          "dtype": "f8"
         },
         "xaxis": "x",
         "y": {
          "bdata": "Qyqu9+oLNkDjpDvWtKY2QOFH+33M+jFAGjOLK92eMkC1gymFDc0pQNVDHRUntylAx2R7StKzI0BVyD0dJHcjQMzP4h/xBCBAV//TE2MaH0CGIm7mXRwcQPzdy0VfLRxA",
          "dtype": "f8"
         },
         "yaxis": "y"
        },
        {
         "customdata": [
          [
           "seg_b0_ade",
           "seg_b0_ade\\20250910_211137_000015\\seg_b0_ade\\comparison_seg_b0_ade.json",
           "seg_b0_ade\\20250910_211137_000015"
          ],
          [
           "seg_b0_city",
           "seg_b0_city\\20250910_211142_000016\\seg_b0_city\\comparison_seg_b0_city.json",
           "seg_b0_city\\20250910_211142_000016"
          ],
          [
           "seg_b1_ade",
           "seg_b1_ade\\20250910_211148_000017\\seg_b1_ade\\comparison_seg_b1_ade.json",
           "seg_b1_ade\\20250910_211148_000017"
          ],
          [
           "seg_b1_city",
           "seg_b1_city\\20250910_211154_000018\\seg_b1_city\\comparison_seg_b1_city.json",
           "seg_b1_city\\20250910_211154_000018"
          ],
          [
           "seg_b2_ade",
           "seg_b2_ade\\20250910_211202_000019\\seg_b2_ade\\comparison_seg_b2_ade.json",
           "seg_b2_ade\\20250910_211202_000019"
          ],
          [
           "seg_b2_city",
           "seg_b2_city\\20250910_211211_000020\\seg_b2_city\\comparison_seg_b2_city.json",
           "seg_b2_city\\20250910_211211_000020"
          ],
          [
           "seg_b3_ade",
           "seg_b3_ade\\20250910_211222_000021\\seg_b3_ade\\comparison_seg_b3_ade.json",
           "seg_b3_ade\\20250910_211222_000021"
          ],
          [
           "seg_b3_city",
           "seg_b3_city\\20250910_211237_000022\\seg_b3_city\\comparison_seg_b3_city.json",
           "seg_b3_city\\20250910_211237_000022"
          ],
          [
           "seg_b4_ade",
           "seg_b4_ade\\20250910_211254_000023\\seg_b4_ade\\comparison_seg_b4_ade.json",
           "seg_b4_ade\\20250910_211254_000023"
          ],
          [
           "seg_b4_city",
           "seg_b4_city\\20250910_211318_000024\\seg_b4_city\\comparison_seg_b4_city.json",
           "seg_b4_city\\20250910_211318_000024"
          ],
          [
           "seg_b5_ade",
           "seg_b5_ade\\20250910_211346_000025\\seg_b5_ade\\comparison_seg_b5_ade.json",
           "seg_b5_ade\\20250910_211346_000025"
          ],
          [
           "seg_b5_city",
           "seg_b5_city\\20250910_211419_000026\\seg_b5_city\\comparison_seg_b5_city.json",
           "seg_b5_city\\20250910_211419_000026"
          ]
         ],
         "hovertemplate": "variant=int8<br>model_size_mb=%{x}<br>fps=%{marker.size}<br>model=%{customdata[0]}<br>filepath=%{customdata[1]}<br>session=%{customdata[2]}<extra></extra>",
         "legendgroup": "int8",
         "marker": {
          "color": "#00cc96",
          "size": {
           "bdata": "b/bFCd7/KUDtmwTKmuMqQH9QEeuAwyRAsYb1SBANJUCiePkL4GUdQGv8g+VcTB1AeI0StfmXFkCZ75MdcesVQPSV6gzvCBJAEZtknKTLEUC50W6O9w0PQLW3rBxQ7Q5A",
           "dtype": "f8"
          },
          "sizemode": "area",
          "sizeref": 0.056627992128280506,
          "symbol": "circle"
         },
         "mode": "markers",
         "name": "int8",
         "orientation": "v",
         "showlegend": true,
         "type": "scatter",
         "x": {
          "bdata": "AAAAAIOoLEAAAACAwWYsQAAAAMDsKkpAAAAAYHwaSkAAAABg9p1XQAAAADC+lVdAAAAAMDtJZUAAAAAYH0VlQAAAADBrSG1AAAAAGE9EbUAAAACYjY1zQAAAAIx/i3NA",
          "dtype": "f8"
         },
         "xaxis": "x",
         "y": {
          "bdata": "b/bFCd7/KUDtmwTKmuMqQH9QEeuAwyRAsYb1SBANJUCiePkL4GUdQGv8g+VcTB1AeI0StfmXFkCZ75MdcesVQPSV6gzvCBJAEZtknKTLEUC50W6O9w0PQLW3rBxQ7Q5A",
          "dtype": "f8"
         },
         "yaxis": "y"
        },
        {
         "customdata": [
          [
           "seg_b0_ade",
           "seg_b0_ade\\20250910_211137_000015\\seg_b0_ade\\comparison_seg_b0_ade.json",
           "seg_b0_ade\\20250910_211137_000015"
          ],
          [
           "seg_b0_city",
           "seg_b0_city\\20250910_211142_000016\\seg_b0_city\\comparison_seg_b0_city.json",
           "seg_b0_city\\20250910_211142_000016"
          ],
          [
           "seg_b1_ade",
           "seg_b1_ade\\20250910_211148_000017\\seg_b1_ade\\comparison_seg_b1_ade.json",
           "seg_b1_ade\\20250910_211148_000017"
          ],
          [
           "seg_b1_city",
           "seg_b1_city\\20250910_211154_000018\\seg_b1_city\\comparison_seg_b1_city.json",
           "seg_b1_city\\20250910_211154_000018"
          ],
          [
           "seg_b2_ade",
           "seg_b2_ade\\20250910_211202_000019\\seg_b2_ade\\comparison_seg_b2_ade.json",
           "seg_b2_ade\\20250910_211202_000019"
          ],
          [
           "seg_b2_city",
           "seg_b2_city\\20250910_211211_000020\\seg_b2_city\\comparison_seg_b2_city.json",
           "seg_b2_city\\20250910_211211_000020"
          ],
          [
           "seg_b3_ade",
           "seg_b3_ade\\20250910_211222_000021\\seg_b3_ade\\comparison_seg_b3_ade.json",
           "seg_b3_ade\\20250910_211222_000021"
          ],
          [
           "seg_b3_city",
           "seg_b3_city\\20250910_211237_000022\\seg_b3_city\\comparison_seg_b3_city.json",
           "seg_b3_city\\20250910_211237_000022"
          ],
          [
           "seg_b4_ade",
           "seg_b4_ade\\20250910_211254_000023\\seg_b4_ade\\comparison_seg_b4_ade.json",
           "seg_b4_ade\\20250910_211254_000023"
          ],
          [
           "seg_b4_city",
           "seg_b4_city\\20250910_211318_000024\\seg_b4_city\\comparison_seg_b4_city.json",
           "seg_b4_city\\20250910_211318_000024"
          ],
          [
           "seg_b5_ade",
           "seg_b5_ade\\20250910_211346_000025\\seg_b5_ade\\comparison_seg_b5_ade.json",
           "seg_b5_ade\\20250910_211346_000025"
          ],
          [
           "seg_b5_city",
           "seg_b5_city\\20250910_211419_000026\\seg_b5_city\\comparison_seg_b5_city.json",
           "seg_b5_city\\20250910_211419_000026"
          ]
         ],
         "hovertemplate": "variant=batch<br>model_size_mb=%{x}<br>fps=%{marker.size}<br>model=%{customdata[0]}<br>filepath=%{customdata[1]}<br>session=%{customdata[2]}<extra></extra>",
         "legendgroup": "batch",
         "marker": {
          "color": "#ab63fa",
          "size": {
           "bdata": "2bOOQ2JkK0A6k60taZQsQF/SCAKiKSZA18Be9xPnJkBG9PRnV1IgQDvwFd/ioSBAoKEVCYyrGUDiZ2vlCBQZQNlYQadBixJAc9B5VGelEkDJiFEw9CAPQN1+B+T8Gg9A",
           "dtype": "f8"
          },
          "sizemode": "area",
          "sizeref": 0.056627992128280506,
          "symbol": "circle"
         },
         "mode": "markers",
         "name": "batch",
         "orientation": "v",
         "showlegend": true,
         "type": "scatter",
         "x": {
          "bdata": "AAAAAIOoLEAAAACAwWYsQAAAAMDsKkpAAAAAYHwaSkAAAABg9p1XQAAAADC+lVdAAAAAMDtJZUAAAAAYH0VlQAAAADBrSG1AAAAAGE9EbUAAAACYjY1zQAAAAIx/i3NA",
          "dtype": "f8"
         },
         "xaxis": "x",
         "y": {
          "bdata": "2bOOQ2JkK0A6k60taZQsQF/SCAKiKSZA18Be9xPnJkBG9PRnV1IgQDvwFd/ioSBAoKEVCYyrGUDiZ2vlCBQZQNlYQadBixJAc9B5VGelEkDJiFEw9CAPQN1+B+T8Gg9A",
          "dtype": "f8"
         },
         "yaxis": "y"
        }
       ],
       "layout": {
        "legend": {
         "itemsizing": "constant",
         "title": {
          "text": "variant"
         },
         "tracegroupgap": 0
        },
        "template": {
         "data": {
          "bar": [
           {
            "error_x": {
             "color": "#2a3f5f"
            },
            "error_y": {
             "color": "#2a3f5f"
            },
            "marker": {
             "line": {
              "color": "#E5ECF6",
              "width": 0.5
             },
             "pattern": {
              "fillmode": "overlay",
              "size": 10,
              "solidity": 0.2
             }
            },
            "type": "bar"
           }
          ],
          "barpolar": [
           {
            "marker": {
             "line": {
              "color": "#E5ECF6",
              "width": 0.5
             },
             "pattern": {
              "fillmode": "overlay",
              "size": 10,
              "solidity": 0.2
             }
            },
            "type": "barpolar"
           }
          ],
          "carpet": [
           {
            "aaxis": {
             "endlinecolor": "#2a3f5f",
             "gridcolor": "white",
             "linecolor": "white",
             "minorgridcolor": "white",
             "startlinecolor": "#2a3f5f"
            },
            "baxis": {
             "endlinecolor": "#2a3f5f",
             "gridcolor": "white",
             "linecolor": "white",
             "minorgridcolor": "white",
             "startlinecolor": "#2a3f5f"
            },
            "type": "carpet"
           }
          ],
          "choropleth": [
           {
            "colorbar": {
             "outlinewidth": 0,
             "ticks": ""
            },
            "type": "choropleth"
           }
          ],
          "contour": [
           {
            "colorbar": {
             "outlinewidth": 0,
             "ticks": ""
            },
            "colorscale": [
             [
              0,
              "#0d0887"
             ],
             [
              0.1111111111111111,
              "#46039f"
             ],
             [
              0.2222222222222222,
              "#7201a8"
             ],
             [
              0.3333333333333333,
              "#9c179e"
             ],
             [
              0.4444444444444444,
              "#bd3786"
             ],
             [
              0.5555555555555556,
              "#d8576b"
             ],
             [
              0.6666666666666666,
              "#ed7953"
             ],
             [
              0.7777777777777778,
              "#fb9f3a"
             ],
             [
              0.8888888888888888,
              "#fdca26"
             ],
             [
              1,
              "#f0f921"
             ]
            ],
            "type": "contour"
           }
          ],
          "contourcarpet": [
           {
            "colorbar": {
             "outlinewidth": 0,
             "ticks": ""
            },
            "type": "contourcarpet"
           }
          ],
          "heatmap": [
           {
            "colorbar": {
             "outlinewidth": 0,
             "ticks": ""
            },
            "colorscale": [
             [
              0,
              "#0d0887"
             ],
             [
              0.1111111111111111,
              "#46039f"
             ],
             [
              0.2222222222222222,
              "#7201a8"
             ],
             [
              0.3333333333333333,
              "#9c179e"
             ],
             [
              0.4444444444444444,
              "#bd3786"
             ],
             [
              0.5555555555555556,
              "#d8576b"
             ],
             [
              0.6666666666666666,
              "#ed7953"
             ],
             [
              0.7777777777777778,
              "#fb9f3a"
             ],
             [
              0.8888888888888888,
              "#fdca26"
             ],
             [
              1,
              "#f0f921"
             ]
            ],
            "type": "heatmap"
           }
          ],
          "histogram": [
           {
            "marker": {
             "pattern": {
              "fillmode": "overlay",
              "size": 10,
              "solidity": 0.2
             }
            },
            "type": "histogram"
           }
          ],
          "histogram2d": [
           {
            "colorbar": {
             "outlinewidth": 0,
             "ticks": ""
            },
            "colorscale": [
             [
              0,
              "#0d0887"
             ],
             [
              0.1111111111111111,
              "#46039f"
             ],
             [
              0.2222222222222222,
              "#7201a8"
             ],
             [
              0.3333333333333333,
              "#9c179e"
             ],
             [
              0.4444444444444444,
              "#bd3786"
             ],
             [
              0.5555555555555556,
              "#d8576b"
             ],
             [
              0.6666666666666666,
              "#ed7953"
             ],
             [
              0.7777777777777778,
              "#fb9f3a"
             ],
             [
              0.8888888888888888,
              "#fdca26"
             ],
             [
              1,
              "#f0f921"
             ]
            ],
            "type": "histogram2d"
           }
          ],
          "histogram2dcontour": [
           {
            "colorbar": {
             "outlinewidth": 0,
             "ticks": ""
            },
            "colorscale": [
             [
              0,
              "#0d0887"
             ],
             [
              0.1111111111111111,
              "#46039f"
             ],
             [
              0.2222222222222222,
              "#7201a8"
             ],
             [
              0.3333333333333333,
              "#9c179e"
             ],
             [
              0.4444444444444444,
              "#bd3786"
             ],
             [
              0.5555555555555556,
              "#d8576b"
             ],
             [
              0.6666666666666666,
              "#ed7953"
             ],
             [
              0.7777777777777778,
              "#fb9f3a"
             ],
             [
              0.8888888888888888,
              "#fdca26"
             ],
             [
              1,
              "#f0f921"
             ]
            ],
            "type": "histogram2dcontour"
           }
          ],
          "mesh3d": [
           {
            "colorbar": {
             "outlinewidth": 0,
             "ticks": ""
            },
            "type": "mesh3d"
           }
          ],
          "parcoords": [
           {
            "line": {
             "colorbar": {
              "outlinewidth": 0,
              "ticks": ""
             }
            },
            "type": "parcoords"
           }
          ],
          "pie": [
           {
            "automargin": true,
            "type": "pie"
           }
          ],
          "scatter": [
           {
            "fillpattern": {
             "fillmode": "overlay",
             "size": 10,
             "solidity": 0.2
            },
            "type": "scatter"
           }
          ],
          "scatter3d": [
           {
            "line": {
             "colorbar": {
              "outlinewidth": 0,
              "ticks": ""
             }
            },
            "marker": {
             "colorbar": {
              "outlinewidth": 0,
              "ticks": ""
             }
            },
            "type": "scatter3d"
           }
          ],
          "scattercarpet": [
           {
            "marker": {
             "colorbar": {
              "outlinewidth": 0,
              "ticks": ""
             }
            },
            "type": "scattercarpet"
           }
          ],
          "scattergeo": [
           {
            "marker": {
             "colorbar": {
              "outlinewidth": 0,
              "ticks": ""
             }
            },
            "type": "scattergeo"
           }
          ],
          "scattergl": [
           {
            "marker": {
             "colorbar": {
              "outlinewidth": 0,
              "ticks": ""
             }
            },
            "type": "scattergl"
           }
          ],
          "scattermap": [
           {
            "marker": {
             "colorbar": {
              "outlinewidth": 0,
              "ticks": ""
             }
            },
            "type": "scattermap"
           }
          ],
          "scattermapbox": [
           {
            "marker": {
             "colorbar": {
              "outlinewidth": 0,
              "ticks": ""
             }
            },
            "type": "scattermapbox"
           }
          ],
          "scatterpolar": [
           {
            "marker": {
             "colorbar": {
              "outlinewidth": 0,
              "ticks": ""
             }
            },
            "type": "scatterpolar"
           }
          ],
          "scatterpolargl": [
           {
            "marker": {
             "colorbar": {
              "outlinewidth": 0,
              "ticks": ""
             }
            },
            "type": "scatterpolargl"
           }
          ],
          "scatterternary": [
           {
            "marker": {
             "colorbar": {
              "outlinewidth": 0,
              "ticks": ""
             }
            },
            "type": "scatterternary"
           }
          ],
          "surface": [
           {
            "colorbar": {
             "outlinewidth": 0,
             "ticks": ""
            },
            "colorscale": [
             [
              0,
              "#0d0887"
             ],
             [
              0.1111111111111111,
              "#46039f"
             ],
             [
              0.2222222222222222,
              "#7201a8"
             ],
             [
              0.3333333333333333,
              "#9c179e"
             ],
             [
              0.4444444444444444,
              "#bd3786"
             ],
             [
              0.5555555555555556,
              "#d8576b"
             ],
             [
              0.6666666666666666,
              "#ed7953"
             ],
             [
              0.7777777777777778,
              "#fb9f3a"
             ],
             [
              0.8888888888888888,
              "#fdca26"
             ],
             [
              1,
              "#f0f921"
             ]
            ],
            "type": "surface"
           }
          ],
          "table": [
           {
            "cells": {
             "fill": {
              "color": "#EBF0F8"
             },
             "line": {
              "color": "white"
             }
            },
            "header": {
             "fill": {
              "color": "#C8D4E3"
             },
             "line": {
              "color": "white"
             }
            },
            "type": "table"
           }
          ]
         },
         "layout": {
          "annotationdefaults": {
           "arrowcolor": "#2a3f5f",
           "arrowhead": 0,
           "arrowwidth": 1
          },
          "autotypenumbers": "strict",
          "coloraxis": {
           "colorbar": {
            "outlinewidth": 0,
            "ticks": ""
           }
          },
          "colorscale": {
           "diverging": [
            [
             0,
             "#8e0152"
            ],
            [
             0.1,
             "#c51b7d"
            ],
            [
             0.2,
             "#de77ae"
            ],
            [
             0.3,
             "#f1b6da"
            ],
            [
             0.4,
             "#fde0ef"
            ],
            [
             0.5,
             "#f7f7f7"
            ],
            [
             0.6,
             "#e6f5d0"
            ],
            [
             0.7,
             "#b8e186"
            ],
            [
             0.8,
             "#7fbc41"
            ],
            [
             0.9,
             "#4d9221"
            ],
            [
             1,
             "#276419"
            ]
           ],
           "sequential": [
            [
             0,
             "#0d0887"
            ],
            [
             0.1111111111111111,
             "#46039f"
            ],
            [
             0.2222222222222222,
             "#7201a8"
            ],
            [
             0.3333333333333333,
             "#9c179e"
            ],
            [
             0.4444444444444444,
             "#bd3786"
            ],
            [
             0.5555555555555556,
             "#d8576b"
            ],
            [
             0.6666666666666666,
             "#ed7953"
            ],
            [
             0.7777777777777778,
             "#fb9f3a"
            ],
            [
             0.8888888888888888,
             "#fdca26"
            ],
            [
             1,
             "#f0f921"
            ]
           ],
           "sequentialminus": [
            [
             0,
             "#0d0887"
            ],
            [
             0.1111111111111111,
             "#46039f"
            ],
            [
             0.2222222222222222,
             "#7201a8"
            ],
            [
             0.3333333333333333,
             "#9c179e"
            ],
            [
             0.4444444444444444,
             "#bd3786"
            ],
            [
             0.5555555555555556,
             "#d8576b"
            ],
            [
             0.6666666666666666,
             "#ed7953"
            ],
            [
             0.7777777777777778,
             "#fb9f3a"
            ],
            [
             0.8888888888888888,
             "#fdca26"
            ],
            [
             1,
             "#f0f921"
            ]
           ]
          },
          "colorway": [
           "#636efa",
           "#EF553B",
           "#00cc96",
           "#ab63fa",
           "#FFA15A",
           "#19d3f3",
           "#FF6692",
           "#B6E880",
           "#FF97FF",
           "#FECB52"
          ],
          "font": {
           "color": "#2a3f5f"
          },
          "geo": {
           "bgcolor": "white",
           "lakecolor": "white",
           "landcolor": "#E5ECF6",
           "showlakes": true,
           "showland": true,
           "subunitcolor": "white"
          },
          "hoverlabel": {
           "align": "left"
          },
          "hovermode": "closest",
          "mapbox": {
           "style": "light"
          },
          "paper_bgcolor": "white",
          "plot_bgcolor": "#E5ECF6",
          "polar": {
           "angularaxis": {
            "gridcolor": "white",
            "linecolor": "white",
            "ticks": ""
           },
           "bgcolor": "#E5ECF6",
           "radialaxis": {
            "gridcolor": "white",
            "linecolor": "white",
            "ticks": ""
           }
          },
          "scene": {
           "xaxis": {
            "backgroundcolor": "#E5ECF6",
            "gridcolor": "white",
            "gridwidth": 2,
            "linecolor": "white",
            "showbackground": true,
            "ticks": "",
            "zerolinecolor": "white"
           },
           "yaxis": {
            "backgroundcolor": "#E5ECF6",
            "gridcolor": "white",
            "gridwidth": 2,
            "linecolor": "white",
            "showbackground": true,
            "ticks": "",
            "zerolinecolor": "white"
           },
           "zaxis": {
            "backgroundcolor": "#E5ECF6",
            "gridcolor": "white",
            "gridwidth": 2,
            "linecolor": "white",
            "showbackground": true,
            "ticks": "",
            "zerolinecolor": "white"
           }
          },
          "shapedefaults": {
           "line": {
            "color": "#2a3f5f"
           }
          },
          "ternary": {
           "aaxis": {
            "gridcolor": "white",
            "linecolor": "white",
            "ticks": ""
           },
           "baxis": {
            "gridcolor": "white",
            "linecolor": "white",
            "ticks": ""
           },
           "bgcolor": "#E5ECF6",
           "caxis": {
            "gridcolor": "white",
            "linecolor": "white",
            "ticks": ""
           }
          },
          "title": {
           "x": 0.05
          },
          "xaxis": {
           "automargin": true,
           "gridcolor": "white",
           "linecolor": "white",
           "ticks": "",
           "title": {
            "standoff": 15
           },
           "zerolinecolor": "white",
           "zerolinewidth": 2
          },
          "yaxis": {
           "automargin": true,
           "gridcolor": "white",
           "linecolor": "white",
           "ticks": "",
           "title": {
            "standoff": 15
           },
           "zerolinecolor": "white",
           "zerolinewidth": 2
          }
         }
        },
        "title": {
         "text": "Model size (MB) vs FPS"
        },
        "xaxis": {
         "anchor": "y",
         "domain": [
          0,
          1
         ],
         "title": {
          "text": "model_size_mb"
         }
        },
        "yaxis": {
         "anchor": "x",
         "domain": [
          0,
          1
         ],
         "title": {
          "text": "fps"
         }
        }
       }
      }
     },
     "metadata": {},
     "output_type": "display_data"
    },
    {
     "name": "stdout",
     "output_type": "stream",
     "text": [
      "Done.\n"
     ]
    }
   ],
   "source": [
    "# Scan optimized_models for comparison_*.json but only use the latest session per model — only direct folders named \"seg_*\" — aggregate and plot with Plotly\n",
    "import json\n",
    "from pathlib import Path\n",
    "import pandas as pd\n",
    "import plotly.express as px\n",
    "\n",
    "# root should be the optimized_models folder (not the repo root)\n",
    "root = Path(\"./\")\n",
    "\n",
    "rows = []\n",
    "# iterate immediate child model folders whose name starts with 'seg_'\n",
    "model_folders = sorted([p for p in root.iterdir() if p.is_dir() and p.name.startswith('seg_')])\n",
    "for model_dir in model_folders:\n",
    "    # find session subfolders inside the model_dir (e.g., 20250910_204734_000015)\n",
    "    session_dirs = [d for d in model_dir.iterdir() if d.is_dir()]\n",
    "    if not session_dirs:\n",
    "        # sometimes files may be directly inside; check for comparison files directly\n",
    "        candidates = list(model_dir.rglob('comparison_*.json'))\n",
    "        if not candidates:\n",
    "            continue\n",
    "        latest_session_root = model_dir\n",
    "    else:\n",
    "        # choose the latest session by folder name (YYYYMMDD... lexicographical order works)\n",
    "        latest_session = max(session_dirs, key=lambda d: d.name)\n",
    "        latest_session_root = latest_session\n",
    "\n",
    "    # search within the latest session root for comparison_*.json files\n",
    "    found = list(latest_session_root.rglob('comparison_*.json'))\n",
    "    if not found:\n",
    "        # if nothing found, try one level deeper (some layouts have an extra model-named folder)\n",
    "        deeper = []\n",
    "        for child in latest_session_root.iterdir():\n",
    "            if child.is_dir():\n",
    "                deeper.extend(child.rglob('comparison_*.json'))\n",
    "        found = deeper\n",
    "\n",
    "    if not found:\n",
    "        # nothing to process for this model\n",
    "        print(f\"No comparison_*.json for model folder {model_dir.name} (checked latest session {latest_session_root})\")\n",
    "        continue\n",
    "\n",
    "    # process all comparison files found in the chosen latest session\n",
    "    for p in found:\n",
    "        try:\n",
    "            data = json.loads(p.read_text(encoding='utf-8'))\n",
    "        except Exception as e:\n",
    "            print(f\"Skipping {p}: {e}\")\n",
    "            continue\n",
    "        model_label = model_dir.name\n",
    "        # flatten the metrics\n",
    "        for variant, metrics in data.items():\n",
    "            row = dict(model=model_label, variant=variant, filepath=str(p), session=str(latest_session_root))\n",
    "            if not isinstance(metrics, dict):\n",
    "                # safety: sometimes JSON may be a list/other\n",
    "                print(f\"⚠️ Skipping {p} - invalid metrics format for variant {variant}\")\n",
    "                continue\n",
    "            for k, v in metrics.items():\n",
    "                row[k] = v\n",
    "            rows.append(row)\n",
    "\n",
    "if not rows:\n",
    "    print('No comparison_*.json files found under', root, 'for latest sessions of seg_* folders')\n",
    "else:\n",
    "    df = pd.DataFrame(rows)\n",
    "    # tidy up model names\n",
    "    df['model'] = df['model'].astype(str)\n",
    "    display(df.head())\n",
    "\n",
    "    # Plot: FPS by model and variant\n",
    "    if 'fps' in df.columns:\n",
    "        fig1 = px.bar(df, x='model', y='fps', color='variant', barmode='group', title='FPS by model and variant')\n",
    "        fig1.show()\n",
    "\n",
    "    # Plot: inference time ms by model and variant\n",
    "    if 'avg_inference_time_ms' in df.columns:\n",
    "        fig2 = px.bar(df, x='model', y='avg_inference_time_ms', color='variant', barmode='group', title='Avg inference time (ms) by model and variant')\n",
    "        fig2.update_yaxes(type='log')\n",
    "        fig2.show()\n",
    "\n",
    "    # Scatter: model size vs fps\n",
    "    if 'model_size_mb' in df.columns and 'fps' in df.columns:\n",
    "        fig3 = px.scatter(df, x='model_size_mb', y='fps', color='variant', hover_data=['model', 'filepath', 'session'], size='fps', title='Model size (MB) vs FPS')\n",
    "        fig3.show()\n",
    "\n",
    "    print('Done.')"
   ]
  }
 ],
 "metadata": {
  "kernelspec": {
   "display_name": "Python 3",
   "language": "python",
   "name": "python3"
  },
  "language_info": {
   "codemirror_mode": {
    "name": "ipython",
    "version": 3
   },
   "file_extension": ".py",
   "mimetype": "text/x-python",
   "name": "python",
   "nbconvert_exporter": "python",
   "pygments_lexer": "ipython3",
   "version": "3.11.9"
  }
 },
 "nbformat": 4,
 "nbformat_minor": 5
}
