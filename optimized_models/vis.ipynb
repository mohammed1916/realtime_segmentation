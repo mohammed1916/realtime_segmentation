{
 "cells": [
  {
   "cell_type": "markdown",
   "id": "dfba99db",
   "metadata": {},
   "source": [
    "# Visualize optimized models comparison results\n",
    "\n",
    "This notebook scans the `optimized_models` directory for `comparison_*.json` files, aggregates the reported metrics (fps, avg_inference_time_ms, model_size_mb, etc.), and renders interactive Plotly charts to compare variants (original, fp16, int8, batch) across models. Run the code cell below to produce the charts."
   ]
  },
  {
   "cell_type": "code",
   "execution_count": 20,
   "id": "a3397ef4",
   "metadata": {},
   "outputs": [
    {
     "data": {
      "text/html": [
       "<div>\n",
       "<style scoped>\n",
       "    .dataframe tbody tr th:only-of-type {\n",
       "        vertical-align: middle;\n",
       "    }\n",
       "\n",
       "    .dataframe tbody tr th {\n",
       "        vertical-align: top;\n",
       "    }\n",
       "\n",
       "    .dataframe thead th {\n",
       "        text-align: right;\n",
       "    }\n",
       "</style>\n",
       "<table border=\"1\" class=\"dataframe\">\n",
       "  <thead>\n",
       "    <tr style=\"text-align: right;\">\n",
       "      <th></th>\n",
       "      <th>model</th>\n",
       "      <th>variant</th>\n",
       "      <th>avg_inference_time_ms</th>\n",
       "      <th>fps</th>\n",
       "      <th>model_size_mb</th>\n",
       "      <th>batch_size</th>\n",
       "    </tr>\n",
       "  </thead>\n",
       "  <tbody>\n",
       "    <tr>\n",
       "      <th>0</th>\n",
       "      <td>seg_b0_ade</td>\n",
       "      <td>original</td>\n",
       "      <td>89.074898</td>\n",
       "      <td>11.226507</td>\n",
       "      <td>14.329124</td>\n",
       "      <td>1</td>\n",
       "    </tr>\n",
       "    <tr>\n",
       "      <th>1</th>\n",
       "      <td>seg_b0_ade</td>\n",
       "      <td>fp16</td>\n",
       "      <td>47.638083</td>\n",
       "      <td>20.991609</td>\n",
       "      <td>7.164581</td>\n",
       "      <td>1</td>\n",
       "    </tr>\n",
       "    <tr>\n",
       "      <th>2</th>\n",
       "      <td>seg_b0_ade</td>\n",
       "      <td>int8</td>\n",
       "      <td>81.778049</td>\n",
       "      <td>12.228220</td>\n",
       "      <td>14.329124</td>\n",
       "      <td>1</td>\n",
       "    </tr>\n",
       "    <tr>\n",
       "      <th>3</th>\n",
       "      <td>seg_b0_ade</td>\n",
       "      <td>batch</td>\n",
       "      <td>75.335884</td>\n",
       "      <td>13.273887</td>\n",
       "      <td>14.329124</td>\n",
       "      <td>4</td>\n",
       "    </tr>\n",
       "    <tr>\n",
       "      <th>4</th>\n",
       "      <td>seg_b0_city</td>\n",
       "      <td>original</td>\n",
       "      <td>86.810684</td>\n",
       "      <td>11.519319</td>\n",
       "      <td>14.200695</td>\n",
       "      <td>1</td>\n",
       "    </tr>\n",
       "    <tr>\n",
       "      <th>5</th>\n",
       "      <td>seg_b0_city</td>\n",
       "      <td>fp16</td>\n",
       "      <td>46.374226</td>\n",
       "      <td>21.563702</td>\n",
       "      <td>7.100367</td>\n",
       "      <td>1</td>\n",
       "    </tr>\n",
       "    <tr>\n",
       "      <th>6</th>\n",
       "      <td>seg_b0_city</td>\n",
       "      <td>int8</td>\n",
       "      <td>78.359318</td>\n",
       "      <td>12.761724</td>\n",
       "      <td>14.200695</td>\n",
       "      <td>1</td>\n",
       "    </tr>\n",
       "    <tr>\n",
       "      <th>7</th>\n",
       "      <td>seg_b0_city</td>\n",
       "      <td>batch</td>\n",
       "      <td>72.506046</td>\n",
       "      <td>13.791953</td>\n",
       "      <td>14.200695</td>\n",
       "      <td>4</td>\n",
       "    </tr>\n",
       "    <tr>\n",
       "      <th>8</th>\n",
       "      <td>seg_b1_ade</td>\n",
       "      <td>original</td>\n",
       "      <td>114.189386</td>\n",
       "      <td>8.757381</td>\n",
       "      <td>52.335350</td>\n",
       "      <td>1</td>\n",
       "    </tr>\n",
       "    <tr>\n",
       "      <th>9</th>\n",
       "      <td>seg_b1_ade</td>\n",
       "      <td>fp16</td>\n",
       "      <td>55.843925</td>\n",
       "      <td>17.907051</td>\n",
       "      <td>26.167694</td>\n",
       "      <td>1</td>\n",
       "    </tr>\n",
       "    <tr>\n",
       "      <th>10</th>\n",
       "      <td>seg_b1_ade</td>\n",
       "      <td>int8</td>\n",
       "      <td>97.979498</td>\n",
       "      <td>10.206217</td>\n",
       "      <td>52.335350</td>\n",
       "      <td>1</td>\n",
       "    </tr>\n",
       "    <tr>\n",
       "      <th>11</th>\n",
       "      <td>seg_b1_ade</td>\n",
       "      <td>batch</td>\n",
       "      <td>90.002060</td>\n",
       "      <td>11.110857</td>\n",
       "      <td>52.335350</td>\n",
       "      <td>4</td>\n",
       "    </tr>\n",
       "    <tr>\n",
       "      <th>12</th>\n",
       "      <td>seg_b1_city</td>\n",
       "      <td>original</td>\n",
       "      <td>118.454742</td>\n",
       "      <td>8.442043</td>\n",
       "      <td>52.206921</td>\n",
       "      <td>1</td>\n",
       "    </tr>\n",
       "    <tr>\n",
       "      <th>13</th>\n",
       "      <td>seg_b1_city</td>\n",
       "      <td>fp16</td>\n",
       "      <td>53.352976</td>\n",
       "      <td>18.743097</td>\n",
       "      <td>26.103479</td>\n",
       "      <td>1</td>\n",
       "    </tr>\n",
       "    <tr>\n",
       "      <th>14</th>\n",
       "      <td>seg_b1_city</td>\n",
       "      <td>int8</td>\n",
       "      <td>99.755716</td>\n",
       "      <td>10.024488</td>\n",
       "      <td>52.206921</td>\n",
       "      <td>1</td>\n",
       "    </tr>\n",
       "    <tr>\n",
       "      <th>15</th>\n",
       "      <td>seg_b1_city</td>\n",
       "      <td>batch</td>\n",
       "      <td>87.883902</td>\n",
       "      <td>11.378648</td>\n",
       "      <td>52.206921</td>\n",
       "      <td>4</td>\n",
       "    </tr>\n",
       "    <tr>\n",
       "      <th>16</th>\n",
       "      <td>seg_b2_ade</td>\n",
       "      <td>original</td>\n",
       "      <td>169.783974</td>\n",
       "      <td>5.889837</td>\n",
       "      <td>94.468163</td>\n",
       "      <td>1</td>\n",
       "    </tr>\n",
       "    <tr>\n",
       "      <th>17</th>\n",
       "      <td>seg_b2_ade</td>\n",
       "      <td>fp16</td>\n",
       "      <td>75.402308</td>\n",
       "      <td>13.262194</td>\n",
       "      <td>47.234100</td>\n",
       "      <td>1</td>\n",
       "    </tr>\n",
       "    <tr>\n",
       "      <th>18</th>\n",
       "      <td>seg_b2_ade</td>\n",
       "      <td>int8</td>\n",
       "      <td>142.023134</td>\n",
       "      <td>7.041106</td>\n",
       "      <td>94.468163</td>\n",
       "      <td>1</td>\n",
       "    </tr>\n",
       "    <tr>\n",
       "      <th>19</th>\n",
       "      <td>seg_b2_ade</td>\n",
       "      <td>batch</td>\n",
       "      <td>125.258780</td>\n",
       "      <td>7.983472</td>\n",
       "      <td>94.468163</td>\n",
       "      <td>4</td>\n",
       "    </tr>\n",
       "    <tr>\n",
       "      <th>20</th>\n",
       "      <td>seg_b2_city</td>\n",
       "      <td>original</td>\n",
       "      <td>170.470667</td>\n",
       "      <td>5.866112</td>\n",
       "      <td>94.339733</td>\n",
       "      <td>1</td>\n",
       "    </tr>\n",
       "    <tr>\n",
       "      <th>21</th>\n",
       "      <td>seg_b2_city</td>\n",
       "      <td>fp16</td>\n",
       "      <td>74.781799</td>\n",
       "      <td>13.372238</td>\n",
       "      <td>47.169886</td>\n",
       "      <td>1</td>\n",
       "    </tr>\n",
       "    <tr>\n",
       "      <th>22</th>\n",
       "      <td>seg_b2_city</td>\n",
       "      <td>int8</td>\n",
       "      <td>136.342382</td>\n",
       "      <td>7.334477</td>\n",
       "      <td>94.339733</td>\n",
       "      <td>1</td>\n",
       "    </tr>\n",
       "    <tr>\n",
       "      <th>23</th>\n",
       "      <td>seg_b2_city</td>\n",
       "      <td>batch</td>\n",
       "      <td>121.005964</td>\n",
       "      <td>8.264055</td>\n",
       "      <td>94.339733</td>\n",
       "      <td>4</td>\n",
       "    </tr>\n",
       "    <tr>\n",
       "      <th>24</th>\n",
       "      <td>seg_b3_ade</td>\n",
       "      <td>original</td>\n",
       "      <td>239.769125</td>\n",
       "      <td>4.170679</td>\n",
       "      <td>170.288475</td>\n",
       "      <td>1</td>\n",
       "    </tr>\n",
       "    <tr>\n",
       "      <th>25</th>\n",
       "      <td>seg_b3_ade</td>\n",
       "      <td>fp16</td>\n",
       "      <td>102.080870</td>\n",
       "      <td>9.796155</td>\n",
       "      <td>85.144257</td>\n",
       "      <td>1</td>\n",
       "    </tr>\n",
       "    <tr>\n",
       "      <th>26</th>\n",
       "      <td>seg_b3_ade</td>\n",
       "      <td>int8</td>\n",
       "      <td>176.703501</td>\n",
       "      <td>5.659197</td>\n",
       "      <td>170.288475</td>\n",
       "      <td>1</td>\n",
       "    </tr>\n",
       "    <tr>\n",
       "      <th>27</th>\n",
       "      <td>seg_b3_ade</td>\n",
       "      <td>batch</td>\n",
       "      <td>157.066393</td>\n",
       "      <td>6.366734</td>\n",
       "      <td>170.288475</td>\n",
       "      <td>4</td>\n",
       "    </tr>\n",
       "    <tr>\n",
       "      <th>28</th>\n",
       "      <td>seg_b3_city</td>\n",
       "      <td>original</td>\n",
       "      <td>236.186457</td>\n",
       "      <td>4.233943</td>\n",
       "      <td>170.160046</td>\n",
       "      <td>1</td>\n",
       "    </tr>\n",
       "    <tr>\n",
       "      <th>29</th>\n",
       "      <td>seg_b3_city</td>\n",
       "      <td>fp16</td>\n",
       "      <td>95.977068</td>\n",
       "      <td>10.419156</td>\n",
       "      <td>85.080042</td>\n",
       "      <td>1</td>\n",
       "    </tr>\n",
       "    <tr>\n",
       "      <th>30</th>\n",
       "      <td>seg_b3_city</td>\n",
       "      <td>int8</td>\n",
       "      <td>176.825333</td>\n",
       "      <td>5.655298</td>\n",
       "      <td>170.160046</td>\n",
       "      <td>1</td>\n",
       "    </tr>\n",
       "    <tr>\n",
       "      <th>31</th>\n",
       "      <td>seg_b3_city</td>\n",
       "      <td>batch</td>\n",
       "      <td>155.453205</td>\n",
       "      <td>6.432804</td>\n",
       "      <td>170.160046</td>\n",
       "      <td>4</td>\n",
       "    </tr>\n",
       "    <tr>\n",
       "      <th>32</th>\n",
       "      <td>seg_b4_ade</td>\n",
       "      <td>original</td>\n",
       "      <td>303.358650</td>\n",
       "      <td>3.296428</td>\n",
       "      <td>234.263084</td>\n",
       "      <td>1</td>\n",
       "    </tr>\n",
       "    <tr>\n",
       "      <th>33</th>\n",
       "      <td>seg_b4_ade</td>\n",
       "      <td>fp16</td>\n",
       "      <td>119.987726</td>\n",
       "      <td>8.334186</td>\n",
       "      <td>117.131561</td>\n",
       "      <td>1</td>\n",
       "    </tr>\n",
       "    <tr>\n",
       "      <th>34</th>\n",
       "      <td>seg_b4_ade</td>\n",
       "      <td>int8</td>\n",
       "      <td>220.201159</td>\n",
       "      <td>4.541302</td>\n",
       "      <td>234.263084</td>\n",
       "      <td>1</td>\n",
       "    </tr>\n",
       "    <tr>\n",
       "      <th>35</th>\n",
       "      <td>seg_b4_ade</td>\n",
       "      <td>batch</td>\n",
       "      <td>219.489479</td>\n",
       "      <td>4.556027</td>\n",
       "      <td>234.263084</td>\n",
       "      <td>4</td>\n",
       "    </tr>\n",
       "    <tr>\n",
       "      <th>36</th>\n",
       "      <td>seg_b4_city</td>\n",
       "      <td>original</td>\n",
       "      <td>302.391291</td>\n",
       "      <td>3.306974</td>\n",
       "      <td>234.134655</td>\n",
       "      <td>1</td>\n",
       "    </tr>\n",
       "    <tr>\n",
       "      <th>37</th>\n",
       "      <td>seg_b4_city</td>\n",
       "      <td>fp16</td>\n",
       "      <td>117.872238</td>\n",
       "      <td>8.483762</td>\n",
       "      <td>117.067347</td>\n",
       "      <td>1</td>\n",
       "    </tr>\n",
       "    <tr>\n",
       "      <th>38</th>\n",
       "      <td>seg_b4_city</td>\n",
       "      <td>int8</td>\n",
       "      <td>216.254568</td>\n",
       "      <td>4.624180</td>\n",
       "      <td>234.134655</td>\n",
       "      <td>1</td>\n",
       "    </tr>\n",
       "    <tr>\n",
       "      <th>39</th>\n",
       "      <td>seg_b4_city</td>\n",
       "      <td>batch</td>\n",
       "      <td>212.115097</td>\n",
       "      <td>4.714422</td>\n",
       "      <td>234.134655</td>\n",
       "      <td>4</td>\n",
       "    </tr>\n",
       "    <tr>\n",
       "      <th>40</th>\n",
       "      <td>seg_b5_ade</td>\n",
       "      <td>original</td>\n",
       "      <td>345.543623</td>\n",
       "      <td>2.893991</td>\n",
       "      <td>312.847069</td>\n",
       "      <td>1</td>\n",
       "    </tr>\n",
       "    <tr>\n",
       "      <th>41</th>\n",
       "      <td>seg_b5_ade</td>\n",
       "      <td>fp16</td>\n",
       "      <td>133.676100</td>\n",
       "      <td>7.480769</td>\n",
       "      <td>156.423553</td>\n",
       "      <td>1</td>\n",
       "    </tr>\n",
       "    <tr>\n",
       "      <th>42</th>\n",
       "      <td>seg_b5_ade</td>\n",
       "      <td>int8</td>\n",
       "      <td>256.268454</td>\n",
       "      <td>3.902158</td>\n",
       "      <td>312.847069</td>\n",
       "      <td>1</td>\n",
       "    </tr>\n",
       "    <tr>\n",
       "      <th>43</th>\n",
       "      <td>seg_b5_ade</td>\n",
       "      <td>batch</td>\n",
       "      <td>262.097359</td>\n",
       "      <td>3.815376</td>\n",
       "      <td>312.847069</td>\n",
       "      <td>4</td>\n",
       "    </tr>\n",
       "    <tr>\n",
       "      <th>44</th>\n",
       "      <td>seg_b5_city</td>\n",
       "      <td>original</td>\n",
       "      <td>361.020136</td>\n",
       "      <td>2.769929</td>\n",
       "      <td>312.718639</td>\n",
       "      <td>1</td>\n",
       "    </tr>\n",
       "    <tr>\n",
       "      <th>45</th>\n",
       "      <td>seg_b5_city</td>\n",
       "      <td>fp16</td>\n",
       "      <td>190.790939</td>\n",
       "      <td>5.241339</td>\n",
       "      <td>156.359339</td>\n",
       "      <td>1</td>\n",
       "    </tr>\n",
       "    <tr>\n",
       "      <th>46</th>\n",
       "      <td>seg_b5_city</td>\n",
       "      <td>int8</td>\n",
       "      <td>294.855261</td>\n",
       "      <td>3.391495</td>\n",
       "      <td>312.718639</td>\n",
       "      <td>1</td>\n",
       "    </tr>\n",
       "    <tr>\n",
       "      <th>47</th>\n",
       "      <td>seg_b5_city</td>\n",
       "      <td>batch</td>\n",
       "      <td>254.013538</td>\n",
       "      <td>3.936798</td>\n",
       "      <td>312.718639</td>\n",
       "      <td>4</td>\n",
       "    </tr>\n",
       "  </tbody>\n",
       "</table>\n",
       "</div>"
      ],
      "text/plain": [
       "          model   variant  avg_inference_time_ms        fps  model_size_mb  \\\n",
       "0    seg_b0_ade  original              89.074898  11.226507      14.329124   \n",
       "1    seg_b0_ade      fp16              47.638083  20.991609       7.164581   \n",
       "2    seg_b0_ade      int8              81.778049  12.228220      14.329124   \n",
       "3    seg_b0_ade     batch              75.335884  13.273887      14.329124   \n",
       "4   seg_b0_city  original              86.810684  11.519319      14.200695   \n",
       "5   seg_b0_city      fp16              46.374226  21.563702       7.100367   \n",
       "6   seg_b0_city      int8              78.359318  12.761724      14.200695   \n",
       "7   seg_b0_city     batch              72.506046  13.791953      14.200695   \n",
       "8    seg_b1_ade  original             114.189386   8.757381      52.335350   \n",
       "9    seg_b1_ade      fp16              55.843925  17.907051      26.167694   \n",
       "10   seg_b1_ade      int8              97.979498  10.206217      52.335350   \n",
       "11   seg_b1_ade     batch              90.002060  11.110857      52.335350   \n",
       "12  seg_b1_city  original             118.454742   8.442043      52.206921   \n",
       "13  seg_b1_city      fp16              53.352976  18.743097      26.103479   \n",
       "14  seg_b1_city      int8              99.755716  10.024488      52.206921   \n",
       "15  seg_b1_city     batch              87.883902  11.378648      52.206921   \n",
       "16   seg_b2_ade  original             169.783974   5.889837      94.468163   \n",
       "17   seg_b2_ade      fp16              75.402308  13.262194      47.234100   \n",
       "18   seg_b2_ade      int8             142.023134   7.041106      94.468163   \n",
       "19   seg_b2_ade     batch             125.258780   7.983472      94.468163   \n",
       "20  seg_b2_city  original             170.470667   5.866112      94.339733   \n",
       "21  seg_b2_city      fp16              74.781799  13.372238      47.169886   \n",
       "22  seg_b2_city      int8             136.342382   7.334477      94.339733   \n",
       "23  seg_b2_city     batch             121.005964   8.264055      94.339733   \n",
       "24   seg_b3_ade  original             239.769125   4.170679     170.288475   \n",
       "25   seg_b3_ade      fp16             102.080870   9.796155      85.144257   \n",
       "26   seg_b3_ade      int8             176.703501   5.659197     170.288475   \n",
       "27   seg_b3_ade     batch             157.066393   6.366734     170.288475   \n",
       "28  seg_b3_city  original             236.186457   4.233943     170.160046   \n",
       "29  seg_b3_city      fp16              95.977068  10.419156      85.080042   \n",
       "30  seg_b3_city      int8             176.825333   5.655298     170.160046   \n",
       "31  seg_b3_city     batch             155.453205   6.432804     170.160046   \n",
       "32   seg_b4_ade  original             303.358650   3.296428     234.263084   \n",
       "33   seg_b4_ade      fp16             119.987726   8.334186     117.131561   \n",
       "34   seg_b4_ade      int8             220.201159   4.541302     234.263084   \n",
       "35   seg_b4_ade     batch             219.489479   4.556027     234.263084   \n",
       "36  seg_b4_city  original             302.391291   3.306974     234.134655   \n",
       "37  seg_b4_city      fp16             117.872238   8.483762     117.067347   \n",
       "38  seg_b4_city      int8             216.254568   4.624180     234.134655   \n",
       "39  seg_b4_city     batch             212.115097   4.714422     234.134655   \n",
       "40   seg_b5_ade  original             345.543623   2.893991     312.847069   \n",
       "41   seg_b5_ade      fp16             133.676100   7.480769     156.423553   \n",
       "42   seg_b5_ade      int8             256.268454   3.902158     312.847069   \n",
       "43   seg_b5_ade     batch             262.097359   3.815376     312.847069   \n",
       "44  seg_b5_city  original             361.020136   2.769929     312.718639   \n",
       "45  seg_b5_city      fp16             190.790939   5.241339     156.359339   \n",
       "46  seg_b5_city      int8             294.855261   3.391495     312.718639   \n",
       "47  seg_b5_city     batch             254.013538   3.936798     312.718639   \n",
       "\n",
       "    batch_size  \n",
       "0            1  \n",
       "1            1  \n",
       "2            1  \n",
       "3            4  \n",
       "4            1  \n",
       "5            1  \n",
       "6            1  \n",
       "7            4  \n",
       "8            1  \n",
       "9            1  \n",
       "10           1  \n",
       "11           4  \n",
       "12           1  \n",
       "13           1  \n",
       "14           1  \n",
       "15           4  \n",
       "16           1  \n",
       "17           1  \n",
       "18           1  \n",
       "19           4  \n",
       "20           1  \n",
       "21           1  \n",
       "22           1  \n",
       "23           4  \n",
       "24           1  \n",
       "25           1  \n",
       "26           1  \n",
       "27           4  \n",
       "28           1  \n",
       "29           1  \n",
       "30           1  \n",
       "31           4  \n",
       "32           1  \n",
       "33           1  \n",
       "34           1  \n",
       "35           4  \n",
       "36           1  \n",
       "37           1  \n",
       "38           1  \n",
       "39           4  \n",
       "40           1  \n",
       "41           1  \n",
       "42           1  \n",
       "43           4  \n",
       "44           1  \n",
       "45           1  \n",
       "46           1  \n",
       "47           4  "
      ]
     },
     "metadata": {},
     "output_type": "display_data"
    },
    {
     "data": {
      "application/vnd.plotly.v1+json": {
       "config": {
        "plotlyServerURL": "https://plot.ly"
       },
       "data": [
        {
         "alignmentgroup": "True",
         "hovertemplate": "variant=original<br>model=%{x}<br>fps=%{y}<extra></extra>",
         "legendgroup": "original",
         "marker": {
          "color": "#636efa",
          "pattern": {
           "shape": ""
          }
         },
         "name": "original",
         "offsetgroup": "original",
         "orientation": "v",
         "showlegend": true,
         "textposition": "auto",
         "type": "bar",
         "x": [
          "seg_b0_ade",
          "seg_b0_city",
          "seg_b1_ade",
          "seg_b1_city",
          "seg_b2_ade",
          "seg_b2_city",
          "seg_b3_ade",
          "seg_b3_city",
          "seg_b4_ade",
          "seg_b4_city",
          "seg_b5_ade",
          "seg_b5_city"
         ],
         "xaxis": "x",
         "y": {
          "bdata": "1DiOx/hzJkAvAwE85AknQNY6QnzHgyFAbiKGbVPiIEBY7MaJMY8XQDAMtQbmdhdAZwKRasauEEBmYWfCju8QQH9LbLsVXwpAtlhyjK50CkAg83CM5CYHQIcBlVPQKAZA",
          "dtype": "f8"
         },
         "yaxis": "y"
        },
        {
         "alignmentgroup": "True",
         "hovertemplate": "variant=fp16<br>model=%{x}<br>fps=%{y}<extra></extra>",
         "legendgroup": "fp16",
         "marker": {
          "color": "#EF553B",
          "pattern": {
           "shape": ""
          }
         },
         "name": "fp16",
         "offsetgroup": "fp16",
         "orientation": "v",
         "showlegend": true,
         "textposition": "auto",
         "type": "bar",
         "x": [
          "seg_b0_ade",
          "seg_b0_city",
          "seg_b1_ade",
          "seg_b1_city",
          "seg_b2_ade",
          "seg_b2_city",
          "seg_b3_ade",
          "seg_b3_city",
          "seg_b4_ade",
          "seg_b4_city",
          "seg_b5_ade",
          "seg_b5_city"
         ],
         "xaxis": "x",
         "y": {
          "bdata": "lKTfFdr9NECP9dfMTpA1QHEjFHg06DFAM2Bnmju+MkBkQ0g9PoYqQD9/WPKVvipAXPCemaGXI0D2jVaOm9YkQKebl2UaqyBAD6Hgoq/3IEAPG8OpTuwdQIbGPJUh9xRA",
          "dtype": "f8"
         },
         "yaxis": "y"
        },
        {
         "alignmentgroup": "True",
         "hovertemplate": "variant=int8<br>model=%{x}<br>fps=%{y}<extra></extra>",
         "legendgroup": "int8",
         "marker": {
          "color": "#00cc96",
          "pattern": {
           "shape": ""
          }
         },
         "name": "int8",
         "offsetgroup": "int8",
         "orientation": "v",
         "showlegend": true,
         "textposition": "auto",
         "type": "bar",
         "x": [
          "seg_b0_ade",
          "seg_b0_city",
          "seg_b1_ade",
          "seg_b1_city",
          "seg_b2_ade",
          "seg_b2_city",
          "seg_b3_ade",
          "seg_b3_city",
          "seg_b4_ade",
          "seg_b4_city",
          "seg_b5_ade",
          "seg_b5_city"
         ],
         "xaxis": "x",
         "y": {
          "bdata": "WzalSNl0KEB4mwO2AIYpQCpuaECVaSRA1HA/t4kMJEB15xjMFyocQINtAAKBVh1AEQS0pwSjFkDZxFKDBp8WQFuMAB5LKhJAFxed+yh/EkD0SfeenjcPQDHtYODHIQtA",
          "dtype": "f8"
         },
         "yaxis": "y"
        },
        {
         "alignmentgroup": "True",
         "hovertemplate": "variant=batch<br>model=%{x}<br>fps=%{y}<extra></extra>",
         "legendgroup": "batch",
         "marker": {
          "color": "#ab63fa",
          "pattern": {
           "shape": ""
          }
         },
         "name": "batch",
         "offsetgroup": "batch",
         "orientation": "v",
         "showlegend": true,
         "textposition": "auto",
         "type": "bar",
         "x": [
          "seg_b0_ade",
          "seg_b0_city",
          "seg_b1_ade",
          "seg_b1_city",
          "seg_b2_ade",
          "seg_b2_city",
          "seg_b3_ade",
          "seg_b3_city",
          "seg_b4_ade",
          "seg_b4_city",
          "seg_b5_ade",
          "seg_b5_city"
         ],
         "xaxis": "x",
         "y": {
          "bdata": "zPQk5TqMKkAVSBXlepUrQO6NFTnCOCZA/vHFLd7BJkCoCJxeE+8fQEexCEcyhyBA3NQWNol3GUCmku74MLsZQPqGgyZfORJApgyDV5HbEkCyMn7o44UOQBGfjPiPfg9A",
          "dtype": "f8"
         },
         "yaxis": "y"
        }
       ],
       "layout": {
        "barmode": "group",
        "legend": {
         "title": {
          "text": "variant"
         },
         "tracegroupgap": 0
        },
        "template": {
         "data": {
          "bar": [
           {
            "error_x": {
             "color": "#2a3f5f"
            },
            "error_y": {
             "color": "#2a3f5f"
            },
            "marker": {
             "line": {
              "color": "#E5ECF6",
              "width": 0.5
             },
             "pattern": {
              "fillmode": "overlay",
              "size": 10,
              "solidity": 0.2
             }
            },
            "type": "bar"
           }
          ],
          "barpolar": [
           {
            "marker": {
             "line": {
              "color": "#E5ECF6",
              "width": 0.5
             },
             "pattern": {
              "fillmode": "overlay",
              "size": 10,
              "solidity": 0.2
             }
            },
            "type": "barpolar"
           }
          ],
          "carpet": [
           {
            "aaxis": {
             "endlinecolor": "#2a3f5f",
             "gridcolor": "white",
             "linecolor": "white",
             "minorgridcolor": "white",
             "startlinecolor": "#2a3f5f"
            },
            "baxis": {
             "endlinecolor": "#2a3f5f",
             "gridcolor": "white",
             "linecolor": "white",
             "minorgridcolor": "white",
             "startlinecolor": "#2a3f5f"
            },
            "type": "carpet"
           }
          ],
          "choropleth": [
           {
            "colorbar": {
             "outlinewidth": 0,
             "ticks": ""
            },
            "type": "choropleth"
           }
          ],
          "contour": [
           {
            "colorbar": {
             "outlinewidth": 0,
             "ticks": ""
            },
            "colorscale": [
             [
              0,
              "#0d0887"
             ],
             [
              0.1111111111111111,
              "#46039f"
             ],
             [
              0.2222222222222222,
              "#7201a8"
             ],
             [
              0.3333333333333333,
              "#9c179e"
             ],
             [
              0.4444444444444444,
              "#bd3786"
             ],
             [
              0.5555555555555556,
              "#d8576b"
             ],
             [
              0.6666666666666666,
              "#ed7953"
             ],
             [
              0.7777777777777778,
              "#fb9f3a"
             ],
             [
              0.8888888888888888,
              "#fdca26"
             ],
             [
              1,
              "#f0f921"
             ]
            ],
            "type": "contour"
           }
          ],
          "contourcarpet": [
           {
            "colorbar": {
             "outlinewidth": 0,
             "ticks": ""
            },
            "type": "contourcarpet"
           }
          ],
          "heatmap": [
           {
            "colorbar": {
             "outlinewidth": 0,
             "ticks": ""
            },
            "colorscale": [
             [
              0,
              "#0d0887"
             ],
             [
              0.1111111111111111,
              "#46039f"
             ],
             [
              0.2222222222222222,
              "#7201a8"
             ],
             [
              0.3333333333333333,
              "#9c179e"
             ],
             [
              0.4444444444444444,
              "#bd3786"
             ],
             [
              0.5555555555555556,
              "#d8576b"
             ],
             [
              0.6666666666666666,
              "#ed7953"
             ],
             [
              0.7777777777777778,
              "#fb9f3a"
             ],
             [
              0.8888888888888888,
              "#fdca26"
             ],
             [
              1,
              "#f0f921"
             ]
            ],
            "type": "heatmap"
           }
          ],
          "histogram": [
           {
            "marker": {
             "pattern": {
              "fillmode": "overlay",
              "size": 10,
              "solidity": 0.2
             }
            },
            "type": "histogram"
           }
          ],
          "histogram2d": [
           {
            "colorbar": {
             "outlinewidth": 0,
             "ticks": ""
            },
            "colorscale": [
             [
              0,
              "#0d0887"
             ],
             [
              0.1111111111111111,
              "#46039f"
             ],
             [
              0.2222222222222222,
              "#7201a8"
             ],
             [
              0.3333333333333333,
              "#9c179e"
             ],
             [
              0.4444444444444444,
              "#bd3786"
             ],
             [
              0.5555555555555556,
              "#d8576b"
             ],
             [
              0.6666666666666666,
              "#ed7953"
             ],
             [
              0.7777777777777778,
              "#fb9f3a"
             ],
             [
              0.8888888888888888,
              "#fdca26"
             ],
             [
              1,
              "#f0f921"
             ]
            ],
            "type": "histogram2d"
           }
          ],
          "histogram2dcontour": [
           {
            "colorbar": {
             "outlinewidth": 0,
             "ticks": ""
            },
            "colorscale": [
             [
              0,
              "#0d0887"
             ],
             [
              0.1111111111111111,
              "#46039f"
             ],
             [
              0.2222222222222222,
              "#7201a8"
             ],
             [
              0.3333333333333333,
              "#9c179e"
             ],
             [
              0.4444444444444444,
              "#bd3786"
             ],
             [
              0.5555555555555556,
              "#d8576b"
             ],
             [
              0.6666666666666666,
              "#ed7953"
             ],
             [
              0.7777777777777778,
              "#fb9f3a"
             ],
             [
              0.8888888888888888,
              "#fdca26"
             ],
             [
              1,
              "#f0f921"
             ]
            ],
            "type": "histogram2dcontour"
           }
          ],
          "mesh3d": [
           {
            "colorbar": {
             "outlinewidth": 0,
             "ticks": ""
            },
            "type": "mesh3d"
           }
          ],
          "parcoords": [
           {
            "line": {
             "colorbar": {
              "outlinewidth": 0,
              "ticks": ""
             }
            },
            "type": "parcoords"
           }
          ],
          "pie": [
           {
            "automargin": true,
            "type": "pie"
           }
          ],
          "scatter": [
           {
            "fillpattern": {
             "fillmode": "overlay",
             "size": 10,
             "solidity": 0.2
            },
            "type": "scatter"
           }
          ],
          "scatter3d": [
           {
            "line": {
             "colorbar": {
              "outlinewidth": 0,
              "ticks": ""
             }
            },
            "marker": {
             "colorbar": {
              "outlinewidth": 0,
              "ticks": ""
             }
            },
            "type": "scatter3d"
           }
          ],
          "scattercarpet": [
           {
            "marker": {
             "colorbar": {
              "outlinewidth": 0,
              "ticks": ""
             }
            },
            "type": "scattercarpet"
           }
          ],
          "scattergeo": [
           {
            "marker": {
             "colorbar": {
              "outlinewidth": 0,
              "ticks": ""
             }
            },
            "type": "scattergeo"
           }
          ],
          "scattergl": [
           {
            "marker": {
             "colorbar": {
              "outlinewidth": 0,
              "ticks": ""
             }
            },
            "type": "scattergl"
           }
          ],
          "scattermap": [
           {
            "marker": {
             "colorbar": {
              "outlinewidth": 0,
              "ticks": ""
             }
            },
            "type": "scattermap"
           }
          ],
          "scattermapbox": [
           {
            "marker": {
             "colorbar": {
              "outlinewidth": 0,
              "ticks": ""
             }
            },
            "type": "scattermapbox"
           }
          ],
          "scatterpolar": [
           {
            "marker": {
             "colorbar": {
              "outlinewidth": 0,
              "ticks": ""
             }
            },
            "type": "scatterpolar"
           }
          ],
          "scatterpolargl": [
           {
            "marker": {
             "colorbar": {
              "outlinewidth": 0,
              "ticks": ""
             }
            },
            "type": "scatterpolargl"
           }
          ],
          "scatterternary": [
           {
            "marker": {
             "colorbar": {
              "outlinewidth": 0,
              "ticks": ""
             }
            },
            "type": "scatterternary"
           }
          ],
          "surface": [
           {
            "colorbar": {
             "outlinewidth": 0,
             "ticks": ""
            },
            "colorscale": [
             [
              0,
              "#0d0887"
             ],
             [
              0.1111111111111111,
              "#46039f"
             ],
             [
              0.2222222222222222,
              "#7201a8"
             ],
             [
              0.3333333333333333,
              "#9c179e"
             ],
             [
              0.4444444444444444,
              "#bd3786"
             ],
             [
              0.5555555555555556,
              "#d8576b"
             ],
             [
              0.6666666666666666,
              "#ed7953"
             ],
             [
              0.7777777777777778,
              "#fb9f3a"
             ],
             [
              0.8888888888888888,
              "#fdca26"
             ],
             [
              1,
              "#f0f921"
             ]
            ],
            "type": "surface"
           }
          ],
          "table": [
           {
            "cells": {
             "fill": {
              "color": "#EBF0F8"
             },
             "line": {
              "color": "white"
             }
            },
            "header": {
             "fill": {
              "color": "#C8D4E3"
             },
             "line": {
              "color": "white"
             }
            },
            "type": "table"
           }
          ]
         },
         "layout": {
          "annotationdefaults": {
           "arrowcolor": "#2a3f5f",
           "arrowhead": 0,
           "arrowwidth": 1
          },
          "autotypenumbers": "strict",
          "coloraxis": {
           "colorbar": {
            "outlinewidth": 0,
            "ticks": ""
           }
          },
          "colorscale": {
           "diverging": [
            [
             0,
             "#8e0152"
            ],
            [
             0.1,
             "#c51b7d"
            ],
            [
             0.2,
             "#de77ae"
            ],
            [
             0.3,
             "#f1b6da"
            ],
            [
             0.4,
             "#fde0ef"
            ],
            [
             0.5,
             "#f7f7f7"
            ],
            [
             0.6,
             "#e6f5d0"
            ],
            [
             0.7,
             "#b8e186"
            ],
            [
             0.8,
             "#7fbc41"
            ],
            [
             0.9,
             "#4d9221"
            ],
            [
             1,
             "#276419"
            ]
           ],
           "sequential": [
            [
             0,
             "#0d0887"
            ],
            [
             0.1111111111111111,
             "#46039f"
            ],
            [
             0.2222222222222222,
             "#7201a8"
            ],
            [
             0.3333333333333333,
             "#9c179e"
            ],
            [
             0.4444444444444444,
             "#bd3786"
            ],
            [
             0.5555555555555556,
             "#d8576b"
            ],
            [
             0.6666666666666666,
             "#ed7953"
            ],
            [
             0.7777777777777778,
             "#fb9f3a"
            ],
            [
             0.8888888888888888,
             "#fdca26"
            ],
            [
             1,
             "#f0f921"
            ]
           ],
           "sequentialminus": [
            [
             0,
             "#0d0887"
            ],
            [
             0.1111111111111111,
             "#46039f"
            ],
            [
             0.2222222222222222,
             "#7201a8"
            ],
            [
             0.3333333333333333,
             "#9c179e"
            ],
            [
             0.4444444444444444,
             "#bd3786"
            ],
            [
             0.5555555555555556,
             "#d8576b"
            ],
            [
             0.6666666666666666,
             "#ed7953"
            ],
            [
             0.7777777777777778,
             "#fb9f3a"
            ],
            [
             0.8888888888888888,
             "#fdca26"
            ],
            [
             1,
             "#f0f921"
            ]
           ]
          },
          "colorway": [
           "#636efa",
           "#EF553B",
           "#00cc96",
           "#ab63fa",
           "#FFA15A",
           "#19d3f3",
           "#FF6692",
           "#B6E880",
           "#FF97FF",
           "#FECB52"
          ],
          "font": {
           "color": "#2a3f5f"
          },
          "geo": {
           "bgcolor": "white",
           "lakecolor": "white",
           "landcolor": "#E5ECF6",
           "showlakes": true,
           "showland": true,
           "subunitcolor": "white"
          },
          "hoverlabel": {
           "align": "left"
          },
          "hovermode": "closest",
          "mapbox": {
           "style": "light"
          },
          "paper_bgcolor": "white",
          "plot_bgcolor": "#E5ECF6",
          "polar": {
           "angularaxis": {
            "gridcolor": "white",
            "linecolor": "white",
            "ticks": ""
           },
           "bgcolor": "#E5ECF6",
           "radialaxis": {
            "gridcolor": "white",
            "linecolor": "white",
            "ticks": ""
           }
          },
          "scene": {
           "xaxis": {
            "backgroundcolor": "#E5ECF6",
            "gridcolor": "white",
            "gridwidth": 2,
            "linecolor": "white",
            "showbackground": true,
            "ticks": "",
            "zerolinecolor": "white"
           },
           "yaxis": {
            "backgroundcolor": "#E5ECF6",
            "gridcolor": "white",
            "gridwidth": 2,
            "linecolor": "white",
            "showbackground": true,
            "ticks": "",
            "zerolinecolor": "white"
           },
           "zaxis": {
            "backgroundcolor": "#E5ECF6",
            "gridcolor": "white",
            "gridwidth": 2,
            "linecolor": "white",
            "showbackground": true,
            "ticks": "",
            "zerolinecolor": "white"
           }
          },
          "shapedefaults": {
           "line": {
            "color": "#2a3f5f"
           }
          },
          "ternary": {
           "aaxis": {
            "gridcolor": "white",
            "linecolor": "white",
            "ticks": ""
           },
           "baxis": {
            "gridcolor": "white",
            "linecolor": "white",
            "ticks": ""
           },
           "bgcolor": "#E5ECF6",
           "caxis": {
            "gridcolor": "white",
            "linecolor": "white",
            "ticks": ""
           }
          },
          "title": {
           "x": 0.05
          },
          "xaxis": {
           "automargin": true,
           "gridcolor": "white",
           "linecolor": "white",
           "ticks": "",
           "title": {
            "standoff": 15
           },
           "zerolinecolor": "white",
           "zerolinewidth": 2
          },
          "yaxis": {
           "automargin": true,
           "gridcolor": "white",
           "linecolor": "white",
           "ticks": "",
           "title": {
            "standoff": 15
           },
           "zerolinecolor": "white",
           "zerolinewidth": 2
          }
         }
        },
        "title": {
         "text": "FPS by model and variant"
        },
        "xaxis": {
         "anchor": "y",
         "domain": [
          0,
          1
         ],
         "title": {
          "text": "model"
         }
        },
        "yaxis": {
         "anchor": "x",
         "domain": [
          0,
          1
         ],
         "title": {
          "text": "fps"
         }
        }
       }
      }
     },
     "metadata": {},
     "output_type": "display_data"
    },
    {
     "data": {
      "application/vnd.plotly.v1+json": {
       "config": {
        "plotlyServerURL": "https://plot.ly"
       },
       "data": [
        {
         "alignmentgroup": "True",
         "hovertemplate": "variant=original<br>model=%{x}<br>avg_inference_time_ms=%{y}<extra></extra>",
         "legendgroup": "original",
         "marker": {
          "color": "#636efa",
          "pattern": {
           "shape": ""
          }
         },
         "name": "original",
         "offsetgroup": "original",
         "orientation": "v",
         "showlegend": true,
         "textposition": "auto",
         "type": "bar",
         "x": [
          "seg_b0_ade",
          "seg_b0_city",
          "seg_b1_ade",
          "seg_b1_city",
          "seg_b2_ade",
          "seg_b2_city",
          "seg_b3_ade",
          "seg_b3_city",
          "seg_b4_ade",
          "seg_b4_city",
          "seg_b5_ade",
          "seg_b5_city"
         ],
         "xaxis": "x",
         "y": {
          "bdata": "AAAAIMtEVkAAAABA4rNVQAAAAOgejFxAAAAAgBqdXUAAAABQFjllQAAAALQPT2VAAAAArJz4bUAAAAB094VtQAAAAAi99XJAAAAAukLmckAAAACusph1QAAAAHpSkHZA",
          "dtype": "f8"
         },
         "yaxis": "y"
        },
        {
         "alignmentgroup": "True",
         "hovertemplate": "variant=fp16<br>model=%{x}<br>avg_inference_time_ms=%{y}<extra></extra>",
         "legendgroup": "fp16",
         "marker": {
          "color": "#EF553B",
          "pattern": {
           "shape": ""
          }
         },
         "name": "fp16",
         "offsetgroup": "fp16",
         "orientation": "v",
         "showlegend": true,
         "textposition": "auto",
         "type": "bar",
         "x": [
          "seg_b0_ade",
          "seg_b0_city",
          "seg_b1_ade",
          "seg_b1_city",
          "seg_b2_ade",
          "seg_b2_city",
          "seg_b3_ade",
          "seg_b3_city",
          "seg_b4_ade",
          "seg_b4_city",
          "seg_b5_ade",
          "seg_b5_city"
         ],
         "xaxis": "x",
         "y": {
          "bdata": "AAAAsKzRR0AAAACg5i9HQAAAAMAF7EtAAAAAUC6tSkAAAABov9lSQAAAAAAJslJAAAAA+CyFWUAAAABIiP5XQAAAAOg2/11AAAAAwNJ3XUAAAACcorVgQAAAAGBP2WdA",
          "dtype": "f8"
         },
         "yaxis": "y"
        },
        {
         "alignmentgroup": "True",
         "hovertemplate": "variant=int8<br>model=%{x}<br>avg_inference_time_ms=%{y}<extra></extra>",
         "legendgroup": "int8",
         "marker": {
          "color": "#00cc96",
          "pattern": {
           "shape": ""
          }
         },
         "name": "int8",
         "offsetgroup": "int8",
         "orientation": "v",
         "showlegend": true,
         "textposition": "auto",
         "type": "bar",
         "x": [
          "seg_b0_ade",
          "seg_b0_city",
          "seg_b1_ade",
          "seg_b1_city",
          "seg_b2_ade",
          "seg_b2_city",
          "seg_b3_ade",
          "seg_b3_city",
          "seg_b4_ade",
          "seg_b4_city",
          "seg_b5_ade",
          "seg_b5_city"
         ],
         "xaxis": "x",
         "y": {
          "bdata": "AAAAkMtxVEAAAAAQ/5ZTQAAAABiwflhAAAAAqF3wWEAAAACEvcBhQAAAAMz0CmFAAAAAFIMWZkAAAAAgaRpmQAAAAORvhmtAAAAAbCUIa0AAAACWSwRwQAAAACavbXJA",
          "dtype": "f8"
         },
         "yaxis": "y"
        },
        {
         "alignmentgroup": "True",
         "hovertemplate": "variant=batch<br>model=%{x}<br>avg_inference_time_ms=%{y}<extra></extra>",
         "legendgroup": "batch",
         "marker": {
          "color": "#ab63fa",
          "pattern": {
           "shape": ""
          }
         },
         "name": "batch",
         "offsetgroup": "batch",
         "orientation": "v",
         "showlegend": true,
         "textposition": "auto",
         "type": "bar",
         "x": [
          "seg_b0_ade",
          "seg_b0_city",
          "seg_b1_ade",
          "seg_b1_city",
          "seg_b2_ade",
          "seg_b2_city",
          "seg_b3_ade",
          "seg_b3_city",
          "seg_b4_ade",
          "seg_b4_city",
          "seg_b5_ade",
          "seg_b5_city"
         ],
         "xaxis": "x",
         "y": {
          "bdata": "AAAAIH/VUkAAAAAQYyBSQAAAAMAhgFZAAAAA2JH4VUAAAADYj1BfQAAAALhhQF5AAAAA5B+iY0AAAACogG5jQAAAANCpb2tAAAAA4K6DakAAAADIjmFwQAAAAOhuwG9A",
          "dtype": "f8"
         },
         "yaxis": "y"
        }
       ],
       "layout": {
        "barmode": "group",
        "legend": {
         "title": {
          "text": "variant"
         },
         "tracegroupgap": 0
        },
        "template": {
         "data": {
          "bar": [
           {
            "error_x": {
             "color": "#2a3f5f"
            },
            "error_y": {
             "color": "#2a3f5f"
            },
            "marker": {
             "line": {
              "color": "#E5ECF6",
              "width": 0.5
             },
             "pattern": {
              "fillmode": "overlay",
              "size": 10,
              "solidity": 0.2
             }
            },
            "type": "bar"
           }
          ],
          "barpolar": [
           {
            "marker": {
             "line": {
              "color": "#E5ECF6",
              "width": 0.5
             },
             "pattern": {
              "fillmode": "overlay",
              "size": 10,
              "solidity": 0.2
             }
            },
            "type": "barpolar"
           }
          ],
          "carpet": [
           {
            "aaxis": {
             "endlinecolor": "#2a3f5f",
             "gridcolor": "white",
             "linecolor": "white",
             "minorgridcolor": "white",
             "startlinecolor": "#2a3f5f"
            },
            "baxis": {
             "endlinecolor": "#2a3f5f",
             "gridcolor": "white",
             "linecolor": "white",
             "minorgridcolor": "white",
             "startlinecolor": "#2a3f5f"
            },
            "type": "carpet"
           }
          ],
          "choropleth": [
           {
            "colorbar": {
             "outlinewidth": 0,
             "ticks": ""
            },
            "type": "choropleth"
           }
          ],
          "contour": [
           {
            "colorbar": {
             "outlinewidth": 0,
             "ticks": ""
            },
            "colorscale": [
             [
              0,
              "#0d0887"
             ],
             [
              0.1111111111111111,
              "#46039f"
             ],
             [
              0.2222222222222222,
              "#7201a8"
             ],
             [
              0.3333333333333333,
              "#9c179e"
             ],
             [
              0.4444444444444444,
              "#bd3786"
             ],
             [
              0.5555555555555556,
              "#d8576b"
             ],
             [
              0.6666666666666666,
              "#ed7953"
             ],
             [
              0.7777777777777778,
              "#fb9f3a"
             ],
             [
              0.8888888888888888,
              "#fdca26"
             ],
             [
              1,
              "#f0f921"
             ]
            ],
            "type": "contour"
           }
          ],
          "contourcarpet": [
           {
            "colorbar": {
             "outlinewidth": 0,
             "ticks": ""
            },
            "type": "contourcarpet"
           }
          ],
          "heatmap": [
           {
            "colorbar": {
             "outlinewidth": 0,
             "ticks": ""
            },
            "colorscale": [
             [
              0,
              "#0d0887"
             ],
             [
              0.1111111111111111,
              "#46039f"
             ],
             [
              0.2222222222222222,
              "#7201a8"
             ],
             [
              0.3333333333333333,
              "#9c179e"
             ],
             [
              0.4444444444444444,
              "#bd3786"
             ],
             [
              0.5555555555555556,
              "#d8576b"
             ],
             [
              0.6666666666666666,
              "#ed7953"
             ],
             [
              0.7777777777777778,
              "#fb9f3a"
             ],
             [
              0.8888888888888888,
              "#fdca26"
             ],
             [
              1,
              "#f0f921"
             ]
            ],
            "type": "heatmap"
           }
          ],
          "histogram": [
           {
            "marker": {
             "pattern": {
              "fillmode": "overlay",
              "size": 10,
              "solidity": 0.2
             }
            },
            "type": "histogram"
           }
          ],
          "histogram2d": [
           {
            "colorbar": {
             "outlinewidth": 0,
             "ticks": ""
            },
            "colorscale": [
             [
              0,
              "#0d0887"
             ],
             [
              0.1111111111111111,
              "#46039f"
             ],
             [
              0.2222222222222222,
              "#7201a8"
             ],
             [
              0.3333333333333333,
              "#9c179e"
             ],
             [
              0.4444444444444444,
              "#bd3786"
             ],
             [
              0.5555555555555556,
              "#d8576b"
             ],
             [
              0.6666666666666666,
              "#ed7953"
             ],
             [
              0.7777777777777778,
              "#fb9f3a"
             ],
             [
              0.8888888888888888,
              "#fdca26"
             ],
             [
              1,
              "#f0f921"
             ]
            ],
            "type": "histogram2d"
           }
          ],
          "histogram2dcontour": [
           {
            "colorbar": {
             "outlinewidth": 0,
             "ticks": ""
            },
            "colorscale": [
             [
              0,
              "#0d0887"
             ],
             [
              0.1111111111111111,
              "#46039f"
             ],
             [
              0.2222222222222222,
              "#7201a8"
             ],
             [
              0.3333333333333333,
              "#9c179e"
             ],
             [
              0.4444444444444444,
              "#bd3786"
             ],
             [
              0.5555555555555556,
              "#d8576b"
             ],
             [
              0.6666666666666666,
              "#ed7953"
             ],
             [
              0.7777777777777778,
              "#fb9f3a"
             ],
             [
              0.8888888888888888,
              "#fdca26"
             ],
             [
              1,
              "#f0f921"
             ]
            ],
            "type": "histogram2dcontour"
           }
          ],
          "mesh3d": [
           {
            "colorbar": {
             "outlinewidth": 0,
             "ticks": ""
            },
            "type": "mesh3d"
           }
          ],
          "parcoords": [
           {
            "line": {
             "colorbar": {
              "outlinewidth": 0,
              "ticks": ""
             }
            },
            "type": "parcoords"
           }
          ],
          "pie": [
           {
            "automargin": true,
            "type": "pie"
           }
          ],
          "scatter": [
           {
            "fillpattern": {
             "fillmode": "overlay",
             "size": 10,
             "solidity": 0.2
            },
            "type": "scatter"
           }
          ],
          "scatter3d": [
           {
            "line": {
             "colorbar": {
              "outlinewidth": 0,
              "ticks": ""
             }
            },
            "marker": {
             "colorbar": {
              "outlinewidth": 0,
              "ticks": ""
             }
            },
            "type": "scatter3d"
           }
          ],
          "scattercarpet": [
           {
            "marker": {
             "colorbar": {
              "outlinewidth": 0,
              "ticks": ""
             }
            },
            "type": "scattercarpet"
           }
          ],
          "scattergeo": [
           {
            "marker": {
             "colorbar": {
              "outlinewidth": 0,
              "ticks": ""
             }
            },
            "type": "scattergeo"
           }
          ],
          "scattergl": [
           {
            "marker": {
             "colorbar": {
              "outlinewidth": 0,
              "ticks": ""
             }
            },
            "type": "scattergl"
           }
          ],
          "scattermap": [
           {
            "marker": {
             "colorbar": {
              "outlinewidth": 0,
              "ticks": ""
             }
            },
            "type": "scattermap"
           }
          ],
          "scattermapbox": [
           {
            "marker": {
             "colorbar": {
              "outlinewidth": 0,
              "ticks": ""
             }
            },
            "type": "scattermapbox"
           }
          ],
          "scatterpolar": [
           {
            "marker": {
             "colorbar": {
              "outlinewidth": 0,
              "ticks": ""
             }
            },
            "type": "scatterpolar"
           }
          ],
          "scatterpolargl": [
           {
            "marker": {
             "colorbar": {
              "outlinewidth": 0,
              "ticks": ""
             }
            },
            "type": "scatterpolargl"
           }
          ],
          "scatterternary": [
           {
            "marker": {
             "colorbar": {
              "outlinewidth": 0,
              "ticks": ""
             }
            },
            "type": "scatterternary"
           }
          ],
          "surface": [
           {
            "colorbar": {
             "outlinewidth": 0,
             "ticks": ""
            },
            "colorscale": [
             [
              0,
              "#0d0887"
             ],
             [
              0.1111111111111111,
              "#46039f"
             ],
             [
              0.2222222222222222,
              "#7201a8"
             ],
             [
              0.3333333333333333,
              "#9c179e"
             ],
             [
              0.4444444444444444,
              "#bd3786"
             ],
             [
              0.5555555555555556,
              "#d8576b"
             ],
             [
              0.6666666666666666,
              "#ed7953"
             ],
             [
              0.7777777777777778,
              "#fb9f3a"
             ],
             [
              0.8888888888888888,
              "#fdca26"
             ],
             [
              1,
              "#f0f921"
             ]
            ],
            "type": "surface"
           }
          ],
          "table": [
           {
            "cells": {
             "fill": {
              "color": "#EBF0F8"
             },
             "line": {
              "color": "white"
             }
            },
            "header": {
             "fill": {
              "color": "#C8D4E3"
             },
             "line": {
              "color": "white"
             }
            },
            "type": "table"
           }
          ]
         },
         "layout": {
          "annotationdefaults": {
           "arrowcolor": "#2a3f5f",
           "arrowhead": 0,
           "arrowwidth": 1
          },
          "autotypenumbers": "strict",
          "coloraxis": {
           "colorbar": {
            "outlinewidth": 0,
            "ticks": ""
           }
          },
          "colorscale": {
           "diverging": [
            [
             0,
             "#8e0152"
            ],
            [
             0.1,
             "#c51b7d"
            ],
            [
             0.2,
             "#de77ae"
            ],
            [
             0.3,
             "#f1b6da"
            ],
            [
             0.4,
             "#fde0ef"
            ],
            [
             0.5,
             "#f7f7f7"
            ],
            [
             0.6,
             "#e6f5d0"
            ],
            [
             0.7,
             "#b8e186"
            ],
            [
             0.8,
             "#7fbc41"
            ],
            [
             0.9,
             "#4d9221"
            ],
            [
             1,
             "#276419"
            ]
           ],
           "sequential": [
            [
             0,
             "#0d0887"
            ],
            [
             0.1111111111111111,
             "#46039f"
            ],
            [
             0.2222222222222222,
             "#7201a8"
            ],
            [
             0.3333333333333333,
             "#9c179e"
            ],
            [
             0.4444444444444444,
             "#bd3786"
            ],
            [
             0.5555555555555556,
             "#d8576b"
            ],
            [
             0.6666666666666666,
             "#ed7953"
            ],
            [
             0.7777777777777778,
             "#fb9f3a"
            ],
            [
             0.8888888888888888,
             "#fdca26"
            ],
            [
             1,
             "#f0f921"
            ]
           ],
           "sequentialminus": [
            [
             0,
             "#0d0887"
            ],
            [
             0.1111111111111111,
             "#46039f"
            ],
            [
             0.2222222222222222,
             "#7201a8"
            ],
            [
             0.3333333333333333,
             "#9c179e"
            ],
            [
             0.4444444444444444,
             "#bd3786"
            ],
            [
             0.5555555555555556,
             "#d8576b"
            ],
            [
             0.6666666666666666,
             "#ed7953"
            ],
            [
             0.7777777777777778,
             "#fb9f3a"
            ],
            [
             0.8888888888888888,
             "#fdca26"
            ],
            [
             1,
             "#f0f921"
            ]
           ]
          },
          "colorway": [
           "#636efa",
           "#EF553B",
           "#00cc96",
           "#ab63fa",
           "#FFA15A",
           "#19d3f3",
           "#FF6692",
           "#B6E880",
           "#FF97FF",
           "#FECB52"
          ],
          "font": {
           "color": "#2a3f5f"
          },
          "geo": {
           "bgcolor": "white",
           "lakecolor": "white",
           "landcolor": "#E5ECF6",
           "showlakes": true,
           "showland": true,
           "subunitcolor": "white"
          },
          "hoverlabel": {
           "align": "left"
          },
          "hovermode": "closest",
          "mapbox": {
           "style": "light"
          },
          "paper_bgcolor": "white",
          "plot_bgcolor": "#E5ECF6",
          "polar": {
           "angularaxis": {
            "gridcolor": "white",
            "linecolor": "white",
            "ticks": ""
           },
           "bgcolor": "#E5ECF6",
           "radialaxis": {
            "gridcolor": "white",
            "linecolor": "white",
            "ticks": ""
           }
          },
          "scene": {
           "xaxis": {
            "backgroundcolor": "#E5ECF6",
            "gridcolor": "white",
            "gridwidth": 2,
            "linecolor": "white",
            "showbackground": true,
            "ticks": "",
            "zerolinecolor": "white"
           },
           "yaxis": {
            "backgroundcolor": "#E5ECF6",
            "gridcolor": "white",
            "gridwidth": 2,
            "linecolor": "white",
            "showbackground": true,
            "ticks": "",
            "zerolinecolor": "white"
           },
           "zaxis": {
            "backgroundcolor": "#E5ECF6",
            "gridcolor": "white",
            "gridwidth": 2,
            "linecolor": "white",
            "showbackground": true,
            "ticks": "",
            "zerolinecolor": "white"
           }
          },
          "shapedefaults": {
           "line": {
            "color": "#2a3f5f"
           }
          },
          "ternary": {
           "aaxis": {
            "gridcolor": "white",
            "linecolor": "white",
            "ticks": ""
           },
           "baxis": {
            "gridcolor": "white",
            "linecolor": "white",
            "ticks": ""
           },
           "bgcolor": "#E5ECF6",
           "caxis": {
            "gridcolor": "white",
            "linecolor": "white",
            "ticks": ""
           }
          },
          "title": {
           "x": 0.05
          },
          "xaxis": {
           "automargin": true,
           "gridcolor": "white",
           "linecolor": "white",
           "ticks": "",
           "title": {
            "standoff": 15
           },
           "zerolinecolor": "white",
           "zerolinewidth": 2
          },
          "yaxis": {
           "automargin": true,
           "gridcolor": "white",
           "linecolor": "white",
           "ticks": "",
           "title": {
            "standoff": 15
           },
           "zerolinecolor": "white",
           "zerolinewidth": 2
          }
         }
        },
        "title": {
         "text": "Avg inference time (ms) by model and variant"
        },
        "xaxis": {
         "anchor": "y",
         "domain": [
          0,
          1
         ],
         "title": {
          "text": "model"
         }
        },
        "yaxis": {
         "anchor": "x",
         "domain": [
          0,
          1
         ],
         "title": {
          "text": "avg_inference_time_ms"
         },
         "type": "log"
        }
       }
      }
     },
     "metadata": {},
     "output_type": "display_data"
    },
    {
     "data": {
      "application/vnd.plotly.v1+json": {
       "config": {
        "plotlyServerURL": "https://plot.ly"
       },
       "data": [
        {
         "customdata": [
          [
           "seg_b0_ade",
           "seg_b0_ade\\20250911_173448_000015\\seg_b0_ade\\comparison_seg_b0_ade.json",
           "seg_b0_ade\\20250911_173448_000015"
          ],
          [
           "seg_b0_city",
           "seg_b0_city\\20250911_173453_000016\\seg_b0_city\\comparison_seg_b0_city.json",
           "seg_b0_city\\20250911_173453_000016"
          ],
          [
           "seg_b1_ade",
           "seg_b1_ade\\20250911_173458_000017\\seg_b1_ade\\comparison_seg_b1_ade.json",
           "seg_b1_ade\\20250911_173458_000017"
          ],
          [
           "seg_b1_city",
           "seg_b1_city\\20250911_173504_000018\\seg_b1_city\\comparison_seg_b1_city.json",
           "seg_b1_city\\20250911_173504_000018"
          ],
          [
           "seg_b2_ade",
           "seg_b2_ade\\20250911_173511_000019\\seg_b2_ade\\comparison_seg_b2_ade.json",
           "seg_b2_ade\\20250911_173511_000019"
          ],
          [
           "seg_b2_city",
           "seg_b2_city\\20250911_173521_000020\\seg_b2_city\\comparison_seg_b2_city.json",
           "seg_b2_city\\20250911_173521_000020"
          ],
          [
           "seg_b3_ade",
           "seg_b3_ade\\20250911_173532_000021\\seg_b3_ade\\comparison_seg_b3_ade.json",
           "seg_b3_ade\\20250911_173532_000021"
          ],
          [
           "seg_b3_city",
           "seg_b3_city\\20250911_173548_000022\\seg_b3_city\\comparison_seg_b3_city.json",
           "seg_b3_city\\20250911_173548_000022"
          ],
          [
           "seg_b4_ade",
           "seg_b4_ade\\20250911_173605_000023\\seg_b4_ade\\comparison_seg_b4_ade.json",
           "seg_b4_ade\\20250911_173605_000023"
          ],
          [
           "seg_b4_city",
           "seg_b4_city\\20250911_173626_000024\\seg_b4_city\\comparison_seg_b4_city.json",
           "seg_b4_city\\20250911_173626_000024"
          ],
          [
           "seg_b5_ade",
           "seg_b5_ade\\20250911_173650_000025\\seg_b5_ade\\comparison_seg_b5_ade.json",
           "seg_b5_ade\\20250911_173650_000025"
          ],
          [
           "seg_b5_city",
           "seg_b5_city\\20250911_173721_000026\\seg_b5_city\\comparison_seg_b5_city.json",
           "seg_b5_city\\20250911_173721_000026"
          ]
         ],
         "hovertemplate": "variant=original<br>model_size_mb=%{x}<br>fps=%{marker.size}<br>model=%{customdata[0]}<br>filepath=%{customdata[1]}<br>session=%{customdata[2]}<extra></extra>",
         "legendgroup": "original",
         "marker": {
          "color": "#636efa",
          "size": {
           "bdata": "1DiOx/hzJkAvAwE85AknQNY6QnzHgyFAbiKGbVPiIEBY7MaJMY8XQDAMtQbmdhdAZwKRasauEEBmYWfCju8QQH9LbLsVXwpAtlhyjK50CkAg83CM5CYHQIcBlVPQKAZA",
           "dtype": "f8"
          },
          "sizemode": "area",
          "sizeref": 0.05390925598794083,
          "symbol": "circle"
         },
         "mode": "markers",
         "name": "original",
         "orientation": "v",
         "showlegend": true,
         "type": "scatter",
         "x": {
          "bdata": "AAAAAIOoLEAAAACAwWYsQAAAAMDsKkpAAAAAYHwaSkAAAABg9p1XQAAAADC+lVdAAAAAMDtJZUAAAAAYH0VlQAAAADBrSG1AAAAAGE9EbUAAAACYjY1zQAAAAIx/i3NA",
          "dtype": "f8"
         },
         "xaxis": "x",
         "y": {
          "bdata": "1DiOx/hzJkAvAwE85AknQNY6QnzHgyFAbiKGbVPiIEBY7MaJMY8XQDAMtQbmdhdAZwKRasauEEBmYWfCju8QQH9LbLsVXwpAtlhyjK50CkAg83CM5CYHQIcBlVPQKAZA",
          "dtype": "f8"
         },
         "yaxis": "y"
        },
        {
         "customdata": [
          [
           "seg_b0_ade",
           "seg_b0_ade\\20250911_173448_000015\\seg_b0_ade\\comparison_seg_b0_ade.json",
           "seg_b0_ade\\20250911_173448_000015"
          ],
          [
           "seg_b0_city",
           "seg_b0_city\\20250911_173453_000016\\seg_b0_city\\comparison_seg_b0_city.json",
           "seg_b0_city\\20250911_173453_000016"
          ],
          [
           "seg_b1_ade",
           "seg_b1_ade\\20250911_173458_000017\\seg_b1_ade\\comparison_seg_b1_ade.json",
           "seg_b1_ade\\20250911_173458_000017"
          ],
          [
           "seg_b1_city",
           "seg_b1_city\\20250911_173504_000018\\seg_b1_city\\comparison_seg_b1_city.json",
           "seg_b1_city\\20250911_173504_000018"
          ],
          [
           "seg_b2_ade",
           "seg_b2_ade\\20250911_173511_000019\\seg_b2_ade\\comparison_seg_b2_ade.json",
           "seg_b2_ade\\20250911_173511_000019"
          ],
          [
           "seg_b2_city",
           "seg_b2_city\\20250911_173521_000020\\seg_b2_city\\comparison_seg_b2_city.json",
           "seg_b2_city\\20250911_173521_000020"
          ],
          [
           "seg_b3_ade",
           "seg_b3_ade\\20250911_173532_000021\\seg_b3_ade\\comparison_seg_b3_ade.json",
           "seg_b3_ade\\20250911_173532_000021"
          ],
          [
           "seg_b3_city",
           "seg_b3_city\\20250911_173548_000022\\seg_b3_city\\comparison_seg_b3_city.json",
           "seg_b3_city\\20250911_173548_000022"
          ],
          [
           "seg_b4_ade",
           "seg_b4_ade\\20250911_173605_000023\\seg_b4_ade\\comparison_seg_b4_ade.json",
           "seg_b4_ade\\20250911_173605_000023"
          ],
          [
           "seg_b4_city",
           "seg_b4_city\\20250911_173626_000024\\seg_b4_city\\comparison_seg_b4_city.json",
           "seg_b4_city\\20250911_173626_000024"
          ],
          [
           "seg_b5_ade",
           "seg_b5_ade\\20250911_173650_000025\\seg_b5_ade\\comparison_seg_b5_ade.json",
           "seg_b5_ade\\20250911_173650_000025"
          ],
          [
           "seg_b5_city",
           "seg_b5_city\\20250911_173721_000026\\seg_b5_city\\comparison_seg_b5_city.json",
           "seg_b5_city\\20250911_173721_000026"
          ]
         ],
         "hovertemplate": "variant=fp16<br>model_size_mb=%{x}<br>fps=%{marker.size}<br>model=%{customdata[0]}<br>filepath=%{customdata[1]}<br>session=%{customdata[2]}<extra></extra>",
         "legendgroup": "fp16",
         "marker": {
          "color": "#EF553B",
          "size": {
           "bdata": "lKTfFdr9NECP9dfMTpA1QHEjFHg06DFAM2Bnmju+MkBkQ0g9PoYqQD9/WPKVvipAXPCemaGXI0D2jVaOm9YkQKebl2UaqyBAD6Hgoq/3IEAPG8OpTuwdQIbGPJUh9xRA",
           "dtype": "f8"
          },
          "sizemode": "area",
          "sizeref": 0.05390925598794083,
          "symbol": "circle"
         },
         "mode": "markers",
         "name": "fp16",
         "orientation": "v",
         "showlegend": true,
         "type": "scatter",
         "x": {
          "bdata": "AAAAAIioHEAAAACAxmYcQAAAAADuKjpAAAAAoH0aOkAAAAAA951HQAAAANC+lUdAAAAAgDtJVUAAAABoH0VVQAAAAIBrSF1AAAAAaE9EXUAAAADAjY1jQAAAALR/i2NA",
          "dtype": "f8"
         },
         "xaxis": "x",
         "y": {
          "bdata": "lKTfFdr9NECP9dfMTpA1QHEjFHg06DFAM2Bnmju+MkBkQ0g9PoYqQD9/WPKVvipAXPCemaGXI0D2jVaOm9YkQKebl2UaqyBAD6Hgoq/3IEAPG8OpTuwdQIbGPJUh9xRA",
          "dtype": "f8"
         },
         "yaxis": "y"
        },
        {
         "customdata": [
          [
           "seg_b0_ade",
           "seg_b0_ade\\20250911_173448_000015\\seg_b0_ade\\comparison_seg_b0_ade.json",
           "seg_b0_ade\\20250911_173448_000015"
          ],
          [
           "seg_b0_city",
           "seg_b0_city\\20250911_173453_000016\\seg_b0_city\\comparison_seg_b0_city.json",
           "seg_b0_city\\20250911_173453_000016"
          ],
          [
           "seg_b1_ade",
           "seg_b1_ade\\20250911_173458_000017\\seg_b1_ade\\comparison_seg_b1_ade.json",
           "seg_b1_ade\\20250911_173458_000017"
          ],
          [
           "seg_b1_city",
           "seg_b1_city\\20250911_173504_000018\\seg_b1_city\\comparison_seg_b1_city.json",
           "seg_b1_city\\20250911_173504_000018"
          ],
          [
           "seg_b2_ade",
           "seg_b2_ade\\20250911_173511_000019\\seg_b2_ade\\comparison_seg_b2_ade.json",
           "seg_b2_ade\\20250911_173511_000019"
          ],
          [
           "seg_b2_city",
           "seg_b2_city\\20250911_173521_000020\\seg_b2_city\\comparison_seg_b2_city.json",
           "seg_b2_city\\20250911_173521_000020"
          ],
          [
           "seg_b3_ade",
           "seg_b3_ade\\20250911_173532_000021\\seg_b3_ade\\comparison_seg_b3_ade.json",
           "seg_b3_ade\\20250911_173532_000021"
          ],
          [
           "seg_b3_city",
           "seg_b3_city\\20250911_173548_000022\\seg_b3_city\\comparison_seg_b3_city.json",
           "seg_b3_city\\20250911_173548_000022"
          ],
          [
           "seg_b4_ade",
           "seg_b4_ade\\20250911_173605_000023\\seg_b4_ade\\comparison_seg_b4_ade.json",
           "seg_b4_ade\\20250911_173605_000023"
          ],
          [
           "seg_b4_city",
           "seg_b4_city\\20250911_173626_000024\\seg_b4_city\\comparison_seg_b4_city.json",
           "seg_b4_city\\20250911_173626_000024"
          ],
          [
           "seg_b5_ade",
           "seg_b5_ade\\20250911_173650_000025\\seg_b5_ade\\comparison_seg_b5_ade.json",
           "seg_b5_ade\\20250911_173650_000025"
          ],
          [
           "seg_b5_city",
           "seg_b5_city\\20250911_173721_000026\\seg_b5_city\\comparison_seg_b5_city.json",
           "seg_b5_city\\20250911_173721_000026"
          ]
         ],
         "hovertemplate": "variant=int8<br>model_size_mb=%{x}<br>fps=%{marker.size}<br>model=%{customdata[0]}<br>filepath=%{customdata[1]}<br>session=%{customdata[2]}<extra></extra>",
         "legendgroup": "int8",
         "marker": {
          "color": "#00cc96",
          "size": {
           "bdata": "WzalSNl0KEB4mwO2AIYpQCpuaECVaSRA1HA/t4kMJEB15xjMFyocQINtAAKBVh1AEQS0pwSjFkDZxFKDBp8WQFuMAB5LKhJAFxed+yh/EkD0SfeenjcPQDHtYODHIQtA",
           "dtype": "f8"
          },
          "sizemode": "area",
          "sizeref": 0.05390925598794083,
          "symbol": "circle"
         },
         "mode": "markers",
         "name": "int8",
         "orientation": "v",
         "showlegend": true,
         "type": "scatter",
         "x": {
          "bdata": "AAAAAIOoLEAAAACAwWYsQAAAAMDsKkpAAAAAYHwaSkAAAABg9p1XQAAAADC+lVdAAAAAMDtJZUAAAAAYH0VlQAAAADBrSG1AAAAAGE9EbUAAAACYjY1zQAAAAIx/i3NA",
          "dtype": "f8"
         },
         "xaxis": "x",
         "y": {
          "bdata": "WzalSNl0KEB4mwO2AIYpQCpuaECVaSRA1HA/t4kMJEB15xjMFyocQINtAAKBVh1AEQS0pwSjFkDZxFKDBp8WQFuMAB5LKhJAFxed+yh/EkD0SfeenjcPQDHtYODHIQtA",
          "dtype": "f8"
         },
         "yaxis": "y"
        },
        {
         "customdata": [
          [
           "seg_b0_ade",
           "seg_b0_ade\\20250911_173448_000015\\seg_b0_ade\\comparison_seg_b0_ade.json",
           "seg_b0_ade\\20250911_173448_000015"
          ],
          [
           "seg_b0_city",
           "seg_b0_city\\20250911_173453_000016\\seg_b0_city\\comparison_seg_b0_city.json",
           "seg_b0_city\\20250911_173453_000016"
          ],
          [
           "seg_b1_ade",
           "seg_b1_ade\\20250911_173458_000017\\seg_b1_ade\\comparison_seg_b1_ade.json",
           "seg_b1_ade\\20250911_173458_000017"
          ],
          [
           "seg_b1_city",
           "seg_b1_city\\20250911_173504_000018\\seg_b1_city\\comparison_seg_b1_city.json",
           "seg_b1_city\\20250911_173504_000018"
          ],
          [
           "seg_b2_ade",
           "seg_b2_ade\\20250911_173511_000019\\seg_b2_ade\\comparison_seg_b2_ade.json",
           "seg_b2_ade\\20250911_173511_000019"
          ],
          [
           "seg_b2_city",
           "seg_b2_city\\20250911_173521_000020\\seg_b2_city\\comparison_seg_b2_city.json",
           "seg_b2_city\\20250911_173521_000020"
          ],
          [
           "seg_b3_ade",
           "seg_b3_ade\\20250911_173532_000021\\seg_b3_ade\\comparison_seg_b3_ade.json",
           "seg_b3_ade\\20250911_173532_000021"
          ],
          [
           "seg_b3_city",
           "seg_b3_city\\20250911_173548_000022\\seg_b3_city\\comparison_seg_b3_city.json",
           "seg_b3_city\\20250911_173548_000022"
          ],
          [
           "seg_b4_ade",
           "seg_b4_ade\\20250911_173605_000023\\seg_b4_ade\\comparison_seg_b4_ade.json",
           "seg_b4_ade\\20250911_173605_000023"
          ],
          [
           "seg_b4_city",
           "seg_b4_city\\20250911_173626_000024\\seg_b4_city\\comparison_seg_b4_city.json",
           "seg_b4_city\\20250911_173626_000024"
          ],
          [
           "seg_b5_ade",
           "seg_b5_ade\\20250911_173650_000025\\seg_b5_ade\\comparison_seg_b5_ade.json",
           "seg_b5_ade\\20250911_173650_000025"
          ],
          [
           "seg_b5_city",
           "seg_b5_city\\20250911_173721_000026\\seg_b5_city\\comparison_seg_b5_city.json",
           "seg_b5_city\\20250911_173721_000026"
          ]
         ],
         "hovertemplate": "variant=batch<br>model_size_mb=%{x}<br>fps=%{marker.size}<br>model=%{customdata[0]}<br>filepath=%{customdata[1]}<br>session=%{customdata[2]}<extra></extra>",
         "legendgroup": "batch",
         "marker": {
          "color": "#ab63fa",
          "size": {
           "bdata": "zPQk5TqMKkAVSBXlepUrQO6NFTnCOCZA/vHFLd7BJkCoCJxeE+8fQEexCEcyhyBA3NQWNol3GUCmku74MLsZQPqGgyZfORJApgyDV5HbEkCyMn7o44UOQBGfjPiPfg9A",
           "dtype": "f8"
          },
          "sizemode": "area",
          "sizeref": 0.05390925598794083,
          "symbol": "circle"
         },
         "mode": "markers",
         "name": "batch",
         "orientation": "v",
         "showlegend": true,
         "type": "scatter",
         "x": {
          "bdata": "AAAAAIOoLEAAAACAwWYsQAAAAMDsKkpAAAAAYHwaSkAAAABg9p1XQAAAADC+lVdAAAAAMDtJZUAAAAAYH0VlQAAAADBrSG1AAAAAGE9EbUAAAACYjY1zQAAAAIx/i3NA",
          "dtype": "f8"
         },
         "xaxis": "x",
         "y": {
          "bdata": "zPQk5TqMKkAVSBXlepUrQO6NFTnCOCZA/vHFLd7BJkCoCJxeE+8fQEexCEcyhyBA3NQWNol3GUCmku74MLsZQPqGgyZfORJApgyDV5HbEkCyMn7o44UOQBGfjPiPfg9A",
          "dtype": "f8"
         },
         "yaxis": "y"
        }
       ],
       "layout": {
        "legend": {
         "itemsizing": "constant",
         "title": {
          "text": "variant"
         },
         "tracegroupgap": 0
        },
        "template": {
         "data": {
          "bar": [
           {
            "error_x": {
             "color": "#2a3f5f"
            },
            "error_y": {
             "color": "#2a3f5f"
            },
            "marker": {
             "line": {
              "color": "#E5ECF6",
              "width": 0.5
             },
             "pattern": {
              "fillmode": "overlay",
              "size": 10,
              "solidity": 0.2
             }
            },
            "type": "bar"
           }
          ],
          "barpolar": [
           {
            "marker": {
             "line": {
              "color": "#E5ECF6",
              "width": 0.5
             },
             "pattern": {
              "fillmode": "overlay",
              "size": 10,
              "solidity": 0.2
             }
            },
            "type": "barpolar"
           }
          ],
          "carpet": [
           {
            "aaxis": {
             "endlinecolor": "#2a3f5f",
             "gridcolor": "white",
             "linecolor": "white",
             "minorgridcolor": "white",
             "startlinecolor": "#2a3f5f"
            },
            "baxis": {
             "endlinecolor": "#2a3f5f",
             "gridcolor": "white",
             "linecolor": "white",
             "minorgridcolor": "white",
             "startlinecolor": "#2a3f5f"
            },
            "type": "carpet"
           }
          ],
          "choropleth": [
           {
            "colorbar": {
             "outlinewidth": 0,
             "ticks": ""
            },
            "type": "choropleth"
           }
          ],
          "contour": [
           {
            "colorbar": {
             "outlinewidth": 0,
             "ticks": ""
            },
            "colorscale": [
             [
              0,
              "#0d0887"
             ],
             [
              0.1111111111111111,
              "#46039f"
             ],
             [
              0.2222222222222222,
              "#7201a8"
             ],
             [
              0.3333333333333333,
              "#9c179e"
             ],
             [
              0.4444444444444444,
              "#bd3786"
             ],
             [
              0.5555555555555556,
              "#d8576b"
             ],
             [
              0.6666666666666666,
              "#ed7953"
             ],
             [
              0.7777777777777778,
              "#fb9f3a"
             ],
             [
              0.8888888888888888,
              "#fdca26"
             ],
             [
              1,
              "#f0f921"
             ]
            ],
            "type": "contour"
           }
          ],
          "contourcarpet": [
           {
            "colorbar": {
             "outlinewidth": 0,
             "ticks": ""
            },
            "type": "contourcarpet"
           }
          ],
          "heatmap": [
           {
            "colorbar": {
             "outlinewidth": 0,
             "ticks": ""
            },
            "colorscale": [
             [
              0,
              "#0d0887"
             ],
             [
              0.1111111111111111,
              "#46039f"
             ],
             [
              0.2222222222222222,
              "#7201a8"
             ],
             [
              0.3333333333333333,
              "#9c179e"
             ],
             [
              0.4444444444444444,
              "#bd3786"
             ],
             [
              0.5555555555555556,
              "#d8576b"
             ],
             [
              0.6666666666666666,
              "#ed7953"
             ],
             [
              0.7777777777777778,
              "#fb9f3a"
             ],
             [
              0.8888888888888888,
              "#fdca26"
             ],
             [
              1,
              "#f0f921"
             ]
            ],
            "type": "heatmap"
           }
          ],
          "histogram": [
           {
            "marker": {
             "pattern": {
              "fillmode": "overlay",
              "size": 10,
              "solidity": 0.2
             }
            },
            "type": "histogram"
           }
          ],
          "histogram2d": [
           {
            "colorbar": {
             "outlinewidth": 0,
             "ticks": ""
            },
            "colorscale": [
             [
              0,
              "#0d0887"
             ],
             [
              0.1111111111111111,
              "#46039f"
             ],
             [
              0.2222222222222222,
              "#7201a8"
             ],
             [
              0.3333333333333333,
              "#9c179e"
             ],
             [
              0.4444444444444444,
              "#bd3786"
             ],
             [
              0.5555555555555556,
              "#d8576b"
             ],
             [
              0.6666666666666666,
              "#ed7953"
             ],
             [
              0.7777777777777778,
              "#fb9f3a"
             ],
             [
              0.8888888888888888,
              "#fdca26"
             ],
             [
              1,
              "#f0f921"
             ]
            ],
            "type": "histogram2d"
           }
          ],
          "histogram2dcontour": [
           {
            "colorbar": {
             "outlinewidth": 0,
             "ticks": ""
            },
            "colorscale": [
             [
              0,
              "#0d0887"
             ],
             [
              0.1111111111111111,
              "#46039f"
             ],
             [
              0.2222222222222222,
              "#7201a8"
             ],
             [
              0.3333333333333333,
              "#9c179e"
             ],
             [
              0.4444444444444444,
              "#bd3786"
             ],
             [
              0.5555555555555556,
              "#d8576b"
             ],
             [
              0.6666666666666666,
              "#ed7953"
             ],
             [
              0.7777777777777778,
              "#fb9f3a"
             ],
             [
              0.8888888888888888,
              "#fdca26"
             ],
             [
              1,
              "#f0f921"
             ]
            ],
            "type": "histogram2dcontour"
           }
          ],
          "mesh3d": [
           {
            "colorbar": {
             "outlinewidth": 0,
             "ticks": ""
            },
            "type": "mesh3d"
           }
          ],
          "parcoords": [
           {
            "line": {
             "colorbar": {
              "outlinewidth": 0,
              "ticks": ""
             }
            },
            "type": "parcoords"
           }
          ],
          "pie": [
           {
            "automargin": true,
            "type": "pie"
           }
          ],
          "scatter": [
           {
            "fillpattern": {
             "fillmode": "overlay",
             "size": 10,
             "solidity": 0.2
            },
            "type": "scatter"
           }
          ],
          "scatter3d": [
           {
            "line": {
             "colorbar": {
              "outlinewidth": 0,
              "ticks": ""
             }
            },
            "marker": {
             "colorbar": {
              "outlinewidth": 0,
              "ticks": ""
             }
            },
            "type": "scatter3d"
           }
          ],
          "scattercarpet": [
           {
            "marker": {
             "colorbar": {
              "outlinewidth": 0,
              "ticks": ""
             }
            },
            "type": "scattercarpet"
           }
          ],
          "scattergeo": [
           {
            "marker": {
             "colorbar": {
              "outlinewidth": 0,
              "ticks": ""
             }
            },
            "type": "scattergeo"
           }
          ],
          "scattergl": [
           {
            "marker": {
             "colorbar": {
              "outlinewidth": 0,
              "ticks": ""
             }
            },
            "type": "scattergl"
           }
          ],
          "scattermap": [
           {
            "marker": {
             "colorbar": {
              "outlinewidth": 0,
              "ticks": ""
             }
            },
            "type": "scattermap"
           }
          ],
          "scattermapbox": [
           {
            "marker": {
             "colorbar": {
              "outlinewidth": 0,
              "ticks": ""
             }
            },
            "type": "scattermapbox"
           }
          ],
          "scatterpolar": [
           {
            "marker": {
             "colorbar": {
              "outlinewidth": 0,
              "ticks": ""
             }
            },
            "type": "scatterpolar"
           }
          ],
          "scatterpolargl": [
           {
            "marker": {
             "colorbar": {
              "outlinewidth": 0,
              "ticks": ""
             }
            },
            "type": "scatterpolargl"
           }
          ],
          "scatterternary": [
           {
            "marker": {
             "colorbar": {
              "outlinewidth": 0,
              "ticks": ""
             }
            },
            "type": "scatterternary"
           }
          ],
          "surface": [
           {
            "colorbar": {
             "outlinewidth": 0,
             "ticks": ""
            },
            "colorscale": [
             [
              0,
              "#0d0887"
             ],
             [
              0.1111111111111111,
              "#46039f"
             ],
             [
              0.2222222222222222,
              "#7201a8"
             ],
             [
              0.3333333333333333,
              "#9c179e"
             ],
             [
              0.4444444444444444,
              "#bd3786"
             ],
             [
              0.5555555555555556,
              "#d8576b"
             ],
             [
              0.6666666666666666,
              "#ed7953"
             ],
             [
              0.7777777777777778,
              "#fb9f3a"
             ],
             [
              0.8888888888888888,
              "#fdca26"
             ],
             [
              1,
              "#f0f921"
             ]
            ],
            "type": "surface"
           }
          ],
          "table": [
           {
            "cells": {
             "fill": {
              "color": "#EBF0F8"
             },
             "line": {
              "color": "white"
             }
            },
            "header": {
             "fill": {
              "color": "#C8D4E3"
             },
             "line": {
              "color": "white"
             }
            },
            "type": "table"
           }
          ]
         },
         "layout": {
          "annotationdefaults": {
           "arrowcolor": "#2a3f5f",
           "arrowhead": 0,
           "arrowwidth": 1
          },
          "autotypenumbers": "strict",
          "coloraxis": {
           "colorbar": {
            "outlinewidth": 0,
            "ticks": ""
           }
          },
          "colorscale": {
           "diverging": [
            [
             0,
             "#8e0152"
            ],
            [
             0.1,
             "#c51b7d"
            ],
            [
             0.2,
             "#de77ae"
            ],
            [
             0.3,
             "#f1b6da"
            ],
            [
             0.4,
             "#fde0ef"
            ],
            [
             0.5,
             "#f7f7f7"
            ],
            [
             0.6,
             "#e6f5d0"
            ],
            [
             0.7,
             "#b8e186"
            ],
            [
             0.8,
             "#7fbc41"
            ],
            [
             0.9,
             "#4d9221"
            ],
            [
             1,
             "#276419"
            ]
           ],
           "sequential": [
            [
             0,
             "#0d0887"
            ],
            [
             0.1111111111111111,
             "#46039f"
            ],
            [
             0.2222222222222222,
             "#7201a8"
            ],
            [
             0.3333333333333333,
             "#9c179e"
            ],
            [
             0.4444444444444444,
             "#bd3786"
            ],
            [
             0.5555555555555556,
             "#d8576b"
            ],
            [
             0.6666666666666666,
             "#ed7953"
            ],
            [
             0.7777777777777778,
             "#fb9f3a"
            ],
            [
             0.8888888888888888,
             "#fdca26"
            ],
            [
             1,
             "#f0f921"
            ]
           ],
           "sequentialminus": [
            [
             0,
             "#0d0887"
            ],
            [
             0.1111111111111111,
             "#46039f"
            ],
            [
             0.2222222222222222,
             "#7201a8"
            ],
            [
             0.3333333333333333,
             "#9c179e"
            ],
            [
             0.4444444444444444,
             "#bd3786"
            ],
            [
             0.5555555555555556,
             "#d8576b"
            ],
            [
             0.6666666666666666,
             "#ed7953"
            ],
            [
             0.7777777777777778,
             "#fb9f3a"
            ],
            [
             0.8888888888888888,
             "#fdca26"
            ],
            [
             1,
             "#f0f921"
            ]
           ]
          },
          "colorway": [
           "#636efa",
           "#EF553B",
           "#00cc96",
           "#ab63fa",
           "#FFA15A",
           "#19d3f3",
           "#FF6692",
           "#B6E880",
           "#FF97FF",
           "#FECB52"
          ],
          "font": {
           "color": "#2a3f5f"
          },
          "geo": {
           "bgcolor": "white",
           "lakecolor": "white",
           "landcolor": "#E5ECF6",
           "showlakes": true,
           "showland": true,
           "subunitcolor": "white"
          },
          "hoverlabel": {
           "align": "left"
          },
          "hovermode": "closest",
          "mapbox": {
           "style": "light"
          },
          "paper_bgcolor": "white",
          "plot_bgcolor": "#E5ECF6",
          "polar": {
           "angularaxis": {
            "gridcolor": "white",
            "linecolor": "white",
            "ticks": ""
           },
           "bgcolor": "#E5ECF6",
           "radialaxis": {
            "gridcolor": "white",
            "linecolor": "white",
            "ticks": ""
           }
          },
          "scene": {
           "xaxis": {
            "backgroundcolor": "#E5ECF6",
            "gridcolor": "white",
            "gridwidth": 2,
            "linecolor": "white",
            "showbackground": true,
            "ticks": "",
            "zerolinecolor": "white"
           },
           "yaxis": {
            "backgroundcolor": "#E5ECF6",
            "gridcolor": "white",
            "gridwidth": 2,
            "linecolor": "white",
            "showbackground": true,
            "ticks": "",
            "zerolinecolor": "white"
           },
           "zaxis": {
            "backgroundcolor": "#E5ECF6",
            "gridcolor": "white",
            "gridwidth": 2,
            "linecolor": "white",
            "showbackground": true,
            "ticks": "",
            "zerolinecolor": "white"
           }
          },
          "shapedefaults": {
           "line": {
            "color": "#2a3f5f"
           }
          },
          "ternary": {
           "aaxis": {
            "gridcolor": "white",
            "linecolor": "white",
            "ticks": ""
           },
           "baxis": {
            "gridcolor": "white",
            "linecolor": "white",
            "ticks": ""
           },
           "bgcolor": "#E5ECF6",
           "caxis": {
            "gridcolor": "white",
            "linecolor": "white",
            "ticks": ""
           }
          },
          "title": {
           "x": 0.05
          },
          "xaxis": {
           "automargin": true,
           "gridcolor": "white",
           "linecolor": "white",
           "ticks": "",
           "title": {
            "standoff": 15
           },
           "zerolinecolor": "white",
           "zerolinewidth": 2
          },
          "yaxis": {
           "automargin": true,
           "gridcolor": "white",
           "linecolor": "white",
           "ticks": "",
           "title": {
            "standoff": 15
           },
           "zerolinecolor": "white",
           "zerolinewidth": 2
          }
         }
        },
        "title": {
         "text": "Model size (MB) vs FPS"
        },
        "xaxis": {
         "anchor": "y",
         "domain": [
          0,
          1
         ],
         "title": {
          "text": "model_size_mb"
         }
        },
        "yaxis": {
         "anchor": "x",
         "domain": [
          0,
          1
         ],
         "title": {
          "text": "fps"
         }
        }
       }
      }
     },
     "metadata": {},
     "output_type": "display_data"
    },
    {
     "name": "stdout",
     "output_type": "stream",
     "text": [
      "Done.\n"
     ]
    }
   ],
   "source": [
    "# Scan optimized_models for comparison_*.json but only use the latest session per model — only direct folders named \"seg_*\" — aggregate and plot with Plotly\n",
    "import json\n",
    "from pathlib import Path\n",
    "import pandas as pd\n",
    "import plotly.express as px\n",
    "\n",
    "# root should be the optimized_models folder (not the repo root)\n",
    "root = Path(\"./\")\n",
    "\n",
    "rows = []\n",
    "# iterate immediate child model folders whose name starts with 'seg_'\n",
    "model_folders = sorted([p for p in root.iterdir() if p.is_dir() and p.name.startswith('seg_')])\n",
    "for model_dir in model_folders:\n",
    "    # find session subfolders inside the model_dir (e.g., 20250910_204734_000015)\n",
    "    session_dirs = [d for d in model_dir.iterdir() if d.is_dir()]\n",
    "    if not session_dirs:\n",
    "        # sometimes files may be directly inside; check for comparison files directly\n",
    "        candidates = list(model_dir.rglob('comparison_*.json'))\n",
    "        if not candidates:\n",
    "            continue\n",
    "        latest_session_root = model_dir\n",
    "    else:\n",
    "        # choose the latest session by folder name (YYYYMMDD... lexicographical order works)\n",
    "        # choose session by index: 1 = latest, 2 = second latest, etc. (lexicographical order)\n",
    "        session_dirs_sorted = sorted(session_dirs, key=lambda d: d.name)\n",
    "        session_index = 1  # 1 = latest, 2 = second latest, etc.\n",
    "        if len(session_dirs_sorted) < session_index:\n",
    "            continue  # skip if not enough sessions\n",
    "        latest_session = session_dirs_sorted[-session_index]\n",
    "        latest_session_root = latest_session\n",
    "\n",
    "    # search within the latest session root for comparison_*.json files\n",
    "    found = list(latest_session_root.rglob('comparison_*.json'))\n",
    "    if not found:\n",
    "        # if nothing found, try one level deeper (some layouts have an extra model-named folder)\n",
    "        deeper = []\n",
    "        for child in latest_session_root.iterdir():\n",
    "            if child.is_dir():\n",
    "                deeper.extend(child.rglob('comparison_*.json'))\n",
    "        found = deeper\n",
    "\n",
    "    if not found:\n",
    "        # nothing to process for this model\n",
    "        print(f\"No comparison_*.json for model folder {model_dir.name} (checked latest session {latest_session_root})\")\n",
    "        continue\n",
    "\n",
    "    # process all comparison files found in the chosen latest session\n",
    "    for p in found:\n",
    "        try:\n",
    "            data = json.loads(p.read_text(encoding='utf-8'))\n",
    "        except Exception as e:\n",
    "            # print(f\"Skipping {p}: {e}\")\n",
    "            continue\n",
    "        model_label = model_dir.name\n",
    "        # flatten the metrics\n",
    "        for variant, metrics in data.items():\n",
    "            row = dict(model=model_label, variant=variant, filepath=str(p), session=str(latest_session_root))\n",
    "            if not isinstance(metrics, dict):\n",
    "                # safety: sometimes JSON may be a list/other\n",
    "                # print(f\" Skipping {p} - invalid metrics format for variant {variant}\")\n",
    "                continue\n",
    "            for k, v in metrics.items():\n",
    "                row[k] = v\n",
    "            rows.append(row)\n",
    "\n",
    "if not rows:\n",
    "    print('No comparison_*.json files found under', root, 'for latest sessions of seg_* folders')\n",
    "else:\n",
    "    df = pd.DataFrame(rows)\n",
    "    # tidy up model names\n",
    "    df['model'] = df['model'].astype(str)\n",
    "    df['batch_size'] = df['batch_size'].fillna(1).astype(int)\n",
    "    # Remove 'filepath' and 'session' columns for visualization only\n",
    "    df_vis = df.drop(columns=['filepath', 'session'])\n",
    "    display(df_vis)\n",
    "\n",
    "    # Plot: FPS by model and variant\n",
    "    if 'fps' in df.columns:\n",
    "        fig1 = px.bar(df, x='model', y='fps', color='variant', barmode='group', title='FPS by model and variant')\n",
    "        fig1.show()\n",
    "\n",
    "    # Plot: inference time ms by model and variant\n",
    "    if 'avg_inference_time_ms' in df.columns:\n",
    "        fig2 = px.bar(df, x='model', y='avg_inference_time_ms', color='variant', barmode='group', title='Avg inference time (ms) by model and variant')\n",
    "        fig2.update_yaxes(type='log')\n",
    "        fig2.show()\n",
    "\n",
    "    # Scatter: model size vs fps\n",
    "    if 'model_size_mb' in df.columns and 'fps' in df.columns:\n",
    "        fig3 = px.scatter(df, x='model_size_mb', y='fps', color='variant', hover_data=['model', 'filepath', 'session'], size='fps', title='Model size (MB) vs FPS')\n",
    "        fig3.show()\n",
    "\n",
    "    print('Done.')"
   ]
  }
 ],
 "metadata": {
  "kernelspec": {
   "display_name": "Python 3",
   "language": "python",
   "name": "python3"
  },
  "language_info": {
   "codemirror_mode": {
    "name": "ipython",
    "version": 3
   },
   "file_extension": ".py",
   "mimetype": "text/x-python",
   "name": "python",
   "nbconvert_exporter": "python",
   "pygments_lexer": "ipython3",
   "version": "3.11.9"
  }
 },
 "nbformat": 4,
 "nbformat_minor": 5
}
